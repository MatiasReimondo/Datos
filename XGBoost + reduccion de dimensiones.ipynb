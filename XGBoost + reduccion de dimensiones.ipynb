{
 "cells": [
  {
   "cell_type": "code",
   "execution_count": 1,
   "metadata": {
    "collapsed": true
   },
   "outputs": [],
   "source": [
    "import numpy as np\n",
    "import pandas as pd\n",
    "\n",
    "from xgboost import XGBClassifier\n",
    "from sklearn.model_selection import train_test_split\n",
    "from sklearn.metrics import accuracy_score\n",
    "from sklearn.metrics import mean_squared_error\n",
    "from sklearn.metrics import median_absolute_error\n",
    "\n",
    "from sklearn.decomposition import PCA"
   ]
  },
  {
   "cell_type": "code",
   "execution_count": 2,
   "metadata": {
    "collapsed": true
   },
   "outputs": [],
   "source": [
    "properties = pd.read_csv('trainPreProcess.csv')\n",
    "testing = pd.read_csv('testPreProcess.csv')"
   ]
  },
  {
   "cell_type": "code",
   "execution_count": 3,
   "metadata": {},
   "outputs": [
    {
     "name": "stdout",
     "output_type": "stream",
     "text": [
      "price                       1.000000e+00\n",
      "rooms                       9.802429e-02\n",
      "surface_total_in_m2         9.626074e-02\n",
      "floor                       3.890244e-02\n",
      "lat                         3.526365e-02\n",
      "Unnamed: 0                  2.109986e-02\n",
      "place_name_encoded          1.402869e-02\n",
      "surface_covered_in_m2       3.587126e-03\n",
      "distancia_minima_publico    1.648668e-14\n",
      "distancia_minima_privado    2.767686e-15\n",
      "distancia_obelisco         -2.193523e-04\n",
      "distancia_minima_subte     -1.530052e-03\n",
      "state_name_encoded         -9.959947e-03\n",
      "lon                        -1.226738e-02\n",
      "property_type_encoded      -3.582329e-02\n",
      "Name: price, dtype: float64\n"
     ]
    }
   ],
   "source": [
    "corr = properties.corr()\n",
    "corr.sort_values([\"price\"], ascending = False, inplace = True)\n",
    "print(corr.price)"
   ]
  },
  {
   "cell_type": "code",
   "execution_count": 4,
   "metadata": {
    "collapsed": true
   },
   "outputs": [],
   "source": [
    "#tomo pocos datos porque se hace muy lento el algoritmo si no (por ahora)\n",
    "trainorig = properties.sample(2000)\n",
    "testorig = testing"
   ]
  },
  {
   "cell_type": "code",
   "execution_count": 5,
   "metadata": {
    "collapsed": true
   },
   "outputs": [],
   "source": [
    "#quito unnamed:0 y created_on, y dejo price al final, id al principio\n",
    "#train = train.loc[:, ['id', 'property_type_encoded', 'place_name_encoded', 'state_name_encoded', 'lat', 'lon', 'surface_covered_in_m2', 'surface_total_in_m2', 'floor', 'rooms', 'distancia_obelisco', 'distancia_minima_subte', 'distancia_minima_privado', 'distancia_minima_publico', 'price']]\n",
    "\n",
    "#OPTIMIZACION: quito distancias, lon, state_name_encoded y property_type_encoded\n",
    "#train = train.loc[:, ['id', 'place_name_encoded', 'lat', 'surface_covered_in_m2', 'surface_total_in_m2', 'floor', 'rooms', 'price']]\n",
    "#test = test.loc[:, ['id', 'place_name_encoded', 'lat', 'surface_covered_in_m2', 'surface_total_in_m2', 'floor', 'rooms']]"
   ]
  },
  {
   "cell_type": "code",
   "execution_count": 6,
   "metadata": {},
   "outputs": [
    {
     "name": "stdout",
     "output_type": "stream",
     "text": [
      "<class 'pandas.core.frame.DataFrame'>\n",
      "Int64Index: 2000 entries, 96280 to 100285\n",
      "Data columns (total 6 columns):\n",
      "dato1    2000 non-null float64\n",
      "dato2    2000 non-null float64\n",
      "dato3    2000 non-null float64\n",
      "dato4    2000 non-null float64\n",
      "dato5    2000 non-null float64\n",
      "price    2000 non-null float64\n",
      "dtypes: float64(6)\n",
      "memory usage: 109.4 KB\n"
     ]
    }
   ],
   "source": [
    "train = trainorig.loc[:, ['property_type_encoded', 'place_name_encoded', 'state_name_encoded', 'lat', 'lon', 'surface_covered_in_m2', 'surface_total_in_m2', 'floor', 'rooms', 'distancia_obelisco', 'distancia_minima_subte', 'distancia_minima_privado', 'distancia_minima_publico']]\n",
    "\n",
    "pca = PCA(n_components=5)\n",
    "pca.fit(train)\n",
    "\n",
    "PCA(copy=True, n_components=5, whiten=False)\n",
    "train_5d = pca.transform(train)\n",
    "train_5d = pd.DataFrame(train_5d)\n",
    "train_5d.index = train.index\n",
    "train_5d.columns = ['dato1','dato2','dato3','dato4','dato5']\n",
    "train_5d['price'] = trainorig['price']\n",
    "train_5d.info()"
   ]
  },
  {
   "cell_type": "code",
   "execution_count": 7,
   "metadata": {},
   "outputs": [
    {
     "name": "stdout",
     "output_type": "stream",
     "text": [
      "<class 'pandas.core.frame.DataFrame'>\n",
      "RangeIndex: 14166 entries, 0 to 14165\n",
      "Data columns (total 6 columns):\n",
      "dato1    14166 non-null float64\n",
      "dato2    14166 non-null float64\n",
      "dato3    14166 non-null float64\n",
      "dato4    14166 non-null float64\n",
      "dato5    14166 non-null float64\n",
      "id       14166 non-null int64\n",
      "dtypes: float64(5), int64(1)\n",
      "memory usage: 664.1 KB\n"
     ]
    }
   ],
   "source": [
    "test = testorig.loc[:, ['property_type_encoded', 'place_name_encoded', 'state_name_encoded', 'lat', 'lon', 'surface_covered_in_m2', 'surface_total_in_m2', 'floor', 'rooms', 'distancia_obelisco', 'distancia_minima_subte', 'distancia_minima_privado', 'distancia_minima_publico']]\n",
    "\n",
    "pca = PCA(n_components=5)\n",
    "pca.fit(test)\n",
    "\n",
    "PCA(copy=True, n_components=5, whiten=False)\n",
    "test_5d = pca.transform(test)\n",
    "test_5d = pd.DataFrame(test_5d)\n",
    "test_5d.index = test.index\n",
    "test_5d.columns = ['dato1','dato2','dato3','dato4','dato5']\n",
    "test_5d['id'] = testorig['id']\n",
    "test_5d.info()"
   ]
  },
  {
   "cell_type": "code",
   "execution_count": 8,
   "metadata": {
    "collapsed": true
   },
   "outputs": [],
   "source": [
    "#XGBoost funciona con matrices, no con Df\n",
    "#train = train.as_matrix()\n",
    "#test = test.as_matrix()\n",
    "\n",
    "train = train_5d.as_matrix()\n",
    "test = test_5d.as_matrix()"
   ]
  },
  {
   "cell_type": "code",
   "execution_count": 9,
   "metadata": {
    "collapsed": true
   },
   "outputs": [],
   "source": [
    "#OPTIMIZACION: quite n columnas\n",
    "#X_train = train[:,0:14-n]\n",
    "#Y_train = train[:,14-n+1]\n",
    "#X_test = test[:,0:14-n]\n",
    "\n",
    "X_train = train[:,0:4]\n",
    "Y_train = train[:,5]\n",
    "X_test = test[:,0:4]"
   ]
  },
  {
   "cell_type": "code",
   "execution_count": 10,
   "metadata": {
    "collapsed": true
   },
   "outputs": [],
   "source": [
    "#tomo los ids del test aparte para despues\n",
    "#test_ids = X_test[:,0]\n",
    "test_ids = test[:,5]"
   ]
  },
  {
   "cell_type": "code",
   "execution_count": 11,
   "metadata": {
    "collapsed": true
   },
   "outputs": [],
   "source": [
    "#quito los ids de los sets, XGBoost solo trabaja con floats e ints\n",
    "#X_test = X_test[:,1:14]\n",
    "#X_train = X_train[:,1:14]\n",
    "\n",
    "#OPTIMIZACION: quite 3 columnas\n",
    "#X_test = X_test[:,1:11]\n",
    "#X_train = X_train[:,1:11]"
   ]
  },
  {
   "cell_type": "code",
   "execution_count": 12,
   "metadata": {},
   "outputs": [
    {
     "data": {
      "text/plain": [
       "XGBClassifier(base_score=0.5, booster='gbtree', colsample_bylevel=1,\n",
       "       colsample_bytree=1, gamma=0, learning_rate=0.1, max_delta_step=0,\n",
       "       max_depth=3, min_child_weight=1, missing=None, n_estimators=100,\n",
       "       n_jobs=1, nthread=None, objective='multi:softprob', random_state=0,\n",
       "       reg_alpha=0, reg_lambda=1, scale_pos_weight=1, seed=None,\n",
       "       silent=True, subsample=1)"
      ]
     },
     "execution_count": 12,
     "metadata": {},
     "output_type": "execute_result"
    }
   ],
   "source": [
    "#armo el modelo (va a tomarse su tiempo con mas de 1000)\n",
    "model = XGBClassifier(n_estimators=100, max_depth=3)\n",
    "model.fit(X_train, Y_train)"
   ]
  },
  {
   "cell_type": "code",
   "execution_count": 18,
   "metadata": {
    "collapsed": true
   },
   "outputs": [],
   "source": [
    "predictions = model.predict(X_test)"
   ]
  },
  {
   "cell_type": "code",
   "execution_count": 19,
   "metadata": {
    "collapsed": true
   },
   "outputs": [],
   "source": [
    "#score = mean_squared_error(Y_test, predictions)\n",
    "#score"
   ]
  },
  {
   "cell_type": "code",
   "execution_count": 20,
   "metadata": {
    "collapsed": true
   },
   "outputs": [],
   "source": [
    "#median_absolute_error(Y_test, predictions)"
   ]
  },
  {
   "cell_type": "code",
   "execution_count": 21,
   "metadata": {
    "collapsed": true
   },
   "outputs": [],
   "source": [
    "#armo un csv con id, precio real, y precio predicho por XGBoost\n",
    "predictionsflat = predictions.flatten()\n",
    "idsflat = test_ids.flatten()\n",
    "submissionDf = pd.DataFrame()\n",
    "submissionDf['id'] = pd.Series(test_ids.astype('int32'))\n",
    "submissionDf['price_usd'] = pd.Series(predictionsflat)\n",
    "submissionDf.set_index(['id'], inplace=True)\n",
    "submissionDf.to_csv('predicciones_XGB.csv')"
   ]
  },
  {
   "cell_type": "code",
   "execution_count": 22,
   "metadata": {},
   "outputs": [
    {
     "data": {
      "text/html": [
       "<div>\n",
       "<style>\n",
       "    .dataframe thead tr:only-child th {\n",
       "        text-align: right;\n",
       "    }\n",
       "\n",
       "    .dataframe thead th {\n",
       "        text-align: left;\n",
       "    }\n",
       "\n",
       "    .dataframe tbody tr th {\n",
       "        vertical-align: top;\n",
       "    }\n",
       "</style>\n",
       "<table border=\"1\" class=\"dataframe\">\n",
       "  <thead>\n",
       "    <tr style=\"text-align: right;\">\n",
       "      <th></th>\n",
       "      <th>price_usd</th>\n",
       "    </tr>\n",
       "    <tr>\n",
       "      <th>id</th>\n",
       "      <th></th>\n",
       "    </tr>\n",
       "  </thead>\n",
       "  <tbody>\n",
       "    <tr>\n",
       "      <th>3632</th>\n",
       "      <td>66000.0</td>\n",
       "    </tr>\n",
       "    <tr>\n",
       "      <th>3633</th>\n",
       "      <td>95000.0</td>\n",
       "    </tr>\n",
       "    <tr>\n",
       "      <th>2263404</th>\n",
       "      <td>66000.0</td>\n",
       "    </tr>\n",
       "    <tr>\n",
       "      <th>2263405</th>\n",
       "      <td>55000.0</td>\n",
       "    </tr>\n",
       "    <tr>\n",
       "      <th>2263406</th>\n",
       "      <td>62000.0</td>\n",
       "    </tr>\n",
       "    <tr>\n",
       "      <th>2263407</th>\n",
       "      <td>55000.0</td>\n",
       "    </tr>\n",
       "    <tr>\n",
       "      <th>2263408</th>\n",
       "      <td>55000.0</td>\n",
       "    </tr>\n",
       "    <tr>\n",
       "      <th>2263409</th>\n",
       "      <td>55000.0</td>\n",
       "    </tr>\n",
       "    <tr>\n",
       "      <th>2263410</th>\n",
       "      <td>132000.0</td>\n",
       "    </tr>\n",
       "    <tr>\n",
       "      <th>2263411</th>\n",
       "      <td>85000.0</td>\n",
       "    </tr>\n",
       "  </tbody>\n",
       "</table>\n",
       "</div>"
      ],
      "text/plain": [
       "         price_usd\n",
       "id                \n",
       "3632       66000.0\n",
       "3633       95000.0\n",
       "2263404    66000.0\n",
       "2263405    55000.0\n",
       "2263406    62000.0\n",
       "2263407    55000.0\n",
       "2263408    55000.0\n",
       "2263409    55000.0\n",
       "2263410   132000.0\n",
       "2263411    85000.0"
      ]
     },
     "execution_count": 22,
     "metadata": {},
     "output_type": "execute_result"
    }
   ],
   "source": [
    "submissionDf.head(10)"
   ]
  },
  {
   "cell_type": "code",
   "execution_count": null,
   "metadata": {
    "collapsed": true
   },
   "outputs": [],
   "source": []
  }
 ],
 "metadata": {
  "kernelspec": {
   "display_name": "Python 3",
   "language": "python",
   "name": "python3"
  },
  "language_info": {
   "codemirror_mode": {
    "name": "ipython",
    "version": 3
   },
   "file_extension": ".py",
   "mimetype": "text/x-python",
   "name": "python",
   "nbconvert_exporter": "python",
   "pygments_lexer": "ipython3",
   "version": "3.6.1"
  }
 },
 "nbformat": 4,
 "nbformat_minor": 2
}
