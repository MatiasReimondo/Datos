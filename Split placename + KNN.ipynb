{
 "cells": [
  {
   "cell_type": "code",
   "execution_count": 1,
   "metadata": {
    "collapsed": true
   },
   "outputs": [],
   "source": [
    "import numpy as np\n",
    "import pandas as pd\n",
    "import matplotlib.pyplot as plt\n",
    "from sklearn.metrics import mean_squared_error\n",
    "from sklearn import neighbors\n",
    "from sklearn import preprocessing\n",
    "from sklearn.preprocessing import LabelEncoder \n",
    "from sklearn.metrics import mean_squared_error\n",
    "from sklearn.metrics import median_absolute_error\n",
    "from sklearn.preprocessing import Imputer\n",
    "\n",
    "from xgboost import XGBClassifier\n",
    "from sklearn.metrics import accuracy_score"
   ]
  },
  {
   "cell_type": "code",
   "execution_count": 2,
   "metadata": {
    "collapsed": true
   },
   "outputs": [],
   "source": [
    "#properties = pd.read_csv('trainPreProcess.csv')\n",
    "#testing = pd.read_csv('testPreProcess.csv')\n",
    "properties = pd.read_csv('expTrain.csv')\n",
    "testing = pd.read_csv('testLexico.csv')"
   ]
  },
  {
   "cell_type": "code",
   "execution_count": 3,
   "metadata": {},
   "outputs": [],
   "source": [
    "properties = properties.loc[:, ['id', 'place_name_encoded', 'lat', 'surface_covered_in_m2', 'surface_total_in_m2', 'floor', 'rooms', 'pileta', 'playroom', 'gimnasio', 'garage', 'excelente', 'lavadero', 'price']]\n",
    "testing = testing.loc[:, ['id', 'place_name_encoded', 'lat', 'surface_covered_in_m2', 'surface_total_in_m2', 'floor', 'rooms', 'pileta', 'playroom', 'gimnasio', 'garage', 'excelente', 'lavadero']]\n"
   ]
  },
  {
   "cell_type": "code",
   "execution_count": 4,
   "metadata": {},
   "outputs": [],
   "source": [
    "#obtengo trainvacios y testvacios con los entries de los respectivos datasets que cumplen:\n",
    "#en el train set, menos de 10 entradas por place_name_encoded\n",
    "#en el test set, no tienen entradas en el train set con el mismo place_name_encoded\n",
    "\n",
    "\n",
    "#l = len(properties['place_name_encoded'].value_counts())\n",
    "#hardcodeo el valor original (place name encoded va hasta 678)\n",
    "l=677\n",
    "\n",
    "\n",
    "\n",
    "trainvacios = properties[properties['place_name_encoded']==1]\n",
    "testvacios = testing[testing['place_name_encoded']==1]\n",
    "\n",
    "for x in range(0,l+2):\n",
    "    if ((len(testing[testing['place_name_encoded']==x])==0) or (len(properties[properties['place_name_encoded']==x])<10)) and (x!=1):\n",
    "    #if len(testing[testing['place_name_encoded']==x])<10:\n",
    "    #if len(properties[properties['place_name_encoded']==x])<10:\n",
    "    \n",
    "        train0 = properties[properties['place_name_encoded']==x]\n",
    "        trainvacios = pd.concat([trainvacios, train0])\n",
    "        \n",
    "        test0 = testing[testing['place_name_encoded']==x]\n",
    "        testvacios = pd.concat([testvacios, test0])"
   ]
  },
  {
   "cell_type": "code",
   "execution_count": 5,
   "metadata": {},
   "outputs": [
    {
     "name": "stdout",
     "output_type": "stream",
     "text": [
      "<class 'pandas.core.frame.DataFrame'>\n",
      "Int64Index: 19748 entries, 9789 to 53270\n",
      "Data columns (total 14 columns):\n",
      "id                       19748 non-null object\n",
      "place_name_encoded       19748 non-null int64\n",
      "lat                      19748 non-null float64\n",
      "surface_covered_in_m2    19748 non-null float64\n",
      "surface_total_in_m2      19748 non-null float64\n",
      "floor                    19748 non-null float64\n",
      "rooms                    19748 non-null float64\n",
      "pileta                   19748 non-null int64\n",
      "playroom                 19748 non-null int64\n",
      "gimnasio                 19748 non-null int64\n",
      "garage                   19748 non-null int64\n",
      "excelente                19748 non-null int64\n",
      "lavadero                 19748 non-null int64\n",
      "price                    19748 non-null float64\n",
      "dtypes: float64(6), int64(7), object(1)\n",
      "memory usage: 2.3+ MB\n"
     ]
    }
   ],
   "source": [
    "trainvacios.info()"
   ]
  },
  {
   "cell_type": "code",
   "execution_count": 6,
   "metadata": {},
   "outputs": [
    {
     "name": "stdout",
     "output_type": "stream",
     "text": [
      "<class 'pandas.core.frame.DataFrame'>\n",
      "Int64Index: 40252 entries, 0 to 59999\n",
      "Data columns (total 14 columns):\n",
      "id                       40252 non-null object\n",
      "place_name_encoded       40252 non-null int64\n",
      "lat                      40252 non-null float64\n",
      "surface_covered_in_m2    40252 non-null float64\n",
      "surface_total_in_m2      40252 non-null float64\n",
      "floor                    40252 non-null float64\n",
      "rooms                    40252 non-null float64\n",
      "pileta                   40252 non-null int64\n",
      "playroom                 40252 non-null int64\n",
      "gimnasio                 40252 non-null int64\n",
      "garage                   40252 non-null int64\n",
      "excelente                40252 non-null int64\n",
      "lavadero                 40252 non-null int64\n",
      "price                    40252 non-null float64\n",
      "dtypes: float64(6), int64(7), object(1)\n",
      "memory usage: 4.6+ MB\n"
     ]
    }
   ],
   "source": [
    "#los datos restantes tienen más de 10 entradas en train y al menos alguna en test por barrio\n",
    "#los junto en el dataframe trainaptos\n",
    "\n",
    "trainaptos= properties[~properties['id'].isin(trainvacios['id'])]\n",
    "testaptos= testing[~testing['id'].isin(testvacios['id'])]\n",
    "trainaptos.info()"
   ]
  },
  {
   "cell_type": "code",
   "execution_count": 7,
   "metadata": {},
   "outputs": [
    {
     "name": "stdout",
     "output_type": "stream",
     "text": [
      "60000  =  60000\n",
      "607  =  607\n",
      "432 + 175\n",
      "\n",
      "14166  =  14166\n",
      "223  =  223\n",
      "48 + 175\n"
     ]
    }
   ],
   "source": [
    "#chequeo que quedo bien el split\n",
    "\n",
    "#la union de trainaptos y trainvacios debe tener misma cantidad de entradas y place_name distintos que propiedades\n",
    "tra = pd.concat([trainaptos, trainvacios])\n",
    "\n",
    "print(len(tra), ' = ', len(properties))\n",
    "\n",
    "print(len(properties['place_name_encoded'].value_counts()), ' = ', len(tra['place_name_encoded'].value_counts()))\n",
    "\n",
    "#la suma de los place_names distintos en trainvacios y trainaptos debe ser 677\n",
    "print(len(trainvacios['place_name_encoded'].value_counts()), '+', len(trainaptos['place_name_encoded'].value_counts()))\n",
    "\n",
    "print()\n",
    "#AHORA CON TEST\n",
    "tra = pd.concat([testaptos, testvacios])\n",
    "\n",
    "print(len(tra), ' = ', len(testing))\n",
    "print(len(testing['place_name_encoded'].value_counts()), ' = ', len(tra['place_name_encoded'].value_counts()))\n",
    "\n",
    "print(len(testvacios['place_name_encoded'].value_counts()), '+', len(testaptos['place_name_encoded'].value_counts()))"
   ]
  },
  {
   "cell_type": "code",
   "execution_count": 8,
   "metadata": {},
   "outputs": [
    {
     "data": {
      "text/plain": [
       "450    2425\n",
       "146    2143\n",
       "171    1892\n",
       "490    1569\n",
       "285    1117\n",
       "14     1108\n",
       "338    1086\n",
       "632    1078\n",
       "602     994\n",
       "113     899\n",
       "483     773\n",
       "536     767\n",
       "362     706\n",
       "487     694\n",
       "189     670\n",
       "434     656\n",
       "37      653\n",
       "480     609\n",
       "441     607\n",
       "188     561\n",
       "429     528\n",
       "433     506\n",
       "503     474\n",
       "179     473\n",
       "286     471\n",
       "603     424\n",
       "587     408\n",
       "40      391\n",
       "387     385\n",
       "159     362\n",
       "       ... \n",
       "573      23\n",
       "201      22\n",
       "303      20\n",
       "629      19\n",
       "401      19\n",
       "393      18\n",
       "559      18\n",
       "243      17\n",
       "12       17\n",
       "280      17\n",
       "315      16\n",
       "230      16\n",
       "485      16\n",
       "515      15\n",
       "448      15\n",
       "204      15\n",
       "167      14\n",
       "638      14\n",
       "246      13\n",
       "512      13\n",
       "575      12\n",
       "4        12\n",
       "396      11\n",
       "218      11\n",
       "472      11\n",
       "318      10\n",
       "606      10\n",
       "600      10\n",
       "365      10\n",
       "332      10\n",
       "Name: place_name_encoded, Length: 175, dtype: int64"
      ]
     },
     "execution_count": 8,
     "metadata": {},
     "output_type": "execute_result"
    }
   ],
   "source": [
    "trainaptos['place_name_encoded'].value_counts()"
   ]
  },
  {
   "cell_type": "code",
   "execution_count": 9,
   "metadata": {},
   "outputs": [
    {
     "name": "stdout",
     "output_type": "stream",
     "text": [
      "<class 'pandas.core.frame.DataFrame'>\n",
      "RangeIndex: 114 entries, 0 to 113\n",
      "Data columns (total 2 columns):\n",
      "id           114 non-null int32\n",
      "price_usd    114 non-null float64\n",
      "dtypes: float64(1), int32(1)\n",
      "memory usage: 1.4 KB\n"
     ]
    }
   ],
   "source": [
    "#armo una funcion que devuelva un dataframe con las predicciones KNN del test y train dados y su id\n",
    "\n",
    "def KNN(test,train,n):\n",
    "    train_no_price = train.loc[:, ['place_name_encoded', 'lat', 'surface_covered_in_m2', 'surface_total_in_m2', 'floor', 'rooms', 'pileta', 'playroom', 'gimnasio', 'garage', 'excelente', 'lavadero']]\n",
    "    trainprice = train.loc[:, 'price']\n",
    "    testnoids = test.loc[:, ['place_name_encoded', 'lat', 'surface_covered_in_m2', 'surface_total_in_m2', 'floor', 'rooms', 'pileta', 'playroom', 'gimnasio', 'garage', 'excelente', 'lavadero']]\n",
    "\n",
    "    knn = neighbors.KNeighborsRegressor(n, weights=\"uniform\", algorithm=\"ball_tree\")\n",
    "\n",
    "    predictions = knn.fit(train_no_price, trainprice).predict(testnoids)\n",
    "    \n",
    "    predictions = predictions.flatten()\n",
    "    ids = test.as_matrix()[:,0].flatten()\n",
    "    results = pd.DataFrame()\n",
    "    results['id'] = pd.Series(ids.astype('int32'))\n",
    "    results['price_usd'] = pd.Series(predictions)\n",
    "    \n",
    "    \n",
    "    return results\n",
    "\n",
    "resultados = KNN(testvacios,trainvacios,25)\n",
    "resultados.info()"
   ]
  },
  {
   "cell_type": "code",
   "execution_count": 10,
   "metadata": {},
   "outputs": [],
   "source": [
    "l=677\n",
    "\n",
    "for x in range(0,l+2):\n",
    "    if len(testaptos[testaptos['place_name_encoded']==x])!=0:\n",
    "        testx = testaptos[testaptos['place_name_encoded']==x]\n",
    "        trainx = trainaptos[trainaptos['place_name_encoded']==x]\n",
    "        if len(testaptos[testaptos['place_name_encoded']==x])<25:\n",
    "            N_neighbors=len(testaptos[testaptos['place_name_encoded']==x])\n",
    "        else:\n",
    "            N_neighbors=25\n",
    "        resx = KNN(testx,trainx,N_neighbors)\n",
    "        resultados = pd.concat([resultados, resx])"
   ]
  },
  {
   "cell_type": "code",
   "execution_count": 11,
   "metadata": {},
   "outputs": [
    {
     "name": "stdout",
     "output_type": "stream",
     "text": [
      "<class 'pandas.core.frame.DataFrame'>\n",
      "Int64Index: 14166 entries, 0 to 25\n",
      "Data columns (total 2 columns):\n",
      "id           14166 non-null int32\n",
      "price_usd    14166 non-null float64\n",
      "dtypes: float64(1), int32(1)\n",
      "memory usage: 276.7 KB\n"
     ]
    }
   ],
   "source": [
    "resultados.info()"
   ]
  },
  {
   "cell_type": "code",
   "execution_count": 12,
   "metadata": {
    "collapsed": true
   },
   "outputs": [],
   "source": [
    "resultados.set_index(['id'], inplace=True)\n",
    "resultados.to_csv('predicciones_regporplacename_KNN.csv')"
   ]
  },
  {
   "cell_type": "code",
   "execution_count": null,
   "metadata": {
    "collapsed": true
   },
   "outputs": [],
   "source": []
  }
 ],
 "metadata": {
  "kernelspec": {
   "display_name": "Python 3",
   "language": "python",
   "name": "python3"
  },
  "language_info": {
   "codemirror_mode": {
    "name": "ipython",
    "version": 3
   },
   "file_extension": ".py",
   "mimetype": "text/x-python",
   "name": "python",
   "nbconvert_exporter": "python",
   "pygments_lexer": "ipython3",
   "version": "3.6.1"
  }
 },
 "nbformat": 4,
 "nbformat_minor": 2
}
