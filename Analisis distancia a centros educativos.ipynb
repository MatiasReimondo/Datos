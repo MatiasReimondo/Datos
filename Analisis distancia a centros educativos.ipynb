{
 "cells": [
  {
   "cell_type": "code",
   "execution_count": 1,
   "metadata": {
    "collapsed": true
   },
   "outputs": [],
   "source": [
    "import pandas as pd\n",
    "import numpy as np\n",
    "%matplotlib inline\n",
    "#Primero veo que datos tengo respecto de estos centros\n",
    "#Los datos fueron sacados de https://drive.google.com/file/d/0Bx63od1LTzcVelZhd2Q1OW1JLUE/view\n",
    "centros_de_educacion =  pd.read_csv(\"/home/santiago/Desktop/Organizacion De Datos (75.06)/TP1/Hospitales/establecimientos-educativos-prov-bsas.csv\")"
   ]
  },
  {
   "cell_type": "markdown",
   "metadata": {},
   "source": [
    "## 6.2 - Escuelas\n",
    " En esta seccion analizaremos si el precio del metro cuadrado para una vivienda tiene alguna relacion con la distancia a algun establecimiento educativo."
   ]
  },
  {
   "cell_type": "code",
   "execution_count": 2,
   "metadata": {},
   "outputs": [
    {
     "name": "stdout",
     "output_type": "stream",
     "text": [
      "<class 'pandas.core.frame.DataFrame'>\n",
      "RangeIndex: 22289 entries, 0 to 22288\n",
      "Data columns (total 25 columns):\n",
      "geometry.coordinates                22289 non-null object\n",
      "properties.gid                      22289 non-null int64\n",
      "properties.idserv                   22289 non-null int64\n",
      "properties.nombre                   22289 non-null object\n",
      "properties.clave                    22289 non-null object\n",
      "properties.cueanexo                 22289 non-null int64\n",
      "properties.calle                    22150 non-null object\n",
      "properties.nro_calle                20461 non-null object\n",
      "properties.localidad                22289 non-null object\n",
      "properties.referencia               6021 non-null object\n",
      "properties.email                    19822 non-null object\n",
      "properties.telefono                 21564 non-null object\n",
      "properties.codigo_postal            21065 non-null float64\n",
      "properties.distrito                 22289 non-null object\n",
      "properties.region_educativa         22289 non-null int64\n",
      "properties.sector                   22289 non-null object\n",
      "properties.ambito                   22289 non-null object\n",
      "properties.dependencia_funcional    22289 non-null object\n",
      "properties.tipo_establecimiento     22289 non-null object\n",
      "properties.modalidad                22289 non-null object\n",
      "properties.nivel                    22289 non-null object\n",
      "properties.alumnos                  22243 non-null float64\n",
      "properties.secciones                19916 non-null float64\n",
      "properties.capa                     22289 non-null int64\n",
      "properties.descripcionperiodo       22289 non-null object\n",
      "dtypes: float64(3), int64(5), object(17)\n",
      "memory usage: 4.3+ MB\n"
     ]
    }
   ],
   "source": [
    "#Veo los distintos atributos y sus tipos\n",
    "centros_de_educacion.info()"
   ]
  },
  {
   "cell_type": "code",
   "execution_count": 3,
   "metadata": {},
   "outputs": [
    {
     "data": {
      "text/plain": [
       "ESCUELA DE EDUCACIÓN PRIMARIA    6363\n",
       "ESCUELA SECUNDARIA               4182\n",
       "JARDÍN DE INFANTES               4171\n",
       "ESCUELA DE EDUCACIÓN ESPECIAL    1707\n",
       "CENTRO DE ADULTOS (EGBA)          991\n",
       "Name: properties.tipo_establecimiento, dtype: int64"
      ]
     },
     "execution_count": 3,
     "metadata": {},
     "output_type": "execute_result"
    }
   ],
   "source": [
    "#Veo que tipos de establecimiento hay\n",
    "centros_de_educacion['properties.tipo_establecimiento'].value_counts()[:5]"
   ]
  },
  {
   "cell_type": "markdown",
   "metadata": {},
   "source": [
    "#### Dada las cantidades, es muy probable que tengan mayor influencia las escuelas primarias, secundarias y jardines de infantes"
   ]
  },
  {
   "cell_type": "code",
   "execution_count": 4,
   "metadata": {
    "collapsed": true
   },
   "outputs": [],
   "source": [
    "centros_de_educacion = centros_de_educacion[(centros_de_educacion['properties.tipo_establecimiento'] == 'ESCUELA DE EDUCACIÓN PRIMARIA') |\n",
    "                                    (centros_de_educacion['properties.tipo_establecimiento'] == 'ESCUELA SECUNDARIA') |\n",
    "                                    (centros_de_educacion['properties.tipo_establecimiento'] == 'JARDÍN DE INFANTES')]"
   ]
  },
  {
   "cell_type": "code",
   "execution_count": 5,
   "metadata": {
    "collapsed": true
   },
   "outputs": [],
   "source": [
    "#Me interesa la localidad, la clave (por si necesito tener en cuenta los duplicados) y las coordenadas\n",
    "loc_centros_edu =  centros_de_educacion[[\"geometry.coordinates\",\"properties.nombre\",\"properties.distrito\"]].copy()\n",
    "#Cambio los nombres por comodidad \n",
    "loc_centros_edu['distrito'] = loc_centros_edu['properties.distrito']\n",
    "loc_centros_edu['coordenadas'] = loc_centros_edu['geometry.coordinates']\n",
    "loc_centros_edu['nombre_escuela'] = loc_centros_edu['properties.nombre']\n",
    "loc_centros_edu = loc_centros_edu[['coordenadas','distrito','nombre_escuela']]"
   ]
  },
  {
   "cell_type": "code",
   "execution_count": 6,
   "metadata": {},
   "outputs": [
    {
     "data": {
      "text/html": [
       "<div>\n",
       "<style>\n",
       "    .dataframe thead tr:only-child th {\n",
       "        text-align: right;\n",
       "    }\n",
       "\n",
       "    .dataframe thead th {\n",
       "        text-align: left;\n",
       "    }\n",
       "\n",
       "    .dataframe tbody tr th {\n",
       "        vertical-align: top;\n",
       "    }\n",
       "</style>\n",
       "<table border=\"1\" class=\"dataframe\">\n",
       "  <thead>\n",
       "    <tr style=\"text-align: right;\">\n",
       "      <th></th>\n",
       "      <th>coordenadas</th>\n",
       "      <th>distrito</th>\n",
       "      <th>nombre_escuela</th>\n",
       "      <th>lon</th>\n",
       "      <th>lat</th>\n",
       "    </tr>\n",
       "  </thead>\n",
       "  <tbody>\n",
       "    <tr>\n",
       "      <th>18</th>\n",
       "      <td>-62.76344792178401,-37.17682809444085</td>\n",
       "      <td>Adolfo Alsina</td>\n",
       "      <td>JARDIN DE INFANTES Nº901 \"OLGA VIGNAU\"</td>\n",
       "      <td>-62.76344792178401</td>\n",
       "      <td>-37.17682809444085</td>\n",
       "    </tr>\n",
       "    <tr>\n",
       "      <th>19</th>\n",
       "      <td>-63.24724558731384,-37.16314534118442</td>\n",
       "      <td>Adolfo Alsina</td>\n",
       "      <td>JARDIN DE INFANTES Nº902</td>\n",
       "      <td>-63.24724558731384</td>\n",
       "      <td>-37.16314534118442</td>\n",
       "    </tr>\n",
       "    <tr>\n",
       "      <th>20</th>\n",
       "      <td>,-37.44672610592488</td>\n",
       "      <td>Adolfo Alsina</td>\n",
       "      <td>JARDIN DE INFANTES Nº903 \"MARIA MONTESSORI\"</td>\n",
       "      <td></td>\n",
       "      <td>-37.44672610592488</td>\n",
       "    </tr>\n",
       "    <tr>\n",
       "      <th>21</th>\n",
       "      <td>-63.34162596376706,</td>\n",
       "      <td>Adolfo Alsina</td>\n",
       "      <td>JARDIN DE INFANTES Nº904 \"GABRIELA MISTRAL\"</td>\n",
       "      <td>-63.34162596376706</td>\n",
       "      <td></td>\n",
       "    </tr>\n",
       "    <tr>\n",
       "      <th>22</th>\n",
       "      <td>-62.72566233225069,-37.17044240159538</td>\n",
       "      <td>Adolfo Alsina</td>\n",
       "      <td>JARDIN DE INFANTES Nº905 \"VILLA EPECUEN\"</td>\n",
       "      <td>-62.72566233225069</td>\n",
       "      <td>-37.17044240159538</td>\n",
       "    </tr>\n",
       "    <tr>\n",
       "      <th>23</th>\n",
       "      <td>-63.25676909841502,-37.45432120256129</td>\n",
       "      <td>Adolfo Alsina</td>\n",
       "      <td>JARDIN DE INFANTES Nº906</td>\n",
       "      <td>-63.25676909841502</td>\n",
       "      <td>-37.45432120256129</td>\n",
       "    </tr>\n",
       "    <tr>\n",
       "      <th>24</th>\n",
       "      <td>,-36.87300069642487</td>\n",
       "      <td>Adolfo Alsina</td>\n",
       "      <td>JARDIN DE INFANTES Nº908 \"AMERICO COPPINI\"</td>\n",
       "      <td></td>\n",
       "      <td>-36.87300069642487</td>\n",
       "    </tr>\n",
       "    <tr>\n",
       "      <th>25</th>\n",
       "      <td>-62.76252490799794,-37.18045648747676</td>\n",
       "      <td>Adolfo Alsina</td>\n",
       "      <td>JARDIN DE INFANTES Nº909 \"CUMELEN\"</td>\n",
       "      <td>-62.76252490799794</td>\n",
       "      <td>-37.18045648747676</td>\n",
       "    </tr>\n",
       "    <tr>\n",
       "      <th>36</th>\n",
       "      <td>,-37.18363491372014</td>\n",
       "      <td>Adolfo Alsina</td>\n",
       "      <td>ESCUELA DE EDUCACIÓN SECUNDARIA Nº2</td>\n",
       "      <td></td>\n",
       "      <td>-37.18363491372014</td>\n",
       "    </tr>\n",
       "    <tr>\n",
       "      <th>37</th>\n",
       "      <td>-63.11460401666187,-37.44670507437951</td>\n",
       "      <td>Adolfo Alsina</td>\n",
       "      <td>ESCUELA DE EDUCACIÓN SECUNDARIA Nº3</td>\n",
       "      <td>-63.11460401666187</td>\n",
       "      <td>-37.44670507437951</td>\n",
       "    </tr>\n",
       "  </tbody>\n",
       "</table>\n",
       "</div>"
      ],
      "text/plain": [
       "                              coordenadas       distrito  \\\n",
       "18  -62.76344792178401,-37.17682809444085  Adolfo Alsina   \n",
       "19  -63.24724558731384,-37.16314534118442  Adolfo Alsina   \n",
       "20                    ,-37.44672610592488  Adolfo Alsina   \n",
       "21                    -63.34162596376706,  Adolfo Alsina   \n",
       "22  -62.72566233225069,-37.17044240159538  Adolfo Alsina   \n",
       "23  -63.25676909841502,-37.45432120256129  Adolfo Alsina   \n",
       "24                    ,-36.87300069642487  Adolfo Alsina   \n",
       "25  -62.76252490799794,-37.18045648747676  Adolfo Alsina   \n",
       "36                    ,-37.18363491372014  Adolfo Alsina   \n",
       "37  -63.11460401666187,-37.44670507437951  Adolfo Alsina   \n",
       "\n",
       "                                 nombre_escuela                 lon  \\\n",
       "18       JARDIN DE INFANTES Nº901 \"OLGA VIGNAU\"  -62.76344792178401   \n",
       "19                     JARDIN DE INFANTES Nº902  -63.24724558731384   \n",
       "20  JARDIN DE INFANTES Nº903 \"MARIA MONTESSORI\"                       \n",
       "21  JARDIN DE INFANTES Nº904 \"GABRIELA MISTRAL\"  -63.34162596376706   \n",
       "22     JARDIN DE INFANTES Nº905 \"VILLA EPECUEN\"  -62.72566233225069   \n",
       "23                     JARDIN DE INFANTES Nº906  -63.25676909841502   \n",
       "24   JARDIN DE INFANTES Nº908 \"AMERICO COPPINI\"                       \n",
       "25           JARDIN DE INFANTES Nº909 \"CUMELEN\"  -62.76252490799794   \n",
       "36          ESCUELA DE EDUCACIÓN SECUNDARIA Nº2                       \n",
       "37          ESCUELA DE EDUCACIÓN SECUNDARIA Nº3  -63.11460401666187   \n",
       "\n",
       "                   lat  \n",
       "18  -37.17682809444085  \n",
       "19  -37.16314534118442  \n",
       "20  -37.44672610592488  \n",
       "21                      \n",
       "22  -37.17044240159538  \n",
       "23  -37.45432120256129  \n",
       "24  -36.87300069642487  \n",
       "25  -37.18045648747676  \n",
       "36  -37.18363491372014  \n",
       "37  -37.44670507437951  "
      ]
     },
     "execution_count": 6,
     "metadata": {},
     "output_type": "execute_result"
    }
   ],
   "source": [
    "#Separo las coordenadas\n",
    "loc_centros_edu['lon'], loc_centros_edu['lat'] = loc_centros_edu['coordenadas'].str.split(',', 1).str\n",
    "loc_centros_edu.head(10)"
   ]
  },
  {
   "cell_type": "code",
   "execution_count": 7,
   "metadata": {},
   "outputs": [
    {
     "name": "stdout",
     "output_type": "stream",
     "text": [
      "<class 'pandas.core.frame.DataFrame'>\n",
      "Int64Index: 7536 entries, 18 to 22287\n",
      "Data columns (total 4 columns):\n",
      "lon               7536 non-null float64\n",
      "lat               7536 non-null float64\n",
      "distrito          7536 non-null object\n",
      "nombre_escuela    7536 non-null object\n",
      "dtypes: float64(2), object(2)\n",
      "memory usage: 294.4+ KB\n"
     ]
    }
   ],
   "source": [
    "#Elimino aquellos registros a los que le falta alguna coordenada\n",
    "loc_centros_edu.dropna(inplace = True)\n",
    "loc_centros_edu = loc_centros_edu[(loc_centros_edu['lon'] != \"\") & (loc_centros_edu['lat'] != \"\")].copy()\n",
    "loc_centros_edu = loc_centros_edu[['lon','lat','distrito','nombre_escuela']]\n",
    "#Me interesa convertir las coordenadas a algun tipo numerico\n",
    "loc_centros_edu[['lat','lon']] = loc_centros_edu[['lat','lon']].apply(pd.to_numeric,errors='coerce')\n",
    "loc_centros_edu.dropna(inplace=True)\n",
    "loc_centros_edu.info()"
   ]
  },
  {
   "cell_type": "code",
   "execution_count": 8,
   "metadata": {},
   "outputs": [
    {
     "data": {
      "text/html": [
       "<div>\n",
       "<style>\n",
       "    .dataframe thead tr:only-child th {\n",
       "        text-align: right;\n",
       "    }\n",
       "\n",
       "    .dataframe thead th {\n",
       "        text-align: left;\n",
       "    }\n",
       "\n",
       "    .dataframe tbody tr th {\n",
       "        vertical-align: top;\n",
       "    }\n",
       "</style>\n",
       "<table border=\"1\" class=\"dataframe\">\n",
       "  <thead>\n",
       "    <tr style=\"text-align: right;\">\n",
       "      <th></th>\n",
       "      <th>lon</th>\n",
       "      <th>lat</th>\n",
       "      <th>distrito</th>\n",
       "      <th>nombre_escuela</th>\n",
       "    </tr>\n",
       "  </thead>\n",
       "  <tbody>\n",
       "    <tr>\n",
       "      <th>18</th>\n",
       "      <td>-62.763448</td>\n",
       "      <td>-37.176828</td>\n",
       "      <td>Adolfo Alsina</td>\n",
       "      <td>JARDIN DE INFANTES Nº901 \"OLGA VIGNAU\"</td>\n",
       "    </tr>\n",
       "    <tr>\n",
       "      <th>19</th>\n",
       "      <td>-63.247246</td>\n",
       "      <td>-37.163145</td>\n",
       "      <td>Adolfo Alsina</td>\n",
       "      <td>JARDIN DE INFANTES Nº902</td>\n",
       "    </tr>\n",
       "    <tr>\n",
       "      <th>22</th>\n",
       "      <td>-62.725662</td>\n",
       "      <td>-37.170442</td>\n",
       "      <td>Adolfo Alsina</td>\n",
       "      <td>JARDIN DE INFANTES Nº905 \"VILLA EPECUEN\"</td>\n",
       "    </tr>\n",
       "    <tr>\n",
       "      <th>23</th>\n",
       "      <td>-63.256769</td>\n",
       "      <td>-37.454321</td>\n",
       "      <td>Adolfo Alsina</td>\n",
       "      <td>JARDIN DE INFANTES Nº906</td>\n",
       "    </tr>\n",
       "    <tr>\n",
       "      <th>25</th>\n",
       "      <td>-62.762525</td>\n",
       "      <td>-37.180456</td>\n",
       "      <td>Adolfo Alsina</td>\n",
       "      <td>JARDIN DE INFANTES Nº909 \"CUMELEN\"</td>\n",
       "    </tr>\n",
       "    <tr>\n",
       "      <th>37</th>\n",
       "      <td>-63.114604</td>\n",
       "      <td>-37.446705</td>\n",
       "      <td>Adolfo Alsina</td>\n",
       "      <td>ESCUELA DE EDUCACIÓN SECUNDARIA Nº3</td>\n",
       "    </tr>\n",
       "    <tr>\n",
       "      <th>44</th>\n",
       "      <td>-62.762111</td>\n",
       "      <td>-37.180183</td>\n",
       "      <td>Adolfo Alsina</td>\n",
       "      <td>ESCUELA DE EDUCACIÓN PRIMARIA Nº1 \"JOSE DE SAN...</td>\n",
       "    </tr>\n",
       "    <tr>\n",
       "      <th>45</th>\n",
       "      <td>-62.753242</td>\n",
       "      <td>-37.180533</td>\n",
       "      <td>Adolfo Alsina</td>\n",
       "      <td>ESCUELA DE EDUCACIÓN PRIMARIA Nº3 \"JUAN BAUTIS...</td>\n",
       "    </tr>\n",
       "    <tr>\n",
       "      <th>46</th>\n",
       "      <td>-63.266903</td>\n",
       "      <td>-37.046765</td>\n",
       "      <td>Adolfo Alsina</td>\n",
       "      <td>ESCUELA DE EDUCACIÓN PRIMARIA Nº4 \"ANTARTIDA A...</td>\n",
       "    </tr>\n",
       "    <tr>\n",
       "      <th>47</th>\n",
       "      <td>-63.291628</td>\n",
       "      <td>-36.924717</td>\n",
       "      <td>Adolfo Alsina</td>\n",
       "      <td>ESCUELA DE EDUCACIÓN PRIMARIA Nº5 \"MARIANO MOR...</td>\n",
       "    </tr>\n",
       "  </tbody>\n",
       "</table>\n",
       "</div>"
      ],
      "text/plain": [
       "          lon        lat       distrito  \\\n",
       "18 -62.763448 -37.176828  Adolfo Alsina   \n",
       "19 -63.247246 -37.163145  Adolfo Alsina   \n",
       "22 -62.725662 -37.170442  Adolfo Alsina   \n",
       "23 -63.256769 -37.454321  Adolfo Alsina   \n",
       "25 -62.762525 -37.180456  Adolfo Alsina   \n",
       "37 -63.114604 -37.446705  Adolfo Alsina   \n",
       "44 -62.762111 -37.180183  Adolfo Alsina   \n",
       "45 -62.753242 -37.180533  Adolfo Alsina   \n",
       "46 -63.266903 -37.046765  Adolfo Alsina   \n",
       "47 -63.291628 -36.924717  Adolfo Alsina   \n",
       "\n",
       "                                       nombre_escuela  \n",
       "18             JARDIN DE INFANTES Nº901 \"OLGA VIGNAU\"  \n",
       "19                           JARDIN DE INFANTES Nº902  \n",
       "22           JARDIN DE INFANTES Nº905 \"VILLA EPECUEN\"  \n",
       "23                           JARDIN DE INFANTES Nº906  \n",
       "25                 JARDIN DE INFANTES Nº909 \"CUMELEN\"  \n",
       "37                ESCUELA DE EDUCACIÓN SECUNDARIA Nº3  \n",
       "44  ESCUELA DE EDUCACIÓN PRIMARIA Nº1 \"JOSE DE SAN...  \n",
       "45  ESCUELA DE EDUCACIÓN PRIMARIA Nº3 \"JUAN BAUTIS...  \n",
       "46  ESCUELA DE EDUCACIÓN PRIMARIA Nº4 \"ANTARTIDA A...  \n",
       "47  ESCUELA DE EDUCACIÓN PRIMARIA Nº5 \"MARIANO MOR...  "
      ]
     },
     "execution_count": 8,
     "metadata": {},
     "output_type": "execute_result"
    }
   ],
   "source": [
    "loc_centros_edu.head(10)"
   ]
  },
  {
   "cell_type": "code",
   "execution_count": 9,
   "metadata": {},
   "outputs": [
    {
     "data": {
      "text/html": [
       "<div>\n",
       "<style>\n",
       "    .dataframe thead tr:only-child th {\n",
       "        text-align: right;\n",
       "    }\n",
       "\n",
       "    .dataframe thead th {\n",
       "        text-align: left;\n",
       "    }\n",
       "\n",
       "    .dataframe tbody tr th {\n",
       "        vertical-align: top;\n",
       "    }\n",
       "</style>\n",
       "<table border=\"1\" class=\"dataframe\">\n",
       "  <thead>\n",
       "    <tr style=\"text-align: right;\">\n",
       "      <th></th>\n",
       "      <th>lon</th>\n",
       "      <th>lat</th>\n",
       "      <th>distrito</th>\n",
       "      <th>nombre_escuela</th>\n",
       "    </tr>\n",
       "  </thead>\n",
       "  <tbody>\n",
       "    <tr>\n",
       "      <th>18</th>\n",
       "      <td>-62.763448</td>\n",
       "      <td>-37.176828</td>\n",
       "      <td>Adolfo Alsina</td>\n",
       "      <td>JARDIN DE INFANTES Nº901 \"OLGA VIGNAU\"</td>\n",
       "    </tr>\n",
       "    <tr>\n",
       "      <th>19</th>\n",
       "      <td>-63.247246</td>\n",
       "      <td>-37.163145</td>\n",
       "      <td>Adolfo Alsina</td>\n",
       "      <td>JARDIN DE INFANTES Nº902</td>\n",
       "    </tr>\n",
       "    <tr>\n",
       "      <th>22</th>\n",
       "      <td>-62.725662</td>\n",
       "      <td>-37.170442</td>\n",
       "      <td>Adolfo Alsina</td>\n",
       "      <td>JARDIN DE INFANTES Nº905 \"VILLA EPECUEN\"</td>\n",
       "    </tr>\n",
       "    <tr>\n",
       "      <th>23</th>\n",
       "      <td>-63.256769</td>\n",
       "      <td>-37.454321</td>\n",
       "      <td>Adolfo Alsina</td>\n",
       "      <td>JARDIN DE INFANTES Nº906</td>\n",
       "    </tr>\n",
       "    <tr>\n",
       "      <th>25</th>\n",
       "      <td>-62.762525</td>\n",
       "      <td>-37.180456</td>\n",
       "      <td>Adolfo Alsina</td>\n",
       "      <td>JARDIN DE INFANTES Nº909 \"CUMELEN\"</td>\n",
       "    </tr>\n",
       "    <tr>\n",
       "      <th>37</th>\n",
       "      <td>-63.114604</td>\n",
       "      <td>-37.446705</td>\n",
       "      <td>Adolfo Alsina</td>\n",
       "      <td>ESCUELA DE EDUCACIÓN SECUNDARIA Nº3</td>\n",
       "    </tr>\n",
       "    <tr>\n",
       "      <th>44</th>\n",
       "      <td>-62.762111</td>\n",
       "      <td>-37.180183</td>\n",
       "      <td>Adolfo Alsina</td>\n",
       "      <td>ESCUELA DE EDUCACIÓN PRIMARIA Nº1 \"JOSE DE SAN...</td>\n",
       "    </tr>\n",
       "    <tr>\n",
       "      <th>45</th>\n",
       "      <td>-62.753242</td>\n",
       "      <td>-37.180533</td>\n",
       "      <td>Adolfo Alsina</td>\n",
       "      <td>ESCUELA DE EDUCACIÓN PRIMARIA Nº3 \"JUAN BAUTIS...</td>\n",
       "    </tr>\n",
       "    <tr>\n",
       "      <th>46</th>\n",
       "      <td>-63.266903</td>\n",
       "      <td>-37.046765</td>\n",
       "      <td>Adolfo Alsina</td>\n",
       "      <td>ESCUELA DE EDUCACIÓN PRIMARIA Nº4 \"ANTARTIDA A...</td>\n",
       "    </tr>\n",
       "    <tr>\n",
       "      <th>47</th>\n",
       "      <td>-63.291628</td>\n",
       "      <td>-36.924717</td>\n",
       "      <td>Adolfo Alsina</td>\n",
       "      <td>ESCUELA DE EDUCACIÓN PRIMARIA Nº5 \"MARIANO MOR...</td>\n",
       "    </tr>\n",
       "  </tbody>\n",
       "</table>\n",
       "</div>"
      ],
      "text/plain": [
       "          lon        lat       distrito  \\\n",
       "18 -62.763448 -37.176828  Adolfo Alsina   \n",
       "19 -63.247246 -37.163145  Adolfo Alsina   \n",
       "22 -62.725662 -37.170442  Adolfo Alsina   \n",
       "23 -63.256769 -37.454321  Adolfo Alsina   \n",
       "25 -62.762525 -37.180456  Adolfo Alsina   \n",
       "37 -63.114604 -37.446705  Adolfo Alsina   \n",
       "44 -62.762111 -37.180183  Adolfo Alsina   \n",
       "45 -62.753242 -37.180533  Adolfo Alsina   \n",
       "46 -63.266903 -37.046765  Adolfo Alsina   \n",
       "47 -63.291628 -36.924717  Adolfo Alsina   \n",
       "\n",
       "                                       nombre_escuela  \n",
       "18             JARDIN DE INFANTES Nº901 \"OLGA VIGNAU\"  \n",
       "19                           JARDIN DE INFANTES Nº902  \n",
       "22           JARDIN DE INFANTES Nº905 \"VILLA EPECUEN\"  \n",
       "23                           JARDIN DE INFANTES Nº906  \n",
       "25                 JARDIN DE INFANTES Nº909 \"CUMELEN\"  \n",
       "37                ESCUELA DE EDUCACIÓN SECUNDARIA Nº3  \n",
       "44  ESCUELA DE EDUCACIÓN PRIMARIA Nº1 \"JOSE DE SAN...  \n",
       "45  ESCUELA DE EDUCACIÓN PRIMARIA Nº3 \"JUAN BAUTIS...  \n",
       "46  ESCUELA DE EDUCACIÓN PRIMARIA Nº4 \"ANTARTIDA A...  \n",
       "47  ESCUELA DE EDUCACIÓN PRIMARIA Nº5 \"MARIANO MOR...  "
      ]
     },
     "execution_count": 9,
     "metadata": {},
     "output_type": "execute_result"
    }
   ],
   "source": [
    "#Ya tengo las coordenadas de cada centro en cada barrio de la provincia\n",
    "#Ahora agrupo por clave (no me interesan duplicados)\n",
    "loc_centros_edu = loc_centros_edu.drop_duplicates(keep=False)\n",
    "loc_centros_edu.head(10)\n",
    "#Quedan 6504 establecimientos luego de la limpieza de datos"
   ]
  },
  {
   "cell_type": "markdown",
   "metadata": {},
   "source": [
    "##### En un primer momento, puede ser util saber la cantidad de establecimientos que se registran en cada barrio"
   ]
  },
  {
   "cell_type": "code",
   "execution_count": 12,
   "metadata": {},
   "outputs": [
    {
     "data": {
      "image/png": "[encoded data removed]",
      "text/plain": [
       "<matplotlib.figure.Figure at 0x7fc1dd545cc0>"
      ]
     },
     "metadata": {},
     "output_type": "display_data"
    }
   ],
   "source": [
    "escuelas_por_barrio = loc_centros_edu[['distrito']].copy()\n",
    "escuelas_por_barrio['cantidad'] = escuelas_por_barrio.groupby('distrito')['distrito'].transform(pd.Series.value_counts)\n",
    "escuelas_por_barrio = escuelas_por_barrio.groupby('distrito').count()\n",
    "top_10 = escuelas_por_barrio.sort_values('cantidad', ascending = False)[:10]\n",
    "%matplotlib inline\n",
    "plot = top_10.plot(kind = 'bar',figsize=(10,8), color='DarkRed' ,fontsize=13)\n",
    "plot.set_title('Top 10 distritos de GBA con mas escuelas', fontsize=20);\n",
    "plot.set_xlabel('Distrito', fontsize=16);\n",
    "plot.set_ylabel('Cantidad de escuelas', fontsize=20);"
   ]
  },
  {
   "cell_type": "code",
   "execution_count": 11,
   "metadata": {
    "collapsed": true
   },
   "outputs": [],
   "source": [
    "#Ahora cargo las propiedades de todos los archivos de properati\n",
    "ventas_properati = pd.read_csv('/home/santiago/Desktop/Organizacion De Datos (75.06)/TP1/Hospitales/datos_procesados.csv',\n",
    "                               low_memory =False)"
   ]
  },
  {
   "cell_type": "code",
   "execution_count": 12,
   "metadata": {},
   "outputs": [
    {
     "data": {
      "text/plain": [
       "493836"
      ]
     },
     "execution_count": 12,
     "metadata": {},
     "output_type": "execute_result"
    }
   ],
   "source": [
    "#Ahora uno todos los dataframes\n",
    "ventas_properati.properati_url.count() #Se tienen 493836 registros"
   ]
  },
  {
   "cell_type": "markdown",
   "metadata": {},
   "source": [
    "##### Ahora simplemente  cuento cuantas propiedades en la provincia de Buenos Aires hay registradas (pues solo poseo datos de GBA)"
   ]
  },
  {
   "cell_type": "code",
   "execution_count": 13,
   "metadata": {},
   "outputs": [
    {
     "data": {
      "text/plain": [
       "259288"
      ]
     },
     "execution_count": 13,
     "metadata": {},
     "output_type": "execute_result"
    }
   ],
   "source": [
    "#Me enfoco solo en provincia, dado que solo tengo datos alli\n",
    "#Agrupo por properati_url\n",
    "ventas_properati_gba = ventas_properati[ventas_properati.place_with_parent_names.str.contains(\"Buenos Aires\") | \n",
    "                                        ventas_properati.place_with_parent_names.str.contains(\"Bs.As\")].copy()\n",
    "ventas_properati_gba.properati_url.count()\n",
    "#259288 propiedades en GBA"
   ]
  },
  {
   "cell_type": "code",
   "execution_count": 14,
   "metadata": {
    "collapsed": true
   },
   "outputs": [],
   "source": [
    "#Me interesa solo del 2013 en adelante\n",
    "ventas_properati_gba = ventas_properati_gba[ventas_properati_gba.created_on.str.contains('2012') ==False]\n",
    "#Elimino duplicados\n",
    "ventas_properati_gba.drop_duplicates(subset='properati_url', keep=\"first\", inplace=True)\n"
   ]
  },
  {
   "cell_type": "code",
   "execution_count": 15,
   "metadata": {},
   "outputs": [
    {
     "data": {
      "text/plain": [
       "123196"
      ]
     },
     "execution_count": 15,
     "metadata": {},
     "output_type": "execute_result"
    }
   ],
   "source": [
    "#Ahora solo me quedo con las columnas que me interesan para este analisis\n",
    "ventas_properati_gba = ventas_properati_gba[['place_name','price_usd_per_m2','lat','lon']]\n",
    "#Cambio los nombres por comodidad\n",
    "ventas_properati_gba['Localidad'] = ventas_properati_gba['place_name']\n",
    "ventas_properati_gba['Precio_por_metro_cuadrado(usd)'] = ventas_properati_gba['price_usd_per_m2']\n",
    "ventas_properati_gba = ventas_properati_gba[['Localidad','Precio_por_metro_cuadrado(usd)','lat','lon']]\n",
    "ventas_properati.dropna(inplace=True)\n",
    "ventas_properati_gba.lat.count()\n",
    "#Se tienen 123196 propiedades en GBA, sin atributos nulos y cuya publicacion aparecio despues del 2012"
   ]
  },
  {
   "cell_type": "markdown",
   "metadata": {},
   "source": [
    "#### Ahora, buscamos para cada propiedad, aquella escuela mas cercana"
   ]
  },
  {
   "cell_type": "code",
   "execution_count": 16,
   "metadata": {},
   "outputs": [
    {
     "data": {
      "text/html": [
       "<div>\n",
       "<style>\n",
       "    .dataframe thead tr:only-child th {\n",
       "        text-align: right;\n",
       "    }\n",
       "\n",
       "    .dataframe thead th {\n",
       "        text-align: left;\n",
       "    }\n",
       "\n",
       "    .dataframe tbody tr th {\n",
       "        vertical-align: top;\n",
       "    }\n",
       "</style>\n",
       "<table border=\"1\" class=\"dataframe\">\n",
       "  <thead>\n",
       "    <tr style=\"text-align: right;\">\n",
       "      <th></th>\n",
       "      <th>Localidad</th>\n",
       "      <th>Precio_por_metro_cuadrado(usd)</th>\n",
       "      <th>lat</th>\n",
       "      <th>lon</th>\n",
       "      <th>distancia_escuela_mas_cercana(m)</th>\n",
       "    </tr>\n",
       "  </thead>\n",
       "  <tbody>\n",
       "    <tr>\n",
       "      <th>3893</th>\n",
       "      <td>Torreón</td>\n",
       "      <td>1875.000000</td>\n",
       "      <td>-38.009416</td>\n",
       "      <td>-57.537972</td>\n",
       "      <td>0</td>\n",
       "    </tr>\n",
       "    <tr>\n",
       "      <th>3894</th>\n",
       "      <td>Chauvín</td>\n",
       "      <td>1146.153846</td>\n",
       "      <td>-38.014223</td>\n",
       "      <td>-57.564289</td>\n",
       "      <td>0</td>\n",
       "    </tr>\n",
       "    <tr>\n",
       "      <th>3895</th>\n",
       "      <td>Parque Luro</td>\n",
       "      <td>1500.000000</td>\n",
       "      <td>-37.979652</td>\n",
       "      <td>-57.554066</td>\n",
       "      <td>0</td>\n",
       "    </tr>\n",
       "    <tr>\n",
       "      <th>3900</th>\n",
       "      <td>Lanús Oeste</td>\n",
       "      <td>2000.000000</td>\n",
       "      <td>-34.637438</td>\n",
       "      <td>-58.407555</td>\n",
       "      <td>0</td>\n",
       "    </tr>\n",
       "    <tr>\n",
       "      <th>3901</th>\n",
       "      <td>Tigre</td>\n",
       "      <td>2000.000000</td>\n",
       "      <td>-34.425087</td>\n",
       "      <td>-58.579658</td>\n",
       "      <td>0</td>\n",
       "    </tr>\n",
       "    <tr>\n",
       "      <th>3903</th>\n",
       "      <td>Jose Leon Suarez</td>\n",
       "      <td>766.666667</td>\n",
       "      <td>-34.528673</td>\n",
       "      <td>-58.573267</td>\n",
       "      <td>0</td>\n",
       "    </tr>\n",
       "    <tr>\n",
       "      <th>3904</th>\n",
       "      <td>Olivos</td>\n",
       "      <td>2275.379310</td>\n",
       "      <td>-34.546085</td>\n",
       "      <td>-58.458126</td>\n",
       "      <td>0</td>\n",
       "    </tr>\n",
       "    <tr>\n",
       "      <th>3905</th>\n",
       "      <td>Olivos</td>\n",
       "      <td>2500.000000</td>\n",
       "      <td>-34.546085</td>\n",
       "      <td>-58.458126</td>\n",
       "      <td>0</td>\n",
       "    </tr>\n",
       "    <tr>\n",
       "      <th>3906</th>\n",
       "      <td>Los Polvorines</td>\n",
       "      <td>1318.181818</td>\n",
       "      <td>-34.524911</td>\n",
       "      <td>-58.708832</td>\n",
       "      <td>0</td>\n",
       "    </tr>\n",
       "    <tr>\n",
       "      <th>3907</th>\n",
       "      <td>San Miguel</td>\n",
       "      <td>1400.000000</td>\n",
       "      <td>-34.533983</td>\n",
       "      <td>-58.721262</td>\n",
       "      <td>0</td>\n",
       "    </tr>\n",
       "  </tbody>\n",
       "</table>\n",
       "</div>"
      ],
      "text/plain": [
       "             Localidad  Precio_por_metro_cuadrado(usd)        lat        lon  \\\n",
       "3893           Torreón                     1875.000000 -38.009416 -57.537972   \n",
       "3894           Chauvín                     1146.153846 -38.014223 -57.564289   \n",
       "3895       Parque Luro                     1500.000000 -37.979652 -57.554066   \n",
       "3900       Lanús Oeste                     2000.000000 -34.637438 -58.407555   \n",
       "3901             Tigre                     2000.000000 -34.425087 -58.579658   \n",
       "3903  Jose Leon Suarez                      766.666667 -34.528673 -58.573267   \n",
       "3904            Olivos                     2275.379310 -34.546085 -58.458126   \n",
       "3905            Olivos                     2500.000000 -34.546085 -58.458126   \n",
       "3906    Los Polvorines                     1318.181818 -34.524911 -58.708832   \n",
       "3907        San Miguel                     1400.000000 -34.533983 -58.721262   \n",
       "\n",
       "      distancia_escuela_mas_cercana(m)  \n",
       "3893                                 0  \n",
       "3894                                 0  \n",
       "3895                                 0  \n",
       "3900                                 0  \n",
       "3901                                 0  \n",
       "3903                                 0  \n",
       "3904                                 0  \n",
       "3905                                 0  \n",
       "3906                                 0  \n",
       "3907                                 0  "
      ]
     },
     "execution_count": 16,
     "metadata": {},
     "output_type": "execute_result"
    }
   ],
   "source": [
    "#Voy a buscar, para cada propiedad, cual es el establecimiento escolar mas cercano, y la distancia al mismo\n",
    "#Cuando logre hacer esto, voy a graficar el precio de la propiedad vs la distancia al establecimiento mas cercano\n",
    "precio_segun_distancia = ventas_properati_gba.copy()\n",
    "#Agrego 2 columnas donde va a ir la informacion\n",
    "precio_segun_distancia['distancia_escuela_mas_cercana(m)'] = 0\n",
    "precio_segun_distancia.dropna(inplace=True)\n",
    "precio_segun_distancia.head(10)"
   ]
  },
  {
   "cell_type": "code",
   "execution_count": 17,
   "metadata": {
    "collapsed": true
   },
   "outputs": [],
   "source": [
    "#Defino una funcion que calcula la distancia entre dos puntos, utilizando la distancia de haversine\n",
    "import math\n",
    "def dist(lat1,lon1,lat2,lon2):\n",
    "    dLat = math.radians(lat2-lat1)\n",
    "    dLon = math.radians(lon2-lon1)\n",
    "\n",
    "    lat1 = math.radians(lat1)\n",
    "    lat2 = math.radians(lat2)\n",
    "\n",
    "    a = math.sin(dLat/2) * math.sin(dLat/2) + math.sin(dLon/2) * math.sin(dLon/2) * math.cos(lat1) * math.cos(lat2)\n",
    "    c = 2 * math.atan2(math.sqrt(a), math.sqrt(1-a))\n",
    "    return c * 6371 * 1000\n",
    "    #return np.abs((lat1 - lat2) + (lon1 - lon2))\n",
    "\n",
    "def encontrar_escuela_mas_cercana(lat, lon):\n",
    "    distancias = loc_centros_edu.apply(lambda row: dist(lat, lon, row['lat'], row['lon']), axis=1)\n",
    "    return loc_centros_edu.loc[distancias.idxmin(), 'nombre_escuela']\n",
    "\n",
    "def dist2(lat,lon):\n",
    "    distancias = loc_centros_edu.apply(lambda row: dist(lat, lon, row['lat'], row['lon']), axis=1)\n",
    "    return distancias.min()\n",
    "    \n",
    "precio_segun_distancia['escuela_mas_cercana'] = precio_segun_distancia[:10000].apply(lambda row: encontrar_escuela_mas_cercana(\n",
    "                                                                                  row['lat'], row['lon']), axis=1)\n",
    "precio_segun_distancia['distancia_escuela_mas_cercana(m)'] = precio_segun_distancia[:10000].apply(lambda row: dist2(row['lat'], \n",
    "                                                                                       row['lon']), axis=1)"
   ]
  },
  {
   "cell_type": "code",
   "execution_count": 18,
   "metadata": {},
   "outputs": [
    {
     "data": {
      "text/html": [
       "<div>\n",
       "<style>\n",
       "    .dataframe thead tr:only-child th {\n",
       "        text-align: right;\n",
       "    }\n",
       "\n",
       "    .dataframe thead th {\n",
       "        text-align: left;\n",
       "    }\n",
       "\n",
       "    .dataframe tbody tr th {\n",
       "        vertical-align: top;\n",
       "    }\n",
       "</style>\n",
       "<table border=\"1\" class=\"dataframe\">\n",
       "  <thead>\n",
       "    <tr style=\"text-align: right;\">\n",
       "      <th></th>\n",
       "      <th>Localidad</th>\n",
       "      <th>Precio_por_metro_cuadrado(usd)</th>\n",
       "      <th>distancia_escuela_mas_cercana(m)</th>\n",
       "      <th>escuela_mas_cercana</th>\n",
       "    </tr>\n",
       "  </thead>\n",
       "  <tbody>\n",
       "    <tr>\n",
       "      <th>3893</th>\n",
       "      <td>Torreón</td>\n",
       "      <td>1875.000000</td>\n",
       "      <td>503.163042</td>\n",
       "      <td>COLEGIO SAN AGUSTIN</td>\n",
       "    </tr>\n",
       "    <tr>\n",
       "      <th>3894</th>\n",
       "      <td>Chauvín</td>\n",
       "      <td>1146.153846</td>\n",
       "      <td>130.570679</td>\n",
       "      <td>INSTITUTO ALBERT EINSTEIN</td>\n",
       "    </tr>\n",
       "    <tr>\n",
       "      <th>3895</th>\n",
       "      <td>Parque Luro</td>\n",
       "      <td>1500.000000</td>\n",
       "      <td>434.343628</td>\n",
       "      <td>ESCUELA DE EDCUACIÓN SECUNDARIA Nº67</td>\n",
       "    </tr>\n",
       "    <tr>\n",
       "      <th>3900</th>\n",
       "      <td>Lanús Oeste</td>\n",
       "      <td>2000.000000</td>\n",
       "      <td>2998.409188</td>\n",
       "      <td>ESCUELA DE EDUCACIÓN PRIMARIA Nº13 \"HIPOLITO Y...</td>\n",
       "    </tr>\n",
       "    <tr>\n",
       "      <th>3901</th>\n",
       "      <td>Tigre</td>\n",
       "      <td>2000.000000</td>\n",
       "      <td>435.546146</td>\n",
       "      <td>COLEGIO DE LA RECONQUISTA</td>\n",
       "    </tr>\n",
       "  </tbody>\n",
       "</table>\n",
       "</div>"
      ],
      "text/plain": [
       "        Localidad  Precio_por_metro_cuadrado(usd)  \\\n",
       "3893      Torreón                     1875.000000   \n",
       "3894      Chauvín                     1146.153846   \n",
       "3895  Parque Luro                     1500.000000   \n",
       "3900  Lanús Oeste                     2000.000000   \n",
       "3901        Tigre                     2000.000000   \n",
       "\n",
       "      distancia_escuela_mas_cercana(m)  \\\n",
       "3893                        503.163042   \n",
       "3894                        130.570679   \n",
       "3895                        434.343628   \n",
       "3900                       2998.409188   \n",
       "3901                        435.546146   \n",
       "\n",
       "                                    escuela_mas_cercana  \n",
       "3893                                COLEGIO SAN AGUSTIN  \n",
       "3894                          INSTITUTO ALBERT EINSTEIN  \n",
       "3895               ESCUELA DE EDCUACIÓN SECUNDARIA Nº67  \n",
       "3900  ESCUELA DE EDUCACIÓN PRIMARIA Nº13 \"HIPOLITO Y...  \n",
       "3901                          COLEGIO DE LA RECONQUISTA  "
      ]
     },
     "execution_count": 18,
     "metadata": {},
     "output_type": "execute_result"
    }
   ],
   "source": [
    "precio_segun_distancia = precio_segun_distancia[['Localidad','Precio_por_metro_cuadrado(usd)',\n",
    "                                                'distancia_escuela_mas_cercana(m)','escuela_mas_cercana']]\n",
    "#EL dataframe final de este analisis quedo de la siguiente forma\n",
    "precio_segun_distancia.head()"
   ]
  },
  {
   "cell_type": "code",
   "execution_count": 19,
   "metadata": {},
   "outputs": [
    {
     "data": {
      "text/plain": [
       "<matplotlib.text.Text at 0x7f171afad208>"
      ]
     },
     "execution_count": 19,
     "metadata": {},
     "output_type": "execute_result"
    },
    {
     "data": {
      "image/png": "[encoded data removed]",
      "text/plain": [
       "<matplotlib.figure.Figure at 0x7f171afa4208>"
      ]
     },
     "metadata": {},
     "output_type": "display_data"
    }
   ],
   "source": [
    "%matplotlib inline\n",
    "df = precio_segun_distancia[precio_segun_distancia['distancia_escuela_mas_cercana(m)']< 3000]\n",
    "final = df[df['Precio_por_metro_cuadrado(usd)']< 20000]\n",
    "plot = final.plot.scatter('distancia_escuela_mas_cercana(m)', 'Precio_por_metro_cuadrado(usd)',alpha=0.25, figsize=(12,8),\n",
    "                           color = 'red', fontsize = 13, title ='Relacion precio por metro cuadrado\\\n",
    "                 y distancia a escuela mas cercana')\n",
    "plot.set_xlabel(\"Distancia a la escuela mas cercana (m)\", fontsize = 15)\n",
    "plot.set_ylabel(\"Precio del metro cuadrado (usd)\", fontsize = 15)\n",
    "plot.set_title(\"Relacion precio del metro cuadrado y distancia a la escuela mas cercana\", fontsize = 17)"
   ]
  },
  {
   "cell_type": "markdown",
   "metadata": {},
   "source": [
    "Puede observarse que en general, las propiedades con una escuela mas cerca tienden a costar mas caro"
   ]
  },
  {
   "cell_type": "code",
   "execution_count": null,
   "metadata": {
    "collapsed": true
   },
   "outputs": [],
   "source": []
  }
 ],
 "metadata": {
  "kernelspec": {
   "display_name": "Python 3",
   "language": "python",
   "name": "python3"
  },
  "language_info": {
   "codemirror_mode": {
    "name": "ipython",
    "version": 3
   },
   "file_extension": ".py",
   "mimetype": "text/x-python",
   "name": "python",
   "nbconvert_exporter": "python",
   "pygments_lexer": "ipython3",
   "version": "3.6.1"
  }
 },
 "nbformat": 4,
 "nbformat_minor": 2
}
