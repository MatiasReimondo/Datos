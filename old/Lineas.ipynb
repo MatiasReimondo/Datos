{
 "cells": [
  {
   "cell_type": "markdown",
   "metadata": {},
   "source": [
    "# Lineas de subte \n",
    "Despues de estudiar el mapa de Capital Federal nos dimos cuenta que hay una zona que esta cubierta por el subte y si nos alejamos de ella, hay una zona donde este medio de transporte no brinda servicio, en vez de separar el estudio por linea decidimos comparar todas las propiedades de Capital, siepre con su distancia menor a una linea de subte, a vr como influye esto con el precio\n",
    "\n",
    "! [Imagen] (http://elpaisdigital.com.ar/media/contents/7fc7948a549c6dd37db99f38780bbb5c30cf8706.png)"
   ]
  },
  {
   "cell_type": "code",
   "execution_count": 1,
   "metadata": {},
   "outputs": [
    {
     "name": "stdout",
     "output_type": "stream",
     "text": [
      "<class 'pandas.core.frame.DataFrame'>\n",
      "Int64Index: 16903 entries, 162 to 186306\n",
      "Data columns (total 6 columns):\n",
      "property_type    16903 non-null object\n",
      "place_name       16903 non-null object\n",
      "rooms            16903 non-null float64\n",
      "lat              16903 non-null float64\n",
      "lon              16903 non-null float64\n",
      "price            16903 non-null float64\n",
      "dtypes: float64(4), object(2)\n",
      "memory usage: 924.4+ KB\n"
     ]
    },
    {
     "name": "stderr",
     "output_type": "stream",
     "text": [
      "/home/matias/anaconda2/lib/python2.7/site-packages/ipykernel_launcher.py:17: SettingWithCopyWarning: \n",
      "A value is trying to be set on a copy of a slice from a DataFrame\n",
      "\n",
      "See the caveats in the documentation: http://pandas.pydata.org/pandas-docs/stable/indexing.html#indexing-view-versus-copy\n"
     ]
    }
   ],
   "source": [
    "import datetime as datetime\n",
    "import pandas as pd\n",
    "import numpy as np\n",
    "import matplotlib.pyplot as plt\n",
    "%config IPCompleter.greedy=True\n",
    "\n",
    "#Data de properati\n",
    "df = pd.read_csv('/home/matias/Escritorio/notebook/properati-AR-2017-08-01-properties-sell.csv')\n",
    "\n",
    "#Filtramos solo las propiedades de Capital Federal\n",
    "propCF = df[df['state_name']== 'Capital Federal']\n",
    "\n",
    "propDepto = propCF[propCF['property_type'] == 'apartment']\n",
    "\n",
    "propCapital = propDepto[['property_type','place_name','rooms','lat','lon','price']]\n",
    "\n",
    "propCapital.dropna(inplace = True)\n",
    "propCapital.info()"
   ]
  },
  {
   "cell_type": "code",
   "execution_count": 2,
   "metadata": {},
   "outputs": [
    {
     "data": {
      "text/html": [
       "<div>\n",
       "<style>\n",
       "    .dataframe thead tr:only-child th {\n",
       "        text-align: right;\n",
       "    }\n",
       "\n",
       "    .dataframe thead th {\n",
       "        text-align: left;\n",
       "    }\n",
       "\n",
       "    .dataframe tbody tr th {\n",
       "        vertical-align: top;\n",
       "    }\n",
       "</style>\n",
       "<table border=\"1\" class=\"dataframe\">\n",
       "  <thead>\n",
       "    <tr style=\"text-align: right;\">\n",
       "      <th></th>\n",
       "      <th>X</th>\n",
       "      <th>Y</th>\n",
       "      <th>ID</th>\n",
       "      <th>ESTACION</th>\n",
       "      <th>LINEA</th>\n",
       "    </tr>\n",
       "  </thead>\n",
       "  <tbody>\n",
       "    <tr>\n",
       "      <th>0</th>\n",
       "      <td>-58.398928</td>\n",
       "      <td>-34.635750</td>\n",
       "      <td>1.0</td>\n",
       "      <td>CASEROS</td>\n",
       "      <td>H</td>\n",
       "    </tr>\n",
       "    <tr>\n",
       "      <th>1</th>\n",
       "      <td>-58.400970</td>\n",
       "      <td>-34.629376</td>\n",
       "      <td>2.0</td>\n",
       "      <td>INCLAN</td>\n",
       "      <td>H</td>\n",
       "    </tr>\n",
       "    <tr>\n",
       "      <th>2</th>\n",
       "      <td>-58.402323</td>\n",
       "      <td>-34.623092</td>\n",
       "      <td>3.0</td>\n",
       "      <td>HUMBERTO 1�</td>\n",
       "      <td>H</td>\n",
       "    </tr>\n",
       "    <tr>\n",
       "      <th>3</th>\n",
       "      <td>-58.404732</td>\n",
       "      <td>-34.615242</td>\n",
       "      <td>4.0</td>\n",
       "      <td>VENEZUELA</td>\n",
       "      <td>H</td>\n",
       "    </tr>\n",
       "    <tr>\n",
       "      <th>4</th>\n",
       "      <td>-58.406036</td>\n",
       "      <td>-34.608935</td>\n",
       "      <td>5.0</td>\n",
       "      <td>ONCE - 30 DE DICIEMBRE</td>\n",
       "      <td>H</td>\n",
       "    </tr>\n",
       "    <tr>\n",
       "      <th>5</th>\n",
       "      <td>-58.380574</td>\n",
       "      <td>-34.604245</td>\n",
       "      <td>6.0</td>\n",
       "      <td>9 DE JULIO</td>\n",
       "      <td>D</td>\n",
       "    </tr>\n",
       "    <tr>\n",
       "      <th>6</th>\n",
       "      <td>-58.397924</td>\n",
       "      <td>-34.599757</td>\n",
       "      <td>7.0</td>\n",
       "      <td>FACULTAD DE MEDICINA</td>\n",
       "      <td>D</td>\n",
       "    </tr>\n",
       "    <tr>\n",
       "      <th>7</th>\n",
       "      <td>-58.385142</td>\n",
       "      <td>-34.601587</td>\n",
       "      <td>8.0</td>\n",
       "      <td>TRIBUNALES - TEATRO COL�N</td>\n",
       "      <td>D</td>\n",
       "    </tr>\n",
       "    <tr>\n",
       "      <th>8</th>\n",
       "      <td>-58.407161</td>\n",
       "      <td>-34.591628</td>\n",
       "      <td>9.0</td>\n",
       "      <td>AG�ERO</td>\n",
       "      <td>D</td>\n",
       "    </tr>\n",
       "    <tr>\n",
       "      <th>9</th>\n",
       "      <td>-58.415955</td>\n",
       "      <td>-34.585156</td>\n",
       "      <td>10.0</td>\n",
       "      <td>R.SCALABRINI ORTIZ</td>\n",
       "      <td>D</td>\n",
       "    </tr>\n",
       "    <tr>\n",
       "      <th>10</th>\n",
       "      <td>-58.421196</td>\n",
       "      <td>-34.581411</td>\n",
       "      <td>11.0</td>\n",
       "      <td>PLAZA ITALIA</td>\n",
       "      <td>D</td>\n",
       "    </tr>\n",
       "    <tr>\n",
       "      <th>11</th>\n",
       "      <td>-58.425711</td>\n",
       "      <td>-34.578422</td>\n",
       "      <td>12.0</td>\n",
       "      <td>PALERMO</td>\n",
       "      <td>D</td>\n",
       "    </tr>\n",
       "    <tr>\n",
       "      <th>12</th>\n",
       "      <td>-58.374018</td>\n",
       "      <td>-34.591194</td>\n",
       "      <td>13.0</td>\n",
       "      <td>RETIRO</td>\n",
       "      <td>C</td>\n",
       "    </tr>\n",
       "    <tr>\n",
       "      <th>13</th>\n",
       "      <td>-58.378156</td>\n",
       "      <td>-34.601770</td>\n",
       "      <td>14.0</td>\n",
       "      <td>LAVALLE</td>\n",
       "      <td>C</td>\n",
       "    </tr>\n",
       "    <tr>\n",
       "      <th>14</th>\n",
       "      <td>-58.379530</td>\n",
       "      <td>-34.604844</td>\n",
       "      <td>15.0</td>\n",
       "      <td>DIAGONAL NORTE</td>\n",
       "      <td>C</td>\n",
       "    </tr>\n",
       "    <tr>\n",
       "      <th>15</th>\n",
       "      <td>-58.380611</td>\n",
       "      <td>-34.608983</td>\n",
       "      <td>16.0</td>\n",
       "      <td>AV. DE MAYO</td>\n",
       "      <td>C</td>\n",
       "    </tr>\n",
       "    <tr>\n",
       "      <th>16</th>\n",
       "      <td>-58.380444</td>\n",
       "      <td>-34.612617</td>\n",
       "      <td>17.0</td>\n",
       "      <td>MORENO</td>\n",
       "      <td>C</td>\n",
       "    </tr>\n",
       "    <tr>\n",
       "      <th>17</th>\n",
       "      <td>-58.380174</td>\n",
       "      <td>-34.618126</td>\n",
       "      <td>18.0</td>\n",
       "      <td>INDEPENDENCIA</td>\n",
       "      <td>C</td>\n",
       "    </tr>\n",
       "    <tr>\n",
       "      <th>18</th>\n",
       "      <td>-58.381434</td>\n",
       "      <td>-34.627619</td>\n",
       "      <td>19.0</td>\n",
       "      <td>CONSTITUCION</td>\n",
       "      <td>C</td>\n",
       "    </tr>\n",
       "    <tr>\n",
       "      <th>19</th>\n",
       "      <td>-58.375072</td>\n",
       "      <td>-34.603297</td>\n",
       "      <td>20.0</td>\n",
       "      <td>FLORIDA</td>\n",
       "      <td>B</td>\n",
       "    </tr>\n",
       "  </tbody>\n",
       "</table>\n",
       "</div>"
      ],
      "text/plain": [
       "            X          Y    ID                   ESTACION LINEA\n",
       "0  -58.398928 -34.635750   1.0                    CASEROS     H\n",
       "1  -58.400970 -34.629376   2.0                     INCLAN     H\n",
       "2  -58.402323 -34.623092   3.0                HUMBERTO 1�     H\n",
       "3  -58.404732 -34.615242   4.0                  VENEZUELA     H\n",
       "4  -58.406036 -34.608935   5.0     ONCE - 30 DE DICIEMBRE     H\n",
       "5  -58.380574 -34.604245   6.0                 9 DE JULIO     D\n",
       "6  -58.397924 -34.599757   7.0       FACULTAD DE MEDICINA     D\n",
       "7  -58.385142 -34.601587   8.0  TRIBUNALES - TEATRO COL�N     D\n",
       "8  -58.407161 -34.591628   9.0                     AG�ERO     D\n",
       "9  -58.415955 -34.585156  10.0         R.SCALABRINI ORTIZ     D\n",
       "10 -58.421196 -34.581411  11.0               PLAZA ITALIA     D\n",
       "11 -58.425711 -34.578422  12.0                    PALERMO     D\n",
       "12 -58.374018 -34.591194  13.0                     RETIRO     C\n",
       "13 -58.378156 -34.601770  14.0                    LAVALLE     C\n",
       "14 -58.379530 -34.604844  15.0             DIAGONAL NORTE     C\n",
       "15 -58.380611 -34.608983  16.0                AV. DE MAYO     C\n",
       "16 -58.380444 -34.612617  17.0                     MORENO     C\n",
       "17 -58.380174 -34.618126  18.0              INDEPENDENCIA     C\n",
       "18 -58.381434 -34.627619  19.0               CONSTITUCION     C\n",
       "19 -58.375072 -34.603297  20.0                    FLORIDA     B"
      ]
     },
     "execution_count": 2,
     "metadata": {},
     "output_type": "execute_result"
    }
   ],
   "source": [
    "estaciones = pd.read_csv('/home/matias/Escritorio/notebook/estaciones-de-subte.csv')\n",
    "estaciones.head()\n",
    "\n",
    "estaciones.head(20)"
   ]
  },
  {
   "cell_type": "code",
   "execution_count": 3,
   "metadata": {},
   "outputs": [
    {
     "name": "stderr",
     "output_type": "stream",
     "text": [
      "/home/matias/anaconda2/lib/python2.7/site-packages/ipykernel_launcher.py:6: SettingWithCopyWarning: \n",
      "A value is trying to be set on a copy of a slice from a DataFrame.\n",
      "Try using .loc[row_indexer,col_indexer] = value instead\n",
      "\n",
      "See the caveats in the documentation: http://pandas.pydata.org/pandas-docs/stable/indexing.html#indexing-view-versus-copy\n",
      "  \n",
      "/home/matias/anaconda2/lib/python2.7/site-packages/ipykernel_launcher.py:7: SettingWithCopyWarning: \n",
      "A value is trying to be set on a copy of a slice from a DataFrame.\n",
      "Try using .loc[row_indexer,col_indexer] = value instead\n",
      "\n",
      "See the caveats in the documentation: http://pandas.pydata.org/pandas-docs/stable/indexing.html#indexing-view-versus-copy\n",
      "  import sys\n"
     ]
    }
   ],
   "source": [
    "i = 1\n",
    "for index, row in estaciones.iterrows():\n",
    "    lon = estaciones.loc[index,'X']\n",
    "    lat = estaciones.loc[index,'Y']\n",
    "    label = str(i)\n",
    "    propCapital['lon' + label] = lon\n",
    "    propCapital['lat' + label] = lat\n",
    "    i = i+1\n",
    "    \n"
   ]
  },
  {
   "cell_type": "code",
   "execution_count": 4,
   "metadata": {},
   "outputs": [
    {
     "name": "stdout",
     "output_type": "stream",
     "text": [
      "<class 'pandas.core.frame.DataFrame'>\n",
      "Int64Index: 16903 entries, 162 to 186306\n",
      "Columns: 178 entries, property_type to lat86\n",
      "dtypes: float64(176), object(2)\n",
      "memory usage: 23.1+ MB\n"
     ]
    }
   ],
   "source": [
    "propCapital.info()"
   ]
  },
  {
   "cell_type": "code",
   "execution_count": 5,
   "metadata": {
    "collapsed": true
   },
   "outputs": [],
   "source": [
    "import math\n",
    "\n",
    "def haversine(lat1, lon1, lat2, lon2):\n",
    "    rad=math.pi/180\n",
    "    dlat=lat2-lat1\n",
    "    dlon=lon2-lon1\n",
    "    R=6372.795477598\n",
    "    a=(np.sin(rad*dlat/2))**2 + np.cos(rad*lat1)*np.cos(rad*lat2)*(np.sin(rad*dlon/2))**2\n",
    "    distancia=2*R*np.arcsin(np.sqrt(a))\n",
    "    distM = distancia\n",
    "    return distM"
   ]
  },
  {
   "cell_type": "code",
   "execution_count": null,
   "metadata": {},
   "outputs": [],
   "source": [
    "for row in estaciones.iterrows():\n",
    "    for i in range(1,87):\n",
    "        label = str(i)\n",
    "        lat1 = propCapital['lat'].astype(float)\n",
    "        lon1 = propCapital['lon'].astype(float)\n",
    "        lat2 = propCapital['lat'+ label].astype(float)\n",
    "        lon2 = propCapital['lon'+ label].astype(float)\n",
    "        dist = haversine(lat1,lon1,lat2,lon2)\n",
    "        propCapital['dist' + label] = dist"
   ]
  },
  {
   "cell_type": "code",
   "execution_count": null,
   "metadata": {
    "collapsed": true
   },
   "outputs": [],
   "source": [
    "propCapital.head()"
   ]
  },
  {
   "cell_type": "code",
   "execution_count": null,
   "metadata": {
    "collapsed": true
   },
   "outputs": [],
   "source": [
    "columnas = 87\n",
    "cols_to_use = ['dist'+str(i) for i in range(columnas)]\n",
    "propCapital['min_dist'] =propCapital.loc[:,cols_to_use].min(axis=1)\n",
    "propCapital.head()\n"
   ]
  },
  {
   "cell_type": "code",
   "execution_count": null,
   "metadata": {
    "collapsed": true,
    "scrolled": true
   },
   "outputs": [],
   "source": [
    "%matplotlib inline\n",
    "propCapital1 = propCapital[propCapital['price']< 1000000]\n",
    "propCapital2 = propCapital1[propCapital['min_dist']< 10]\n",
    "propCapital2.plot.scatter('min_dist', 'price',alpha=0.25, figsize=(12,8))"
   ]
  },
  {
   "cell_type": "markdown",
   "metadata": {},
   "source": [
    "Podemos concluir que efectivamente la distancia a las paradas de subte influye en los precios de las propiedades, si bien tenemos una concentracion grande de propiedades en el rango de 1 km de distnacia al subte podemos ver que a medida que nos alejamos mas la densidad de propiedas con precios altos decrece tremendamente. Con esto podemos llegar a dos conclusiones.\n",
    "1. el precio de las propiedades disminuye a medida de que nos alejamos de cualquier linea de subte en un rango de 1 km aproximadamente\n",
    "2. La concentracion de propiedades disminuye a medida de que nos alejamos de las paradas del subte, esto puede ser debido a que la presencia de estos medios de transporte favorece la urbanizacion"
   ]
  },
  {
   "cell_type": "markdown",
   "metadata": {},
   "source": []
  },
  {
   "cell_type": "code",
   "execution_count": null,
   "metadata": {
    "collapsed": true
   },
   "outputs": [],
   "source": []
  },
  {
   "cell_type": "code",
   "execution_count": null,
   "metadata": {
    "collapsed": true
   },
   "outputs": [],
   "source": []
  },
  {
   "cell_type": "code",
   "execution_count": null,
   "metadata": {
    "collapsed": true
   },
   "outputs": [],
   "source": []
  }
 ],
 "metadata": {
  "kernelspec": {
   "display_name": "Python 2",
   "language": "python",
   "name": "python2"
  },
  "language_info": {
   "codemirror_mode": {
    "name": "ipython",
    "version": 2
   },
   "file_extension": ".py",
   "mimetype": "text/x-python",
   "name": "python",
   "nbconvert_exporter": "python",
   "pygments_lexer": "ipython2",
   "version": "2.7.13"
  }
 },
 "nbformat": 4,
 "nbformat_minor": 2
}
