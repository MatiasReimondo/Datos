{
 "cells": [
  {
   "cell_type": "code",
   "execution_count": 122,
   "metadata": {},
   "outputs": [],
   "source": [
    "import numpy as np\n",
    "import pandas as pd\n",
    "import matplotlib.pyplot as plt\n",
    "from sklearn.metrics import mean_squared_error\n",
    "from sklearn import neighbors\n",
    "from sklearn import preprocessing\n",
    "from sklearn.preprocessing import LabelEncoder \n",
    "from sklearn.metrics import mean_squared_error\n",
    "from sklearn.metrics import median_absolute_error\n",
    "from sklearn.preprocessing import Imputer"
   ]
  },
  {
   "cell_type": "code",
   "execution_count": 222,
   "metadata": {},
   "outputs": [
    {
     "name": "stderr",
     "output_type": "stream",
     "text": [
      "/Users/mreverter/PythonProjects/datos/tp-last/env/lib/python2.7/site-packages/IPython/core/interactiveshell.py:2718: DtypeWarning: Columns (1,4,5,6,9,25,29) have mixed types. Specify dtype option on import or set low_memory=False.\n",
      "  interactivity=interactivity, compiler=compiler, result=result)\n"
     ]
    }
   ],
   "source": [
    "properties = pd.read_csv('data/props/datos_procesados.csv')\n",
    "properties.dropna(subset=['price','property_type', 'state_name', 'place_name'], inplace=True)"
   ]
  },
  {
   "cell_type": "code",
   "execution_count": 223,
   "metadata": {},
   "outputs": [],
   "source": [
    "train = properties.loc[:, ['property_type', 'state_name', 'place_name', 'rooms', 'expenses', 'floor', 'price']]"
   ]
  },
  {
   "cell_type": "code",
   "execution_count": 224,
   "metadata": {},
   "outputs": [
    {
     "data": {
      "text/html": [
       "<div>\n",
       "<style scoped>\n",
       "    .dataframe tbody tr th:only-of-type {\n",
       "        vertical-align: middle;\n",
       "    }\n",
       "\n",
       "    .dataframe tbody tr th {\n",
       "        vertical-align: top;\n",
       "    }\n",
       "\n",
       "    .dataframe thead th {\n",
       "        text-align: right;\n",
       "    }\n",
       "</style>\n",
       "<table border=\"1\" class=\"dataframe\">\n",
       "  <thead>\n",
       "    <tr style=\"text-align: right;\">\n",
       "      <th></th>\n",
       "      <th>property_type</th>\n",
       "      <th>state_name</th>\n",
       "      <th>place_name</th>\n",
       "      <th>rooms</th>\n",
       "      <th>expenses</th>\n",
       "      <th>floor</th>\n",
       "      <th>price</th>\n",
       "    </tr>\n",
       "  </thead>\n",
       "  <tbody>\n",
       "    <tr>\n",
       "      <th>360720</th>\n",
       "      <td>apartment</td>\n",
       "      <td>Capital Federal</td>\n",
       "      <td>Palermo</td>\n",
       "      <td>1.0</td>\n",
       "      <td>1500</td>\n",
       "      <td>NaN</td>\n",
       "      <td>71000.0</td>\n",
       "    </tr>\n",
       "    <tr>\n",
       "      <th>360721</th>\n",
       "      <td>apartment</td>\n",
       "      <td>Bs.As. G.B.A. Zona Sur</td>\n",
       "      <td>Temperley</td>\n",
       "      <td>NaN</td>\n",
       "      <td>270</td>\n",
       "      <td>NaN</td>\n",
       "      <td>132000.0</td>\n",
       "    </tr>\n",
       "    <tr>\n",
       "      <th>360722</th>\n",
       "      <td>apartment</td>\n",
       "      <td>Bs.As. G.B.A. Zona Sur</td>\n",
       "      <td>Lomas de Zamora</td>\n",
       "      <td>NaN</td>\n",
       "      <td>650</td>\n",
       "      <td>NaN</td>\n",
       "      <td>190000.0</td>\n",
       "    </tr>\n",
       "    <tr>\n",
       "      <th>360723</th>\n",
       "      <td>apartment</td>\n",
       "      <td>Bs.As. G.B.A. Zona Sur</td>\n",
       "      <td>Lomas de Zamora</td>\n",
       "      <td>NaN</td>\n",
       "      <td>1500</td>\n",
       "      <td>NaN</td>\n",
       "      <td>119000.0</td>\n",
       "    </tr>\n",
       "    <tr>\n",
       "      <th>360724</th>\n",
       "      <td>store</td>\n",
       "      <td>Bs.As. G.B.A. Zona Sur</td>\n",
       "      <td>Temperley</td>\n",
       "      <td>NaN</td>\n",
       "      <td>NaN</td>\n",
       "      <td>NaN</td>\n",
       "      <td>98000.0</td>\n",
       "    </tr>\n",
       "  </tbody>\n",
       "</table>\n",
       "</div>"
      ],
      "text/plain": [
       "       property_type              state_name       place_name  rooms expenses  \\\n",
       "360720     apartment         Capital Federal          Palermo    1.0     1500   \n",
       "360721     apartment  Bs.As. G.B.A. Zona Sur        Temperley    NaN      270   \n",
       "360722     apartment  Bs.As. G.B.A. Zona Sur  Lomas de Zamora    NaN      650   \n",
       "360723     apartment  Bs.As. G.B.A. Zona Sur  Lomas de Zamora    NaN     1500   \n",
       "360724         store  Bs.As. G.B.A. Zona Sur        Temperley    NaN      NaN   \n",
       "\n",
       "        floor     price  \n",
       "360720    NaN   71000.0  \n",
       "360721    NaN  132000.0  \n",
       "360722    NaN  190000.0  \n",
       "360723    NaN  119000.0  \n",
       "360724    NaN   98000.0  "
      ]
     },
     "execution_count": 224,
     "metadata": {},
     "output_type": "execute_result"
    }
   ],
   "source": [
    "train.head(5)"
   ]
  },
  {
   "cell_type": "code",
   "execution_count": 225,
   "metadata": {},
   "outputs": [],
   "source": [
    "test = train[478:]\n",
    "train = train[0:478]\n",
    "#test = pd.read_csv('data/test/properati_dataset_testing_noprice.csv')\n",
    "test['expenses'] = test['expenses'].apply(pd.to_numeric, errors='coerce')"
   ]
  },
  {
   "cell_type": "code",
   "execution_count": 226,
   "metadata": {},
   "outputs": [],
   "source": [
    "lb_make = LabelEncoder()\n",
    "train['property_type_encoded'] = lb_make.fit_transform(train['property_type'])\n",
    "\n",
    "lb_make = LabelEncoder()\n",
    "train['place_name_encoded'] = lb_make.fit_transform(train['place_name'])\n",
    "\n",
    "lb_make = LabelEncoder()\n",
    "train['state_name_encoded'] = lb_make.fit_transform(train['state_name'])"
   ]
  },
  {
   "cell_type": "code",
   "execution_count": 227,
   "metadata": {},
   "outputs": [],
   "source": [
    "lb_make = LabelEncoder()\n",
    "test['property_type_encoded'] = lb_make.fit_transform(test['property_type'])\n",
    "\n",
    "lb_make = LabelEncoder()\n",
    "test['place_name_encoded'] = lb_make.fit_transform(test['place_name'])\n",
    "\n",
    "lb_make = LabelEncoder()\n",
    "test['state_name_encoded'] = lb_make.fit_transform(test['state_name'])"
   ]
  },
  {
   "cell_type": "code",
   "execution_count": 228,
   "metadata": {},
   "outputs": [
    {
     "name": "stderr",
     "output_type": "stream",
     "text": [
      "/Users/mreverter/PythonProjects/datos/tp-last/env/lib/python2.7/site-packages/ipykernel_launcher.py:1: FutureWarning: \n",
      "Passing list-likes to .loc or [] with any missing label will raise\n",
      "KeyError in the future, you can use .reindex() as an alternative.\n",
      "\n",
      "See the documentation here:\n",
      "http://pandas.pydata.org/pandas-docs/stable/indexing.html#deprecate-loc-reindex-listlike\n",
      "  \"\"\"Entry point for launching an IPython kernel.\n"
     ]
    }
   ],
   "source": [
    "train_no_prices = train.loc[:, ['property_type_encoded', 'state_name_encoded', 'place_name_encoded', 'rooms', 'expenses', 'floor', 'lat', 'lon']]"
   ]
  },
  {
   "cell_type": "code",
   "execution_count": 229,
   "metadata": {},
   "outputs": [],
   "source": [
    "test_to_predict = test.loc[:, ['property_type_encoded', 'state_name_encoded', 'place_name_encoded', 'rooms', 'expenses', 'floor']]"
   ]
  },
  {
   "cell_type": "code",
   "execution_count": 230,
   "metadata": {},
   "outputs": [],
   "source": [
    "imp = Imputer(missing_values='NaN', strategy='mean', axis=0)\n",
    "imp.fit(train_no_prices)\n",
    "Imputer(axis=0, copy=True, missing_values='NaN', strategy='mean', verbose=0)\n",
    "\n",
    "train_no_prices = imp.transform(train_no_prices)"
   ]
  },
  {
   "cell_type": "code",
   "execution_count": 231,
   "metadata": {},
   "outputs": [],
   "source": [
    "imp = Imputer(missing_values='NaN', strategy='mean', axis=0)\n",
    "imp.fit(test_to_predict)\n",
    "Imputer(axis=0, copy=True, missing_values='NaN', strategy='mean', verbose=0)\n",
    "\n",
    "test_to_predict = imp.transform(test_to_predict)"
   ]
  },
  {
   "cell_type": "code",
   "execution_count": 232,
   "metadata": {},
   "outputs": [],
   "source": [
    "knn = neighbors.KNeighborsRegressor(25, weights=\"uniform\", algorithm=\"ball_tree\")"
   ]
  },
  {
   "cell_type": "code",
   "execution_count": 233,
   "metadata": {},
   "outputs": [],
   "source": [
    "train_prices = train.loc[:, 'price']\n"
   ]
  },
  {
   "cell_type": "code",
   "execution_count": 234,
   "metadata": {},
   "outputs": [],
   "source": [
    "predictions = knn.fit(train_no_prices, train_prices).predict(test_to_predict)\n",
    "predictions = predictions.flatten()"
   ]
  },
  {
   "cell_type": "code",
   "execution_count": 235,
   "metadata": {},
   "outputs": [
    {
     "data": {
      "text/plain": [
       "730740827175.60791"
      ]
     },
     "execution_count": 235,
     "metadata": {},
     "output_type": "execute_result"
    }
   ],
   "source": [
    "#result = pd.DataFrame()\n",
    "#result['price_usd'] = predictions\n",
    "#result.index = test['id']\n",
    "#result.to_csv('submission.csv')\n",
    "real = properties[478:]\n",
    "score = mean_squared_error(real['price'].values, predictions)\n",
    "score"
   ]
  },
  {
   "cell_type": "code",
   "execution_count": 236,
   "metadata": {},
   "outputs": [
    {
     "data": {
      "text/plain": [
       "139948.0"
      ]
     },
     "execution_count": 236,
     "metadata": {},
     "output_type": "execute_result"
    }
   ],
   "source": [
    "median_absolute_error(real['price'].values, predictions)"
   ]
  },
  {
   "cell_type": "markdown",
   "metadata": {},
   "source": [
    "#### Sin data subte\n",
    "13133649304.42177\n",
    "\n",
    "#### Con data subte\n",
    "15440408563.133505\n",
    "\n",
    "#### Con más data\n",
    "4463304596.938776\n",
    "\n",
    "3638297142.0196667"
   ]
  },
  {
   "cell_type": "markdown",
   "metadata": {},
   "source": [
    "### Grid Search"
   ]
  },
  {
   "cell_type": "code",
   "execution_count": 95,
   "metadata": {},
   "outputs": [],
   "source": [
    "testIds = properties.loc[478:]['id'].values\n",
    "\n",
    "reducedProperties = properties[['id', 'price']]\n",
    "reducedProperties.set_index(['id'], inplace=True)\n",
    "\n",
    "k_trials = [1, 2, 3, 4, 5, 11, 21, 31, 51, 71, 91, 101, 151, 201, 251]\n",
    "            \n",
    "weights = ['uniform', 'distance']\n",
    "\n",
    "algorithms = ['kd_tree', 'ball_tree']\n",
    "\n",
    "predictionList = []\n",
    "scoreList = []\n",
    "\n",
    "for k in k_trials:\n",
    "    for w in weights:\n",
    "        for a in algorithms:\n",
    "            knn = neighbors.KNeighborsRegressor(k, weights=w, algorithm=a)\n",
    "            predictions = knn.fit(train_no_prices, train_prices).predict(test_to_predict)\n",
    "            predictions = predictions.flatten()\n",
    "            #Creo archivo para submit\n",
    "            submissionDf = pd.DataFrame()\n",
    "            submissionDf['id'] = pd.Series(testIds)\n",
    "            submissionDf['price_usd'] = pd.Series(predictions)\n",
    "            submissionDf.set_index(['id'], inplace=True)\n",
    "            submissionDf.to_csv('predictions-K'+str(k)+'-'+w+'-'+a+'.csv')\n",
    "            submissionDf.columns = ['price_usd']\n",
    "            result = submissionDf.join(reducedProperties, how='inner')\n",
    "            predictionList.append('KNN-K'+str(k)+'-'+w+'-'+a)\n",
    "            real = properties[478:]\n",
    "            score = mean_squared_error(real['price'].values, predictions)\n",
    "            scoreList.append(score)"
   ]
  },
  {
   "cell_type": "code",
   "execution_count": 97,
   "metadata": {},
   "outputs": [],
   "source": [
    "scoresDf = pd.DataFrame()\n",
    "scoresDf['variant'] = pd.Series(predictionList)\n",
    "scoresDf['score'] = pd.Series(scoreList)\n",
    "scoresDf.sort_values(by='score', ascending=True, inplace=True)\n",
    "scoresDf.to_csv('scores.csv')"
   ]
  },
  {
   "cell_type": "code",
   "execution_count": null,
   "metadata": {},
   "outputs": [],
   "source": []
  }
 ],
 "metadata": {
  "kernelspec": {
   "display_name": "Python 2",
   "language": "python",
   "name": "python2"
  },
  "language_info": {
   "codemirror_mode": {
    "name": "ipython",
    "version": 2
   },
   "file_extension": ".py",
   "mimetype": "text/x-python",
   "name": "python",
   "nbconvert_exporter": "python",
   "pygments_lexer": "ipython2",
   "version": "2.7.10"
  }
 },
 "nbformat": 4,
 "nbformat_minor": 2
}
