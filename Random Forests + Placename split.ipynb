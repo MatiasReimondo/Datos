{
 "cells": [
  {
   "cell_type": "code",
   "execution_count": 1,
   "metadata": {
    "collapsed": true
   },
   "outputs": [],
   "source": [
    "import numpy as np\n",
    "import pandas as pd\n",
    "import matplotlib.pyplot as plt\n",
    "from sklearn.metrics import mean_squared_error\n",
    "\n",
    "from sklearn import preprocessing\n",
    "from sklearn.preprocessing import LabelEncoder \n",
    "from sklearn.metrics import mean_squared_error\n",
    "from sklearn.metrics import median_absolute_error\n",
    "from sklearn.metrics import accuracy_score\n",
    "\n",
    "from sklearn.ensemble import RandomForestRegressor\n",
    "from sklearn.datasets import make_regression\n",
    "from datetime import datetime\n",
    "from datetime import timedelta, date\n",
    "import matplotlib.dates as mdates\n",
    "import math\n",
    "import warnings\n",
    "\n",
    "from sklearn import neighbors\n",
    "from sklearn import datasets, linear_model\n",
    "from sklearn.metrics import mean_squared_error, r2_score\n",
    "\n",
    "warnings.filterwarnings('ignore')\n",
    "\n",
    "#from xgboost import XGBClassifier\n",
    "#from sklearn.metrics import accuracy_score"
   ]
  },
  {
   "cell_type": "code",
   "execution_count": 2,
   "metadata": {
    "collapsed": true
   },
   "outputs": [],
   "source": [
    "properties = pd.read_csv('trainTree.csv')\n",
    "testing = pd.read_csv('testTree.csv')"
   ]
  },
  {
   "cell_type": "code",
   "execution_count": 3,
   "metadata": {
    "collapsed": true
   },
   "outputs": [],
   "source": [
    "#properties = properties.loc[:, ['id', 'place_name_encoded', 'autopista', 'baja', 'barrio cerrado', 'cancha', 'centro', 'cocina', 'contrafrente', 'cuadras', 'excelente', 'garage', 'gimnasio', 'grande', 'jardin', 'lavadero', 'limpieza', 'living', 'luminoso', 'madero', 'monoambiente', 'nuevo', 'parque', 'patio', 'pileta', 'playroom', 'seguridad', 'shopping', 'surface_covered_in_m2', 'terraza', 'tren', 'price_aprox_usd']]\n",
    "#testing = testing.loc[:, ['id', 'place_name_encoded', 'autopista', 'baja', 'barrio cerrado', 'cancha', 'centro', 'cocina', 'contrafrente', 'cuadras', 'excelente', 'garage', 'gimnasio', 'grande', 'jardin', 'lavadero', 'limpieza', 'living', 'luminoso', 'madero', 'monoambiente', 'nuevo', 'parque', 'patio', 'pileta', 'playroom', 'seguridad', 'shopping', 'surface_covered_in_m2', 'terraza', 'tren']]\n",
    "\n",
    "train = properties\n",
    "train = train.drop('id', 1)\n",
    "train = train.drop('description', 1)\n",
    "train = train.drop('Unnamed: 0', 1)\n",
    "train = train.drop('created_on', 1)\n",
    "train = train.drop('lat', 1)\n",
    "train = train.drop('lon', 1)"
   ]
  },
  {
   "cell_type": "code",
   "execution_count": 4,
   "metadata": {
    "collapsed": true
   },
   "outputs": [],
   "source": [
    "t = testing\n",
    "t = t.drop('description',1)\n",
    "t = t.drop('Unnamed: 0',1)\n",
    "t = t.drop('created_on',1)\n",
    "t = t.drop('lat',1)\n",
    "t = t.drop('lon',1)\n",
    "#t = t.drop('place_name_encoded',1)\n",
    "#t = t.drop('id',1)"
   ]
  },
  {
   "cell_type": "code",
   "execution_count": 5,
   "metadata": {
    "collapsed": true
   },
   "outputs": [],
   "source": [
    "#obtengo trainvacios y testvacios con los entries de los respectivos datasets que cumplen:\n",
    "#en el train set, menos de 10 entradas por place_name_encoded\n",
    "#en el test set, no tienen entradas en el train set con el mismo place_name_encoded\n",
    "\n",
    "\n",
    "l = len(properties['place_name_encoded'].value_counts())\n",
    "\n",
    "#CAMBIO: hardcodeo el valor original (place name encoded va hasta 678)\n",
    "\n",
    "\n",
    "#uso este porque sé que es bajo\n",
    "trainvacios = train[train['place_name_encoded']==1]\n",
    "testvacios = t[t['place_name_encoded']==1]\n",
    "\n",
    "for x in range(0,l+2):\n",
    "    if ((len(t[t['place_name_encoded']==x])==0) or (len(train[train['place_name_encoded']==x])<50)) and (x!=1):\n",
    "    #excluyo el hardcodeado\n",
    "    \n",
    "        train0 = train[train['place_name_encoded']==x]\n",
    "        trainvacios = pd.concat([trainvacios, train0])\n",
    "        \n",
    "        test0 = t[t['place_name_encoded']==x]\n",
    "        testvacios = pd.concat([testvacios, test0])"
   ]
  },
  {
   "cell_type": "code",
   "execution_count": 6,
   "metadata": {
    "collapsed": true
   },
   "outputs": [],
   "source": [
    "#los datos restantes tienen más de 10 entradas en train y al menos alguna en test por barrio\n",
    "#los junto en el dataframe 'trainaptos'\n",
    "\n",
    "trainaptos= train[~train['place_name_encoded'].isin(trainvacios['place_name_encoded'])]\n",
    "testaptos= t[~t['place_name_encoded'].isin(testvacios['place_name_encoded'])]\n",
    "#trainaptos.info()"
   ]
  },
  {
   "cell_type": "code",
   "execution_count": 7,
   "metadata": {},
   "outputs": [
    {
     "name": "stdout",
     "output_type": "stream",
     "text": [
      "Train:\n",
      "Registros:       609670  =  609670\n",
      "Aptos + Vacios:  422499 + 187171\n",
      "Place_names:     899  =  899\n",
      "Vacios + Aptos:  709 + 190\n",
      "\n",
      "Test:\n",
      "Registros:       14166  =  14166\n",
      "Aptos + Vacios:  14107 + 59\n",
      "Place_names:     223  =  223\n",
      "Vacios + Aptos:  33 + 190\n"
     ]
    }
   ],
   "source": [
    "#Reviso que quedo bien el split\n",
    "\n",
    "total = pd.concat([trainaptos, trainvacios])\n",
    "print('Train:')\n",
    "print('Registros:      ', len(total), ' = ', len(train))\n",
    "print('Aptos + Vacios: ', len(trainaptos), '+', len(trainvacios))\n",
    "\n",
    "print('Place_names:    ', len(train['place_name_encoded'].value_counts()), ' = ', len(total['place_name_encoded'].value_counts()))\n",
    "print('Vacios + Aptos: ', len(trainvacios['place_name_encoded'].value_counts()), '+', len(trainaptos['place_name_encoded'].value_counts()))\n",
    "print()\n",
    "\n",
    "\n",
    "total = pd.concat([testaptos, testvacios])\n",
    "print('Test:')\n",
    "print('Registros:      ', len(total), ' = ', len(t))\n",
    "print('Aptos + Vacios: ', len(testaptos), '+', len(testvacios))\n",
    "\n",
    "print('Place_names:    ', len(t['place_name_encoded'].value_counts()), ' = ', len(total['place_name_encoded'].value_counts()))\n",
    "print('Vacios + Aptos: ', len(testvacios['place_name_encoded'].value_counts()), '+', len(testaptos['place_name_encoded'].value_counts()))"
   ]
  },
  {
   "cell_type": "code",
   "execution_count": 8,
   "metadata": {},
   "outputs": [
    {
     "data": {
      "text/plain": [
       "615    24108\n",
       "189    22315\n",
       "218    14268\n",
       "834    12929\n",
       "675    12916\n",
       "145    11867\n",
       "16     11257\n",
       "874    11255\n",
       "484    10917\n",
       "381    10896\n",
       "446    10190\n",
       "587     8600\n",
       "42      7539\n",
       "658     7332\n",
       "667     7151\n",
       "671     7068\n",
       "601     6729\n",
       "746     6671\n",
       "241     6593\n",
       "815     5993\n",
       "242     5485\n",
       "46      5094\n",
       "518     5024\n",
       "715     4969\n",
       "694     4778\n",
       "382     4452\n",
       "835     4397\n",
       "728     4177\n",
       "561     4074\n",
       "579     4036\n",
       "       ...  \n",
       "126      140\n",
       "644      138\n",
       "13       129\n",
       "411      120\n",
       "581      115\n",
       "613      113\n",
       "295       97\n",
       "709       95\n",
       "264       94\n",
       "492       92\n",
       "425       90\n",
       "493       86\n",
       "330       84\n",
       "420       79\n",
       "716       75\n",
       "236       75\n",
       "768       74\n",
       "225       71\n",
       "311       66\n",
       "799       65\n",
       "866       63\n",
       "327       63\n",
       "14        63\n",
       "416       61\n",
       "424       60\n",
       "421       58\n",
       "354       56\n",
       "831       53\n",
       "650       51\n",
       "197       50\n",
       "Name: place_name_encoded, Length: 190, dtype: int64"
      ]
     },
     "execution_count": 8,
     "metadata": {},
     "output_type": "execute_result"
    }
   ],
   "source": [
    "trainaptos['place_name_encoded'].value_counts()"
   ]
  },
  {
   "cell_type": "code",
   "execution_count": 9,
   "metadata": {},
   "outputs": [
    {
     "name": "stdout",
     "output_type": "stream",
     "text": [
      "<class 'pandas.core.frame.DataFrame'>\n",
      "RangeIndex: 59 entries, 0 to 58\n",
      "Data columns (total 2 columns):\n",
      "id           59 non-null int32\n",
      "price_usd    59 non-null float64\n",
      "dtypes: float64(1), int32(1)\n",
      "memory usage: 788.0 bytes\n"
     ]
    }
   ],
   "source": [
    "#armo una funcion que devuelva un dataframe con las predicciones del test y train dados y su id\n",
    "\n",
    "def RandomForest(test,train):\n",
    "    train = train.drop('place_name_encoded',1)\n",
    "    \n",
    "    trainLX = train.drop('price_aprox_usd', 1)\n",
    "    trainLY = train[['price_aprox_usd']]\n",
    "    \n",
    "    t = test.drop('id',1)\n",
    "    t = t.drop('place_name_encoded',1)\n",
    "    \n",
    "    regr = RandomForestRegressor(min_samples_leaf=1, min_samples_split=2,n_estimators=500, n_jobs = -1,max_features='log2')\n",
    "    predictions = regr.fit(trainLX, trainLY).predict(t)\n",
    "    predictions = predictions.flatten()\n",
    "\n",
    "    ids = test.as_matrix()[:,0].flatten()\n",
    "    results = pd.DataFrame()\n",
    "    results['id'] = pd.Series(ids.astype('int32'))\n",
    "    results['price_usd'] = pd.Series(predictions)\n",
    "    \n",
    "    \n",
    "    return results\n",
    "\n",
    "#armo el dataframe resultados. Empieza con los test y train 'vacios'\n",
    "#el resto se hará individualmente por place_name uno por uno posteriormente\n",
    "resultados = RandomForest(testvacios,trainvacios)\n",
    "resultados.info()"
   ]
  },
  {
   "cell_type": "code",
   "execution_count": 10,
   "metadata": {
    "collapsed": true
   },
   "outputs": [],
   "source": [
    "#ahora saco las predicciones para los test y train aptos uno por uno\n",
    "l = len(properties['place_name_encoded'].value_counts())\n",
    "\n",
    "for x in range(0,l+2):\n",
    "    if len(testaptos[testaptos['place_name_encoded']==x])!=0:\n",
    "        testx = testaptos[testaptos['place_name_encoded']==x]\n",
    "        trainx = trainaptos[trainaptos['place_name_encoded']==x]\n",
    "        resx = RandomForest(testx,trainx)\n",
    "        \n",
    "        resultados = pd.concat([resultados, resx])"
   ]
  },
  {
   "cell_type": "code",
   "execution_count": 11,
   "metadata": {},
   "outputs": [
    {
     "name": "stdout",
     "output_type": "stream",
     "text": [
      "<class 'pandas.core.frame.DataFrame'>\n",
      "Int64Index: 14166 entries, 0 to 25\n",
      "Data columns (total 2 columns):\n",
      "id           14166 non-null int32\n",
      "price_usd    14166 non-null float64\n",
      "dtypes: float64(1), int32(1)\n",
      "memory usage: 276.7 KB\n"
     ]
    }
   ],
   "source": [
    "#debe contener la misma cantidad que testing (14166)\n",
    "resultados.info()"
   ]
  },
  {
   "cell_type": "code",
   "execution_count": 12,
   "metadata": {
    "collapsed": true
   },
   "outputs": [],
   "source": [
    "resultados.set_index(['id'], inplace=True)\n",
    "resultados.to_csv('predicciones_RF_placename.csv')"
   ]
  },
  {
   "cell_type": "code",
   "execution_count": null,
   "metadata": {
    "collapsed": true
   },
   "outputs": [],
   "source": []
  }
 ],
 "metadata": {
  "kernelspec": {
   "display_name": "Python 3",
   "language": "python",
   "name": "python3"
  },
  "language_info": {
   "codemirror_mode": {
    "name": "ipython",
    "version": 3
   },
   "file_extension": ".py",
   "mimetype": "text/x-python",
   "name": "python",
   "nbconvert_exporter": "python",
   "pygments_lexer": "ipython3",
   "version": "3.6.1"
  }
 },
 "nbformat": 4,
 "nbformat_minor": 2
}
