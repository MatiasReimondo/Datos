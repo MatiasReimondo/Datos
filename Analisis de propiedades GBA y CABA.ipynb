{
 "cells": [
  {
   "cell_type": "markdown",
   "metadata": {},
   "source": [
    "![](https://i.imgur.com/zkhjRGO.png\n",
    " \"Datos\")\n",
    "\n",
    "# Análisis de propiedades de CABA y GBA publicadas en Properati entre 2013 y 2017\n",
    "\n",
    "\n",
    "### 1 - Pre procesamiento:\n",
    "- 1.1 - Análisis de datasets dados por properati\n",
    "- 1.2 - Generación de un único dataset con más información\n",
    "\n",
    "### 2 - Análisis por barrios\n",
    "- 2.1 - Barrios de mayor precio por m2\n",
    "- 2.2 - Barrios de mayor precio por propiedad (GBA y CABA)\n",
    "- 2.3 - Top de propiedades más caras por barrio\n",
    "\n",
    "### 3 - Análisis de propiedades más comunes\n",
    "- 3.1 - Distribución por tipo de propiedad\n",
    "\n",
    "### 4 - Análisis geográfico\n",
    "- 4.1 - Variación del precio respecto a cercanía al Obelisco\n",
    "\n",
    "### 5 - Análisis histórico\n",
    "- 5.1 - Análisis de fluctuación de precios\n",
    "\n",
    "### 6 - Análisis de puntos de interés\n",
    "- 6.1 - Líneas de subte\n",
    "- 6.2 - Escuelas\n",
    "- 6.3 - Hospitales\n",
    "\n",
    "### 7 - Análisis de precios vs contaminación sonora\n",
    "- 7.1 - Vs promedio de decibeles por barrio\n",
    "\n",
    "### 8- Comparación de precio de propiedades con otras variables económicas\n",
    "- 8.1 - Vs Dólar\n",
    "- 8.2 - Vs Salario Mínimo\n",
    "- 8.3 - Vs Inflación del Peso\n"
   ]
  },
  {
   "cell_type": "code",
   "execution_count": 3,
   "metadata": {},
   "outputs": [],
   "source": [
    "import pandas as pd\n",
    "import numpy as np\n",
    "from datetime import datetime\n",
    "import matplotlib.pyplot as plt\n",
    "from datetime import timedelta, date\n",
    "import matplotlib.dates as mdates\n",
    "\n",
    "%matplotlib inline"
   ]
  },
  {
   "cell_type": "markdown",
   "metadata": {},
   "source": [
    "## 1 - Pre procesamiento:"
   ]
  },
  {
   "cell_type": "markdown",
   "metadata": {},
   "source": [
    "### 1.1 - Análisis de datasets dados por properati"
   ]
  },
  {
   "cell_type": "markdown",
   "metadata": {},
   "source": [
    "Se analizan los datos provistos por Properati en el dataset de Agosto del 2017."
   ]
  },
  {
   "cell_type": "code",
   "execution_count": 4,
   "metadata": {},
   "outputs": [],
   "source": [
    "properties = pd.read_csv('data/props/properati-AR-2017-08-01-properties-sell.csv')"
   ]
  },
  {
   "cell_type": "markdown",
   "metadata": {},
   "source": [
    "#### Eliminamos duplicados y datos sin precio por metro cuadrado"
   ]
  },
  {
   "cell_type": "code",
   "execution_count": 5,
   "metadata": {},
   "outputs": [],
   "source": [
    "properties.drop_duplicates(inplace=True)\n",
    "properties.dropna(subset=['price_usd_per_m2'], inplace=True)"
   ]
  },
  {
   "cell_type": "markdown",
   "metadata": {},
   "source": [
    "#### Contamos los datos por año"
   ]
  },
  {
   "cell_type": "code",
   "execution_count": 6,
   "metadata": {},
   "outputs": [],
   "source": [
    "def showCountPerYear(dataframe):\n",
    "    quantityPerYear = {'2013':len(dataframe.loc[dataframe.created_on.str.contains('2013'), :])\\\n",
    "                            ,'2014': len(dataframe.loc[dataframe.created_on.str.contains('2014'), :])\\\n",
    "                            ,'2015': len(dataframe.loc[dataframe.created_on.str.contains('2015'), :])\\\n",
    "                            ,'2016': len(dataframe.loc[dataframe.created_on.str.contains('2016'), :])\\\n",
    "                            ,'2017': len(dataframe.loc[dataframe.created_on.str.contains('2017'), :])}\n",
    "    print pd.Series(quantityPerYear)"
   ]
  },
  {
   "cell_type": "markdown",
   "metadata": {},
   "source": [
    "#### Observamos que hay muy pocos datos de los primeros años, sobre todo del 2013.\n",
    "Revisando los datos en el último conjunto provisto (Agosto 2017) se especula con la posibilidad de que sólo se tomen las publicaciones activas a la hora de crear el dataset.\n",
    "Por esto, se vas a analizar los demás sets de datos provistos por properati, con el objetivo de tener más información sobre esos años."
   ]
  },
  {
   "cell_type": "code",
   "execution_count": 7,
   "metadata": {},
   "outputs": [
    {
     "name": "stderr",
     "output_type": "stream",
     "text": [
      "/Users/mreverter/PythonProjects/datos/tp1-repo/Datos/env/lib/python2.7/site-packages/IPython/core/interactiveshell.py:2718: DtypeWarning: Columns (17) have mixed types. Specify dtype option on import or set low_memory=False.\n",
      "  interactivity=interactivity, compiler=compiler, result=result)\n",
      "/Users/mreverter/PythonProjects/datos/tp1-repo/Datos/env/lib/python2.7/site-packages/IPython/core/interactiveshell.py:2718: DtypeWarning: Columns (19) have mixed types. Specify dtype option on import or set low_memory=False.\n",
      "  interactivity=interactivity, compiler=compiler, result=result)\n"
     ]
    }
   ],
   "source": [
    "dfAgosto2013 = pd.read_csv('data/props/2013/properati-AR-2013-08-01-properties-sell.csv')\n",
    "dfSept2013 = pd.read_csv('data/props/2013/properati-AR-2013-09-01-properties-sell.csv')\n",
    "dfOct2013 = pd.read_csv('data/props/2013/properati-AR-2013-10-01-properties-sell.csv')\n",
    "dfNov2013 = pd.read_csv('data/props/2013/properati-AR-2013-11-01-properties-sell.csv')\n",
    "dfDic2013 = pd.read_csv('data/props/2013/properati-AR-2013-12-01-properties-sell.csv')\n",
    "\n",
    "dfEnero2014 = pd.read_csv('data/props/2014/properati-AR-2014-01-01-properties-sell.csv')\n",
    "dfFeb2014 = pd.read_csv('data/props/2014/properati-AR-2014-02-01-properties-sell.csv')\n",
    "dfMar2014 = pd.read_csv('data/props/2014/properati-AR-2014-03-01-properties-sell.csv')\n",
    "dfAbril2014 = pd.read_csv('data/props/2014/properati-AR-2014-04-01-properties-sell.csv')\n",
    "dfMayo2014 = pd.read_csv('data/props/2014/properati-AR-2014-05-01-properties-sell.csv')\n",
    "dfJun2014 = pd.read_csv('data/props/2014/properati-AR-2014-06-01-properties-sell.csv')\n",
    "dfJul2014 = pd.read_csv('data/props/2014/properati-AR-2014-07-01-properties-sell.csv')\n",
    "dfAgo2014 = pd.read_csv('data/props/2014/properati-AR-2014-08-01-properties-sell.csv')\n",
    "dfSept2014 = pd.read_csv('data/props/2014/properati-AR-2014-09-01-properties-sell.csv')\n",
    "dfOct2014 = pd.read_csv('data/props/2014/properati-AR-2014-10-01-properties-sell.csv')\n",
    "dfNov2014 = pd.read_csv('data/props/2014/properati-AR-2014-11-01-properties-sell.csv')\n",
    "dfDic2014 = pd.read_csv('data/props/2014/properati-AR-2014-12-01-properties-sell.csv')\n",
    "\n",
    "dfEnero2015 = pd.read_csv('data/props/2015/properati-AR-2015-01-01-properties-sell.csv')\n",
    "dfFeb2015 = pd.read_csv('data/props/2015/properati-AR-2015-02-01-properties-sell.csv')\n",
    "dfMar2015 = pd.read_csv('data/props/2015/properati-AR-2015-03-01-properties-sell.csv')\n",
    "dfAbril2015 = pd.read_csv('data/props/2015/properati-AR-2015-04-01-properties-sell.csv')\n",
    "dfMayo2015 = pd.read_csv('data/props/2015/properati-AR-2015-05-01-properties-sell.csv')\n",
    "dfJul2015 = pd.read_csv('data/props/2015/properati-AR-2015-07-01-properties-sell.csv')\n",
    "dfAgo2015 = pd.read_csv('data/props/2015/properati-AR-2015-08-01-properties-sell.csv')\n",
    "dfSept2015 = pd.read_csv('data/props/2015/properati-AR-2015-09-01-properties-sell.csv')\n",
    "dfOct2015 = pd.read_csv('data/props/2015/properati-AR-2015-10-01-properties-sell.csv')\n",
    "dfNov2015 = pd.read_csv('data/props/2015/properati-AR-2015-11-01-properties-sell.csv')\n",
    "dfDic2015 = pd.read_csv('data/props/2015/properati-AR-2015-12-01-properties-sell.csv')\n",
    "\n",
    "dfEnero2016 = pd.read_csv('data/props/2016/properati-AR-2016-01-01-properties-sell.csv')\n",
    "dfFeb2016 = pd.read_csv('data/props/2016/properati-AR-2016-02-01-properties-sell.csv')\n",
    "dfMar2016 = pd.read_csv('data/props/2016/properati-AR-2016-03-01-properties-sell.csv')\n",
    "dfAbril2016 = pd.read_csv('data/props/2016/properati-AR-2016-04-01-properties-sell.csv')\n",
    "dfMayo2016 = pd.read_csv('data/props/2016/properati-AR-2016-05-01-properties-sell.csv')\n",
    "dfJun2016 = pd.read_csv('data/props/2016/properati-AR-2016-06-01-properties-sell.csv')\n",
    "dfJul2016 = pd.read_csv('data/props/2016/properati-AR-2016-07-01-properties-sell.csv')\n",
    "dfAgo2016 = pd.read_csv('data/props/2016/properati-AR-2016-08-01-properties-sell.csv')\n",
    "dfSept2016 = pd.read_csv('data/props/2016/properati-AR-2016-09-01-properties-sell.csv')\n",
    "dfOct2016 = pd.read_csv('data/props/2016/properati-AR-2016-10-01-properties-sell.csv')\n",
    "dfNov2016 = pd.read_csv('data/props/2016/properati-AR-2016-11-01-properties-sell.csv')\n",
    "dfDic2016 = pd.read_csv('data/props/2016/properati-AR-2016-12-01-properties-sell.csv')\n",
    "\n",
    "dfEnero2017 = pd.read_csv('data/props/2017/properati-AR-2017-01-01-properties-sell.csv')\n",
    "dfAgostoSixMonths2017 = pd.read_csv('data/props/2017/properati-AR-2017-08-01-properties-sell-six_months.csv')\n",
    "\n",
    "properties = pd.concat([dfAgosto2013,dfSept2013,dfOct2013,dfNov2013,dfDic2013,dfEnero2014,dfFeb2014,dfMar2014, dfAbril2014,dfMayo2014,dfJun2014,dfJul2014,dfAgo2014,dfSept2014,dfOct2014,dfNov2014,dfDic2014,dfEnero2015, dfFeb2015, dfMar2015, dfAbril2015, dfMayo2015,dfJul2015,dfAgo2015,dfSept2015,dfOct2015, dfNov2015, dfDic2015,dfEnero2016,dfFeb2016,dfMar2016, dfAbril2016,dfMayo2016,dfJun2016,dfJul2016, dfAgo2016, dfSept2016,dfOct2016, dfNov2016, dfDic2016,dfEnero2017,dfAgostoSixMonths2017])"
   ]
  },
  {
   "cell_type": "markdown",
   "metadata": {},
   "source": [
    "### 1.2 - Generación de un dataset con más información"
   ]
  },
  {
   "cell_type": "code",
   "execution_count": 8,
   "metadata": {},
   "outputs": [
    {
     "name": "stdout",
     "output_type": "stream",
     "text": [
      "<class 'pandas.core.frame.DataFrame'>\n",
      "Int64Index: 2849283 entries, 0 to 121219\n",
      "Data columns (total 29 columns):\n",
      "country_name                  object\n",
      "created_on                    object\n",
      "currency                      object\n",
      "description                   object\n",
      "expenses                      object\n",
      "extra                         object\n",
      "floor                         float64\n",
      "geonames_id                   float64\n",
      "id                            object\n",
      "image_thumbnail               object\n",
      "lat                           float64\n",
      "lat-lon                       object\n",
      "lon                           float64\n",
      "operation                     object\n",
      "place_name                    object\n",
      "place_with_parent_names       object\n",
      "price                         float64\n",
      "price_aprox_local_currency    float64\n",
      "price_aprox_usd               float64\n",
      "price_per_m2                  float64\n",
      "price_usd_per_m2              float64\n",
      "properati_url                 object\n",
      "property_type                 object\n",
      "rooms                         float64\n",
      "state_name                    object\n",
      "surface_covered_in_m2         float64\n",
      "surface_in_m2                 float64\n",
      "surface_total_in_m2           float64\n",
      "title                         object\n",
      "dtypes: float64(13), object(16)\n",
      "memory usage: 652.1+ MB\n"
     ]
    }
   ],
   "source": [
    "properties.info()"
   ]
  },
  {
   "cell_type": "code",
   "execution_count": 9,
   "metadata": {},
   "outputs": [
    {
     "data": {
      "text/plain": [
       "2849283"
      ]
     },
     "execution_count": 9,
     "metadata": {},
     "output_type": "execute_result"
    }
   ],
   "source": [
    "len(properties)"
   ]
  },
  {
   "cell_type": "markdown",
   "metadata": {},
   "source": [
    "#### Se eliminan duplicados"
   ]
  },
  {
   "cell_type": "code",
   "execution_count": 10,
   "metadata": {},
   "outputs": [],
   "source": [
    "properties.drop_duplicates(inplace=True)"
   ]
  },
  {
   "cell_type": "code",
   "execution_count": 11,
   "metadata": {},
   "outputs": [
    {
     "name": "stdout",
     "output_type": "stream",
     "text": [
      "2013    576070\n",
      "2014    737542\n",
      "2015    637484\n",
      "2016    114490\n",
      "2017    133035\n",
      "dtype: int64\n"
     ]
    }
   ],
   "source": [
    "showCountPerYear(properties)"
   ]
  },
  {
   "cell_type": "code",
   "execution_count": 12,
   "metadata": {},
   "outputs": [
    {
     "data": {
      "text/plain": [
       "2235260"
      ]
     },
     "execution_count": 12,
     "metadata": {},
     "output_type": "execute_result"
    }
   ],
   "source": [
    "len(properties)"
   ]
  },
  {
   "cell_type": "markdown",
   "metadata": {},
   "source": [
    "#### Se eliminan los que no tengan precio por metro cuadrado, se guardan los demás para posible recuperación de esa información"
   ]
  },
  {
   "cell_type": "code",
   "execution_count": 13,
   "metadata": {},
   "outputs": [],
   "source": [
    "propertiesWithoutM2Price = properties[pd.isnull(properties['price_usd_per_m2'])]"
   ]
  },
  {
   "cell_type": "code",
   "execution_count": 14,
   "metadata": {},
   "outputs": [],
   "source": [
    "properties.dropna(subset=['price_usd_per_m2'], inplace=True)"
   ]
  },
  {
   "cell_type": "code",
   "execution_count": 15,
   "metadata": {},
   "outputs": [],
   "source": [
    "recoverablePropertiesData = propertiesWithoutM2Price[pd.notnull(propertiesWithoutM2Price['surface_covered_in_m2']) & pd.notnull(propertiesWithoutM2Price['price_aprox_usd']) & pd.notnull(propertiesWithoutM2Price['price'])]"
   ]
  },
  {
   "cell_type": "code",
   "execution_count": 16,
   "metadata": {},
   "outputs": [
    {
     "data": {
      "text/plain": [
       "642"
      ]
     },
     "execution_count": 16,
     "metadata": {},
     "output_type": "execute_result"
    }
   ],
   "source": [
    "len(recoverablePropertiesData.loc[recoverablePropertiesData.created_on.str.contains('2013'), :])"
   ]
  },
  {
   "cell_type": "code",
   "execution_count": 17,
   "metadata": {},
   "outputs": [
    {
     "data": {
      "text/plain": [
       "397179"
      ]
     },
     "execution_count": 17,
     "metadata": {},
     "output_type": "execute_result"
    }
   ],
   "source": [
    "len(properties.loc[properties.created_on.str.contains('2013'), :])"
   ]
  },
  {
   "cell_type": "markdown",
   "metadata": {},
   "source": [
    "Se desestiman los datos que podrían recuperarse calculando el precio por metro cuadrado, al ser muchos menos que los que lo tienen directamente."
   ]
  },
  {
   "cell_type": "markdown",
   "metadata": {},
   "source": [
    "#### Checkpoint para analizar del estado de los datos por año"
   ]
  },
  {
   "cell_type": "code",
   "execution_count": 18,
   "metadata": {},
   "outputs": [
    {
     "name": "stdout",
     "output_type": "stream",
     "text": [
      "2013    397179\n",
      "2014    380698\n",
      "2015    327666\n",
      "2016     59761\n",
      "2017     75953\n",
      "dtype: int64\n"
     ]
    }
   ],
   "source": [
    "showCountPerYear(properties)"
   ]
  },
  {
   "cell_type": "markdown",
   "metadata": {},
   "source": [
    "Se ve que los años 2013, 2014 y 2015 cuentan con muchos más datos que los años más recientes. Se analiza por qué.\n",
    "\n",
    "#### Analizo propiedades que compartan ciertas características, que den a sospechar una re-publicación, lo cual alteraría el análisis teniendo en cuenta una propiedad más de una vez."
   ]
  },
  {
   "cell_type": "code",
   "execution_count": null,
   "metadata": {},
   "outputs": [],
   "source": [
    "republishedCandidates = properties[properties.duplicated(subset=['title','property_type', 'rooms', 'surface_covered_in_m2', 'surface_in_m2', 'price', 'price_aprox_usd', 'price_usd_per_m2', 'geonames_id', 'state_name', 'expenses'])]\n",
    "showCountPerYear(republishedCandidates)"
   ]
  },
  {
   "cell_type": "markdown",
   "metadata": {},
   "source": [
    "#### Se aprecia que en los años donde había demasiados más datos, encontramos muchas potenciales re-publicaciones.\n",
    "Se borran las mismas."
   ]
  },
  {
   "cell_type": "code",
   "execution_count": null,
   "metadata": {},
   "outputs": [],
   "source": [
    "properties.drop_duplicates(subset=['title','property_type', 'rooms', 'surface_covered_in_m2', 'surface_in_m2', 'price', 'price_aprox_usd', 'price_usd_per_m2', 'geonames_id', 'state_name', 'expenses'], inplace=True)"
   ]
  },
  {
   "cell_type": "code",
   "execution_count": null,
   "metadata": {},
   "outputs": [],
   "source": [
    "showCountPerYear(properties)"
   ]
  },
  {
   "cell_type": "markdown",
   "metadata": {},
   "source": [
    "#### Vemos que sigue habiendo mucha diferencia, aunque se redujo notablemente. Hilamos más fino."
   ]
  },
  {
   "cell_type": "code",
   "execution_count": null,
   "metadata": {},
   "outputs": [],
   "source": [
    "republishedCandidates = properties[properties.duplicated(subset=['property_type', 'rooms', 'surface_covered_in_m2', 'surface_in_m2', 'price', 'price_aprox_usd', 'price_usd_per_m2', 'geonames_id', 'state_name'])]\n",
    "showCountPerYear(republishedCandidates)"
   ]
  },
  {
   "cell_type": "markdown",
   "metadata": {},
   "source": [
    "#### Tomamos una muestra para ver si este filtro es excesivo"
   ]
  },
  {
   "cell_type": "code",
   "execution_count": null,
   "metadata": {},
   "outputs": [],
   "source": [
    "republishedCandidates = properties[properties.duplicated(subset=['property_type', 'rooms', 'surface_covered_in_m2', 'surface_in_m2', 'price', 'price_aprox_usd', 'price_usd_per_m2', 'geonames_id', 'state_name'])]"
   ]
  },
  {
   "cell_type": "code",
   "execution_count": null,
   "metadata": {},
   "outputs": [],
   "source": [
    "republishedCandidates.groupby(['property_type', 'rooms', 'surface_in_m2', 'price', 'price_aprox_usd', 'price_usd_per_m2', 'geonames_id']).count()"
   ]
  },
  {
   "cell_type": "code",
   "execution_count": null,
   "metadata": {},
   "outputs": [],
   "source": [
    "df = republishedCandidates[(republishedCandidates['property_type'] == 'PH')\\\n",
    " & (republishedCandidates['rooms'] == 1)\\\n",
    " & (republishedCandidates['surface_in_m2'] == 19)]"
   ]
  },
  {
   "cell_type": "code",
   "execution_count": null,
   "metadata": {},
   "outputs": [],
   "source": [
    "df"
   ]
  },
  {
   "cell_type": "code",
   "execution_count": null,
   "metadata": {},
   "outputs": [],
   "source": [
    "df.loc[23420, 'image_thumbnail']"
   ]
  },
  {
   "cell_type": "code",
   "execution_count": null,
   "metadata": {},
   "outputs": [],
   "source": [
    "df.loc[79974, 'image_thumbnail']"
   ]
  },
  {
   "cell_type": "markdown",
   "metadata": {},
   "source": [
    "#### Visitando los links, se ve que corresponde a la misma propiedad. Si bien podría ser correcto mantener las re publicaciones, se borrarán dejando la primer aparición del duplicado, ya que contempla el precio dado a la propiedad al momento de publicarse por primera vez (que luego se mantuvo)."
   ]
  },
  {
   "cell_type": "code",
   "execution_count": null,
   "metadata": {},
   "outputs": [],
   "source": [
    "properties.drop_duplicates(subset=['property_type', 'rooms', 'surface_covered_in_m2', 'surface_in_m2', 'price', 'price_aprox_usd', 'price_usd_per_m2', 'geonames_id', 'state_name'], inplace=True)"
   ]
  },
  {
   "cell_type": "code",
   "execution_count": null,
   "metadata": {},
   "outputs": [],
   "source": [
    "showCountPerYear(properties)"
   ]
  },
  {
   "cell_type": "markdown",
   "metadata": {},
   "source": [
    "#### Utilizaremos el set de datos filtrado para el análisis"
   ]
  },
  {
   "cell_type": "markdown",
   "metadata": {},
   "source": [
    "## 8- Comparación de precio de propiedades con otras variables económicas\n",
    "Analizar la variación de los precios de propiedades en comparación a algunas variables económicas, para desprender conclusiones como:\n",
    "- ¿Podemos asociar el valor del dólar a los precios de las propiedades?\n",
    "- ¿Podemos asociar la inflación del peso a los precios de las propiedades?\n",
    "- ¿Podemos asociar el valor del salario mínimo a los precios de las propiedades?\n",
    "- ¿Qué puede decirse sobre la “accesibilidad” a la compra de propiedades?\n",
    "\n",
    "### 8.1 - Vs Dólar"
   ]
  },
  {
   "cell_type": "code",
   "execution_count": null,
   "metadata": {},
   "outputs": [],
   "source": [
    "propertiesEconomicAnalysis = properties"
   ]
  },
  {
   "cell_type": "markdown",
   "metadata": {},
   "source": [
    "#### Nos quedamos con datos bajo el percentil 95 para eliminar ruido"
   ]
  },
  {
   "cell_type": "code",
   "execution_count": null,
   "metadata": {},
   "outputs": [],
   "source": [
    "propertiesEconomicAnalysis = propertiesEconomicAnalysis.loc[propertiesEconomicAnalysis.price_per_m2 < propertiesEconomicAnalysis.price_per_m2.quantile(0.85), :]"
   ]
  },
  {
   "cell_type": "code",
   "execution_count": null,
   "metadata": {},
   "outputs": [],
   "source": [
    "propertiesEconomicAnalysis['created_on'] = pd.to_datetime(propertiesEconomicAnalysis['created_on'], format = \"%Y-%m-%d\")\n",
    "propertiesEconomicAnalysis['year_created'] = propertiesEconomicAnalysis['created_on'].map(lambda x: x.year)\n",
    "propertiesEconomicAnalysis['month_created'] = propertiesEconomicAnalysis['created_on'].map(lambda x: x.month)\n",
    "propertiesEconomicAnalysis['month_year_created'] = propertiesEconomicAnalysis['created_on'].map(lambda x: str(x.month) + '-' + str(x.year))"
   ]
  },
  {
   "cell_type": "markdown",
   "metadata": {},
   "source": [
    "#### ¿Podemos asociar el valor del dólar a los precios de las propiedades?\n",
    "\n",
    "Normalizamos los valores del metro cuadrado y del dolar, y comparamos su variación."
   ]
  },
  {
   "cell_type": "code",
   "execution_count": null,
   "metadata": {},
   "outputs": [],
   "source": [
    "dolarEvolution = pd.read_csv('data/economic/dolar-daily.csv')\n",
    "dolarEvolution = dolarEvolution.loc[:,['date', 'open']]"
   ]
  },
  {
   "cell_type": "code",
   "execution_count": null,
   "metadata": {},
   "outputs": [],
   "source": [
    "#Normalizamos valor del dolar\n",
    "max_value = dolarEvolution['open'].max()\n",
    "min_value = dolarEvolution['open'].min()\n",
    "normalized = (dolarEvolution['open'] - min_value) / (max_value - min_value)"
   ]
  },
  {
   "cell_type": "code",
   "execution_count": null,
   "metadata": {},
   "outputs": [],
   "source": [
    "dolarEvolution['normalized'] = normalized"
   ]
  },
  {
   "cell_type": "code",
   "execution_count": null,
   "metadata": {},
   "outputs": [],
   "source": [
    "propertiesNormDf = propertiesEconomicAnalysis.loc[:,['created_on', 'year_created', 'month_created', 'month_year_created', 'price_usd_per_m2', 'price_per_m2']]"
   ]
  },
  {
   "cell_type": "code",
   "execution_count": null,
   "metadata": {},
   "outputs": [],
   "source": [
    "#Obtengo columna de precios en pesos normalizada\n",
    "max_value = propertiesNormDf['price_per_m2'].max()\n",
    "min_value = propertiesNormDf['price_per_m2'].min()\n",
    "propertiesPriceNormalized = (propertiesNormDf['price_per_m2'] - min_value) / (max_value - min_value)\n",
    "propertiesNormDf['price_m2_normalized'] = propertiesPriceNormalized"
   ]
  },
  {
   "cell_type": "code",
   "execution_count": null,
   "metadata": {},
   "outputs": [],
   "source": [
    "#Obtengo columna de precios en dolares normalizada\n",
    "max_value = propertiesNormDf['price_usd_per_m2'].max()\n",
    "min_value = propertiesNormDf['price_usd_per_m2'].min()\n",
    "propertiesPriceNormalized = (propertiesNormDf['price_usd_per_m2'] - min_value) / (max_value - min_value)\n",
    "propertiesNormDf['price_usd_m2_normalized'] = propertiesPriceNormalized"
   ]
  },
  {
   "cell_type": "code",
   "execution_count": null,
   "metadata": {},
   "outputs": [],
   "source": [
    "dolarEvolution['date'] = pd.to_datetime(dolarEvolution['date'], format = \"%d.%m.%Y\")\n",
    "dolarEvolution['year-month'] = dolarEvolution['date'].map(lambda x: str(x.month) + '-' + str(x.year))\n",
    "dolarEvolution['year'] = dolarEvolution['date'].map(lambda x: x.year)\n",
    "dolarEvolution['month'] = dolarEvolution['date'].map(lambda x: x.month)"
   ]
  },
  {
   "cell_type": "code",
   "execution_count": null,
   "metadata": {},
   "outputs": [],
   "source": [
    "dolarPriceByMonth = (dolarEvolution.groupby('year-month').mean().reset_index()).sort_values(by=['year','month'])\n",
    "dolarPriceByMonth = dolarPriceByMonth.loc[:,['year-month', 'normalized']].rename(columns={'normalized':'value'})\n",
    "dolarPriceByMonth.rename(columns={'year-month':'Mes', 'value':'Evolucion Dolar'}, inplace=True)"
   ]
  },
  {
   "cell_type": "code",
   "execution_count": null,
   "metadata": {},
   "outputs": [],
   "source": [
    "propertiesPriceGroupedByMonth = (propertiesNormDf.groupby(['month_year_created']).mean().reset_index()).loc[:,['month_created', 'year_created', 'month_year_created', 'price_m2_normalized']].sort_values(by=['year_created', 'month_created'])\n",
    "propertiesPriceGroupedByMonth = propertiesPriceGroupedByMonth.loc[:, ['month_year_created', 'price_m2_normalized']]\n",
    "propertiesPriceGroupedByMonth.rename(columns={'month_year_created':'Mes', 'price_m2_normalized':'Evolucion $/m2'}, inplace=True)"
   ]
  },
  {
   "cell_type": "code",
   "execution_count": null,
   "metadata": {},
   "outputs": [],
   "source": [
    "propertiesPriceUSDGroupedByMonth = (propertiesNormDf.groupby(['month_year_created']).mean().reset_index()).loc[:,['month_created', 'year_created', 'month_year_created', 'price_usd_m2_normalized']].sort_values(by=['year_created', 'month_created'])\n",
    "propertiesPriceUSDGroupedByMonth = propertiesPriceUSDGroupedByMonth.loc[:, ['month_year_created', 'price_usd_m2_normalized']]\n",
    "propertiesPriceUSDGroupedByMonth.rename(columns={'month_year_created':'Mes', 'price_usd_m2_normalized':'Evolucion USD/m2'}, inplace=True)"
   ]
  },
  {
   "cell_type": "code",
   "execution_count": null,
   "metadata": {},
   "outputs": [],
   "source": [
    "propertiesAndDolar = pd.merge(dolarPriceByMonth, propertiesPriceGroupedByMonth, how='inner', on='Mes')\n",
    "propertiesAndDolar = pd.merge(propertiesAndDolar, propertiesPriceUSDGroupedByMonth, how='inner', on='Mes')"
   ]
  },
  {
   "cell_type": "code",
   "execution_count": null,
   "metadata": {},
   "outputs": [],
   "source": [
    "propertiesAndDolar.plot(x=\"Mes\", y=[\"Evolucion $/m2\", \"Evolucion Dolar\"])\n",
    "plt.title('Evolucion del precio del metro cuadrado en pesos vs dolar (Valores normalizados)')"
   ]
  },
  {
   "cell_type": "markdown",
   "metadata": {},
   "source": [
    "#### ¿Podemos asociar el valor del salario mínimo a los precios de las propiedades?\n",
    "\n",
    "Normalizamos los valores del metro cuadrado y del salario, y comparamos su variación."
   ]
  },
  {
   "cell_type": "code",
   "execution_count": null,
   "metadata": {},
   "outputs": [],
   "source": [
    "salaryEvolution = pd.read_csv('data/economic/salario-minimo.csv')"
   ]
  },
  {
   "cell_type": "code",
   "execution_count": null,
   "metadata": {},
   "outputs": [],
   "source": [
    "max_value = salaryEvolution['salario_minimo'].max()\n",
    "min_value = salaryEvolution['salario_minimo'].min()\n",
    "normalized = (salaryEvolution['salario_minimo'] - min_value) / (max_value - min_value)"
   ]
  },
  {
   "cell_type": "code",
   "execution_count": null,
   "metadata": {},
   "outputs": [],
   "source": [
    "salaryEvolution['normalized'] = normalized"
   ]
  },
  {
   "cell_type": "code",
   "execution_count": null,
   "metadata": {},
   "outputs": [],
   "source": [
    "salaryEvolution['mes'] = pd.to_datetime(salaryEvolution['mes'], format = \"%m-%Y\")\n",
    "salaryEvolution['year-month'] = salaryEvolution['mes'].map(lambda x: str(x.month) + '-' + str(x.year))\n",
    "salaryEvolution['year'] = salaryEvolution['mes'].map(lambda x: x.year)\n",
    "salaryEvolution['month'] = salaryEvolution['mes'].map(lambda x: x.month)"
   ]
  },
  {
   "cell_type": "code",
   "execution_count": null,
   "metadata": {},
   "outputs": [],
   "source": [
    "salaryByMonth = (salaryEvolution.groupby('year-month').mean().reset_index()).sort_values(by=['year','month'])\n",
    "salaryByMonth = salaryByMonth.loc[:,['year-month', 'normalized']].rename(columns={'normalized':'value'})\n",
    "salaryByMonth.rename(columns={'year-month':'Mes', 'value':'Evolucion salario minimo'}, inplace=True)"
   ]
  },
  {
   "cell_type": "code",
   "execution_count": null,
   "metadata": {},
   "outputs": [],
   "source": [
    "propertiesAndSalary = pd.merge(salaryByMonth, propertiesPriceGroupedByMonth, how='inner', on='Mes')"
   ]
  },
  {
   "cell_type": "code",
   "execution_count": null,
   "metadata": {},
   "outputs": [],
   "source": [
    "propertiesAndSalary.plot(x=\"Mes\", y=[\"Evolucion $/m2\", \"Evolucion salario minimo\"])\n",
    "plt.title('Evolucion del precio del metro cuadrado en pesos vs salario minimo (Valores normalizados)')"
   ]
  },
  {
   "cell_type": "markdown",
   "metadata": {},
   "source": [
    "#### ¿Podemos asociar la inflación a los precios de las propiedades?"
   ]
  },
  {
   "cell_type": "code",
   "execution_count": null,
   "metadata": {},
   "outputs": [],
   "source": [
    "inflationEvolution = pd.read_csv('data/economic/inflacion-argentina.csv')"
   ]
  },
  {
   "cell_type": "code",
   "execution_count": null,
   "metadata": {},
   "outputs": [],
   "source": [
    "inflationEvolution['FECHA'] = pd.to_datetime(inflationEvolution['FECHA'], format = \"%d/%m/%Y\")"
   ]
  },
  {
   "cell_type": "code",
   "execution_count": null,
   "metadata": {},
   "outputs": [],
   "source": [
    "inflationEvolution['year-month'] = inflationEvolution['FECHA'].map(lambda x: str(x.month) + '-' + str(x.year))\n",
    "inflationEvolution['year'] = inflationEvolution['FECHA'].map(lambda x: x.year)\n",
    "inflationEvolution['month'] = inflationEvolution['FECHA'].map(lambda x: x.month)"
   ]
  },
  {
   "cell_type": "code",
   "execution_count": null,
   "metadata": {},
   "outputs": [],
   "source": [
    "#Calculo variacion mes a mes de los precios del metro cuadrado\n",
    "s = pd.Series([propertiesPriceGroupedByMonth.iloc[0]['Evolucion $/m2']])\n",
    "s = s.append(propertiesPriceGroupedByMonth['Evolucion $/m2'])\n",
    "sdf = s.reset_index()\n",
    "propertiesPriceGroupedByMonth.reset_index(inplace=True)\n",
    "propertiesPriceGroupedByMonth['previous'] = sdf[0]\n",
    "\n",
    "propertiesPriceGroupedByMonth['var'] = propertiesPriceGroupedByMonth.apply(lambda x : (x['Evolucion $/m2']-x['previous'])/x['previous'], axis=1)"
   ]
  },
  {
   "cell_type": "code",
   "execution_count": null,
   "metadata": {},
   "outputs": [],
   "source": [
    "propertiesAndInflation = pd.merge(propertiesPriceGroupedByMonth, inflationEvolution, how='inner', left_on='Mes', right_on='year-month')"
   ]
  },
  {
   "cell_type": "code",
   "execution_count": null,
   "metadata": {},
   "outputs": [],
   "source": [
    "propertiesAndInflation.rename(columns={'var':'Variacion mensual precio m2', 'IPC-CONGRESO':'Inflacion mensual (IPC-Congreso)'}, inplace=True)\n",
    "propertiesAndInflation.plot(x=\"Mes\", y=[\"Variacion mensual precio m2\", \"Inflacion mensual (IPC-Congreso)\"])\n",
    "plt.title('Variacion mensual del precio por metro cuadrado vs inflacion')"
   ]
  }
 ],
 "metadata": {
  "kernelspec": {
   "display_name": "Python 2",
   "language": "python",
   "name": "python2"
  },
  "language_info": {
   "codemirror_mode": {
    "name": "ipython",
    "version": 2
   },
   "file_extension": ".py",
   "mimetype": "text/x-python",
   "name": "python",
   "nbconvert_exporter": "python",
   "pygments_lexer": "ipython2",
   "version": "2.7.10"
  }
 },
 "nbformat": 4,
 "nbformat_minor": 2
}
