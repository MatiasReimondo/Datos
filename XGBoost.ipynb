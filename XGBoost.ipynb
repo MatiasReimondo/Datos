{
 "cells": [
  {
   "cell_type": "code",
   "execution_count": 1,
   "metadata": {
    "collapsed": true
   },
   "outputs": [],
   "source": [
    "import numpy as np\n",
    "import pandas as pd\n",
    "\n",
    "from xgboost import XGBClassifier\n",
    "from sklearn.model_selection import train_test_split\n",
    "from sklearn.metrics import accuracy_score\n",
    "from sklearn.metrics import mean_squared_error\n",
    "from sklearn.metrics import median_absolute_error"
   ]
  },
  {
   "cell_type": "code",
   "execution_count": 2,
   "metadata": {
    "collapsed": true
   },
   "outputs": [],
   "source": [
    "properties = pd.read_csv('trainPreProcess.csv')"
   ]
  },
  {
   "cell_type": "code",
   "execution_count": 3,
   "metadata": {
    "collapsed": true
   },
   "outputs": [],
   "source": [
    "#tomo pocos datos porque se hace muy lento el algoritmo si no (por ahora)\n",
    "properties = properties.head(550)"
   ]
  },
  {
   "cell_type": "code",
   "execution_count": 4,
   "metadata": {},
   "outputs": [
    {
     "data": {
      "text/html": [
       "<div>\n",
       "<style>\n",
       "    .dataframe thead tr:only-child th {\n",
       "        text-align: right;\n",
       "    }\n",
       "\n",
       "    .dataframe thead th {\n",
       "        text-align: left;\n",
       "    }\n",
       "\n",
       "    .dataframe tbody tr th {\n",
       "        vertical-align: top;\n",
       "    }\n",
       "</style>\n",
       "<table border=\"1\" class=\"dataframe\">\n",
       "  <thead>\n",
       "    <tr style=\"text-align: right;\">\n",
       "      <th></th>\n",
       "      <th>Unnamed: 0</th>\n",
       "      <th>id</th>\n",
       "      <th>created_on</th>\n",
       "      <th>property_type_encoded</th>\n",
       "      <th>place_name_encoded</th>\n",
       "      <th>state_name_encoded</th>\n",
       "      <th>lat</th>\n",
       "      <th>lon</th>\n",
       "      <th>surface_covered_in_m2</th>\n",
       "      <th>surface_total_in_m2</th>\n",
       "      <th>floor</th>\n",
       "      <th>rooms</th>\n",
       "      <th>price</th>\n",
       "      <th>distancia_obelisco</th>\n",
       "      <th>distancia_minima_subte</th>\n",
       "      <th>distancia_minima_privado</th>\n",
       "      <th>distancia_minima_publico</th>\n",
       "    </tr>\n",
       "  </thead>\n",
       "  <tbody>\n",
       "    <tr>\n",
       "      <th>155</th>\n",
       "      <td>194</td>\n",
       "      <td>396f0367a7fdfe85729a22133175e4d6904cf360</td>\n",
       "      <td>2013-05-24</td>\n",
       "      <td>2</td>\n",
       "      <td>644</td>\n",
       "      <td>1</td>\n",
       "      <td>-34.688727</td>\n",
       "      <td>-58.498525</td>\n",
       "      <td>86.0</td>\n",
       "      <td>110.0</td>\n",
       "      <td>0.0</td>\n",
       "      <td>2.0</td>\n",
       "      <td>56000.0</td>\n",
       "      <td>0.202523</td>\n",
       "      <td>0.082288</td>\n",
       "      <td>0.036831</td>\n",
       "      <td>0.074586</td>\n",
       "    </tr>\n",
       "    <tr>\n",
       "      <th>16</th>\n",
       "      <td>27</td>\n",
       "      <td>f252f0ddc642d1ff7d86c7daafff1aecefa7e87d</td>\n",
       "      <td>2017-03-24</td>\n",
       "      <td>1</td>\n",
       "      <td>452</td>\n",
       "      <td>0</td>\n",
       "      <td>-34.546018</td>\n",
       "      <td>-58.696385</td>\n",
       "      <td>51.5</td>\n",
       "      <td>0.0</td>\n",
       "      <td>0.0</td>\n",
       "      <td>2.0</td>\n",
       "      <td>454000.0</td>\n",
       "      <td>0.371789</td>\n",
       "      <td>0.238300</td>\n",
       "      <td>0.036831</td>\n",
       "      <td>0.074586</td>\n",
       "    </tr>\n",
       "    <tr>\n",
       "      <th>305</th>\n",
       "      <td>396</td>\n",
       "      <td>9623ad0971318aee87b06f390e1409a251cab0b0</td>\n",
       "      <td>2013-08-07</td>\n",
       "      <td>2</td>\n",
       "      <td>148</td>\n",
       "      <td>4</td>\n",
       "      <td>-34.560870</td>\n",
       "      <td>-58.460546</td>\n",
       "      <td>68.0</td>\n",
       "      <td>78.0</td>\n",
       "      <td>0.0</td>\n",
       "      <td>3.0</td>\n",
       "      <td>265000.0</td>\n",
       "      <td>0.121098</td>\n",
       "      <td>0.005496</td>\n",
       "      <td>0.036831</td>\n",
       "      <td>0.074586</td>\n",
       "    </tr>\n",
       "    <tr>\n",
       "      <th>303</th>\n",
       "      <td>394</td>\n",
       "      <td>103edc893dcabbeb14390bd23833cb4f24cab6d8</td>\n",
       "      <td>2013-08-07</td>\n",
       "      <td>2</td>\n",
       "      <td>631</td>\n",
       "      <td>4</td>\n",
       "      <td>-34.604376</td>\n",
       "      <td>-58.441855</td>\n",
       "      <td>46.0</td>\n",
       "      <td>53.0</td>\n",
       "      <td>0.0</td>\n",
       "      <td>2.0</td>\n",
       "      <td>146850.0</td>\n",
       "      <td>0.061503</td>\n",
       "      <td>0.007492</td>\n",
       "      <td>0.036831</td>\n",
       "      <td>0.074586</td>\n",
       "    </tr>\n",
       "    <tr>\n",
       "      <th>23</th>\n",
       "      <td>39</td>\n",
       "      <td>4dcfa9a54bdd18cd5438221c6dcfa94738c11c40</td>\n",
       "      <td>2013-02-15</td>\n",
       "      <td>2</td>\n",
       "      <td>295</td>\n",
       "      <td>0</td>\n",
       "      <td>-34.533846</td>\n",
       "      <td>-58.489214</td>\n",
       "      <td>111.0</td>\n",
       "      <td>115.0</td>\n",
       "      <td>0.0</td>\n",
       "      <td>4.0</td>\n",
       "      <td>275000.0</td>\n",
       "      <td>0.176790</td>\n",
       "      <td>0.043302</td>\n",
       "      <td>0.036831</td>\n",
       "      <td>0.074586</td>\n",
       "    </tr>\n",
       "  </tbody>\n",
       "</table>\n",
       "</div>"
      ],
      "text/plain": [
       "     Unnamed: 0                                        id  created_on  \\\n",
       "155         194  396f0367a7fdfe85729a22133175e4d6904cf360  2013-05-24   \n",
       "16           27  f252f0ddc642d1ff7d86c7daafff1aecefa7e87d  2017-03-24   \n",
       "305         396  9623ad0971318aee87b06f390e1409a251cab0b0  2013-08-07   \n",
       "303         394  103edc893dcabbeb14390bd23833cb4f24cab6d8  2013-08-07   \n",
       "23           39  4dcfa9a54bdd18cd5438221c6dcfa94738c11c40  2013-02-15   \n",
       "\n",
       "     property_type_encoded  place_name_encoded  state_name_encoded        lat  \\\n",
       "155                      2                 644                   1 -34.688727   \n",
       "16                       1                 452                   0 -34.546018   \n",
       "305                      2                 148                   4 -34.560870   \n",
       "303                      2                 631                   4 -34.604376   \n",
       "23                       2                 295                   0 -34.533846   \n",
       "\n",
       "           lon  surface_covered_in_m2  surface_total_in_m2  floor  rooms  \\\n",
       "155 -58.498525                   86.0                110.0    0.0    2.0   \n",
       "16  -58.696385                   51.5                  0.0    0.0    2.0   \n",
       "305 -58.460546                   68.0                 78.0    0.0    3.0   \n",
       "303 -58.441855                   46.0                 53.0    0.0    2.0   \n",
       "23  -58.489214                  111.0                115.0    0.0    4.0   \n",
       "\n",
       "        price  distancia_obelisco  distancia_minima_subte  \\\n",
       "155   56000.0            0.202523                0.082288   \n",
       "16   454000.0            0.371789                0.238300   \n",
       "305  265000.0            0.121098                0.005496   \n",
       "303  146850.0            0.061503                0.007492   \n",
       "23   275000.0            0.176790                0.043302   \n",
       "\n",
       "     distancia_minima_privado  distancia_minima_publico  \n",
       "155                  0.036831                  0.074586  \n",
       "16                   0.036831                  0.074586  \n",
       "305                  0.036831                  0.074586  \n",
       "303                  0.036831                  0.074586  \n",
       "23                   0.036831                  0.074586  "
      ]
     },
     "execution_count": 4,
     "metadata": {},
     "output_type": "execute_result"
    }
   ],
   "source": [
    "properties.sample(5)"
   ]
  },
  {
   "cell_type": "code",
   "execution_count": 5,
   "metadata": {
    "collapsed": true
   },
   "outputs": [],
   "source": [
    "#quito unnamed:0 y created_on, y dejo price al final, id al principio\n",
    "train = properties.loc[:, ['id', 'property_type_encoded', 'place_name_encoded', 'state_name_encoded', 'lat', 'lon', 'surface_covered_in_m2', 'surface_total_in_m2', 'floor', 'rooms', 'distancia_obelisco', 'distancia_minima_subte', 'distancia_minima_privado', 'distancia_minima_publico', 'price']]"
   ]
  },
  {
   "cell_type": "code",
   "execution_count": 6,
   "metadata": {},
   "outputs": [
    {
     "name": "stdout",
     "output_type": "stream",
     "text": [
      "<class 'pandas.core.frame.DataFrame'>\n",
      "RangeIndex: 550 entries, 0 to 549\n",
      "Data columns (total 15 columns):\n",
      "id                          550 non-null object\n",
      "property_type_encoded       550 non-null int64\n",
      "place_name_encoded          550 non-null int64\n",
      "state_name_encoded          550 non-null int64\n",
      "lat                         550 non-null float64\n",
      "lon                         550 non-null float64\n",
      "surface_covered_in_m2       550 non-null float64\n",
      "surface_total_in_m2         550 non-null float64\n",
      "floor                       550 non-null float64\n",
      "rooms                       550 non-null float64\n",
      "distancia_obelisco          550 non-null float64\n",
      "distancia_minima_subte      550 non-null float64\n",
      "distancia_minima_privado    550 non-null float64\n",
      "distancia_minima_publico    550 non-null float64\n",
      "price                       550 non-null float64\n",
      "dtypes: float64(11), int64(3), object(1)\n",
      "memory usage: 64.5+ KB\n"
     ]
    }
   ],
   "source": [
    "train.info()"
   ]
  },
  {
   "cell_type": "code",
   "execution_count": 7,
   "metadata": {
    "collapsed": true
   },
   "outputs": [],
   "source": [
    "#XGBoost funciona con matrices, no con Df\n",
    "train = train.as_matrix()"
   ]
  },
  {
   "cell_type": "code",
   "execution_count": 8,
   "metadata": {
    "collapsed": true
   },
   "outputs": [],
   "source": [
    "#separo price\n",
    "X = train[:,0:14]\n",
    "Y = train[:,14]"
   ]
  },
  {
   "cell_type": "code",
   "execution_count": 9,
   "metadata": {
    "collapsed": true
   },
   "outputs": [],
   "source": [
    "#divido el set de datos en train y test\n",
    "#marco el seed para que el RNG me de el mismo resultado\n",
    "seed = 7\n",
    "test_size = 0.3\n",
    "X_train, X_test, y_train, y_test = train_test_split(X, Y, test_size=test_size, random_state=seed)"
   ]
  },
  {
   "cell_type": "code",
   "execution_count": 10,
   "metadata": {},
   "outputs": [],
   "source": [
    "#tomo los ids del test aparte para despues\n",
    "x_test_ids = X_test[:,0]"
   ]
  },
  {
   "cell_type": "code",
   "execution_count": 11,
   "metadata": {
    "collapsed": true
   },
   "outputs": [],
   "source": [
    "#quito los ids de los sets, XGBoost solo trabaja con floats e ints\n",
    "X_test = X_test[:,1:14]\n",
    "X_train = X_train[:,1:14]"
   ]
  },
  {
   "cell_type": "code",
   "execution_count": 12,
   "metadata": {},
   "outputs": [
    {
     "data": {
      "text/plain": [
       "XGBClassifier(base_score=0.5, booster='gbtree', colsample_bylevel=1,\n",
       "       colsample_bytree=1, gamma=0, learning_rate=0.1, max_delta_step=0,\n",
       "       max_depth=3, min_child_weight=1, missing=None, n_estimators=100,\n",
       "       n_jobs=1, nthread=None, objective='multi:softprob', random_state=0,\n",
       "       reg_alpha=0, reg_lambda=1, scale_pos_weight=1, seed=None,\n",
       "       silent=True, subsample=1)"
      ]
     },
     "execution_count": 12,
     "metadata": {},
     "output_type": "execute_result"
    }
   ],
   "source": [
    "#armo el modelo (va a tomarse su tiempo con mas de 1000)\n",
    "model = XGBClassifier()\n",
    "model.fit(X_train, y_train)"
   ]
  },
  {
   "cell_type": "code",
   "execution_count": 13,
   "metadata": {
    "collapsed": true
   },
   "outputs": [],
   "source": [
    "predictions = model.predict(X_test)"
   ]
  },
  {
   "cell_type": "code",
   "execution_count": 14,
   "metadata": {},
   "outputs": [
    {
     "data": {
      "text/plain": [
       "26254761159.70303"
      ]
     },
     "execution_count": 14,
     "metadata": {},
     "output_type": "execute_result"
    }
   ],
   "source": [
    "score = mean_squared_error(y_test, predictions)\n",
    "score"
   ]
  },
  {
   "cell_type": "code",
   "execution_count": 15,
   "metadata": {},
   "outputs": [
    {
     "data": {
      "text/plain": [
       "30000.0"
      ]
     },
     "execution_count": 15,
     "metadata": {},
     "output_type": "execute_result"
    }
   ],
   "source": [
    "median_absolute_error(y_test, predictions)"
   ]
  },
  {
   "cell_type": "code",
   "execution_count": 16,
   "metadata": {
    "collapsed": true
   },
   "outputs": [],
   "source": [
    "#armo un csv con id, precio real, y precio predicho por XGBoost\n",
    "predictionsflat = predictions.flatten()\n",
    "pricesflat = y_test.flatten()\n",
    "idsflat = x_test_ids.flatten()\n",
    "submissionDf = pd.DataFrame()\n",
    "submissionDf['id'] = pd.Series(idsflat)\n",
    "submissionDf['real_price_usd'] = pd.Series(pricesflat)\n",
    "submissionDf['XGB-predicted_price'] = pd.Series(predictionsflat)\n",
    "submissionDf.set_index(['id'], inplace=True)\n",
    "submissionDf.to_csv('predicciones_XGB.csv')"
   ]
  },
  {
   "cell_type": "code",
   "execution_count": 17,
   "metadata": {},
   "outputs": [
    {
     "data": {
      "text/html": [
       "<div>\n",
       "<style>\n",
       "    .dataframe thead tr:only-child th {\n",
       "        text-align: right;\n",
       "    }\n",
       "\n",
       "    .dataframe thead th {\n",
       "        text-align: left;\n",
       "    }\n",
       "\n",
       "    .dataframe tbody tr th {\n",
       "        vertical-align: top;\n",
       "    }\n",
       "</style>\n",
       "<table border=\"1\" class=\"dataframe\">\n",
       "  <thead>\n",
       "    <tr style=\"text-align: right;\">\n",
       "      <th></th>\n",
       "      <th>real_price_usd</th>\n",
       "      <th>XGB-predicted_price</th>\n",
       "    </tr>\n",
       "    <tr>\n",
       "      <th>id</th>\n",
       "      <th></th>\n",
       "      <th></th>\n",
       "    </tr>\n",
       "  </thead>\n",
       "  <tbody>\n",
       "    <tr>\n",
       "      <th>07620eb32a6ac250879daf0e6d771bcb10087abb</th>\n",
       "      <td>280000</td>\n",
       "      <td>79500</td>\n",
       "    </tr>\n",
       "    <tr>\n",
       "      <th>c369f8ab5104df22245350d13788e39eb75873e0</th>\n",
       "      <td>650000</td>\n",
       "      <td>800000</td>\n",
       "    </tr>\n",
       "    <tr>\n",
       "      <th>cf7f335d2fc52fa5b26259fe0e430b68dec3e8fb</th>\n",
       "      <td>104000</td>\n",
       "      <td>107000</td>\n",
       "    </tr>\n",
       "    <tr>\n",
       "      <th>058002afb701eee91559b9f90b543403dd2c9a86</th>\n",
       "      <td>175900</td>\n",
       "      <td>60000</td>\n",
       "    </tr>\n",
       "    <tr>\n",
       "      <th>b8546c0ccc3ab7ace1af97e2f7a42a469d83e890</th>\n",
       "      <td>55000</td>\n",
       "      <td>70000</td>\n",
       "    </tr>\n",
       "    <tr>\n",
       "      <th>93dc054ec1f10731c67735422d59d5ff0a5edf53</th>\n",
       "      <td>190000</td>\n",
       "      <td>70000</td>\n",
       "    </tr>\n",
       "    <tr>\n",
       "      <th>e0453e27bdbe38c23c657198c5ca6d2ffdc5c36a</th>\n",
       "      <td>68000</td>\n",
       "      <td>55000</td>\n",
       "    </tr>\n",
       "    <tr>\n",
       "      <th>ecc8a2c6130331693ca35ccb74981ace12019b80</th>\n",
       "      <td>65000</td>\n",
       "      <td>68000</td>\n",
       "    </tr>\n",
       "    <tr>\n",
       "      <th>dee414c7198dd58137279f0afc56551481535cdc</th>\n",
       "      <td>500000</td>\n",
       "      <td>169954</td>\n",
       "    </tr>\n",
       "    <tr>\n",
       "      <th>ef681fb770e65eac5a7ca331bed838130e094c6c</th>\n",
       "      <td>77000</td>\n",
       "      <td>90000</td>\n",
       "    </tr>\n",
       "  </tbody>\n",
       "</table>\n",
       "</div>"
      ],
      "text/plain": [
       "                                         real_price_usd XGB-predicted_price\n",
       "id                                                                         \n",
       "07620eb32a6ac250879daf0e6d771bcb10087abb         280000               79500\n",
       "c369f8ab5104df22245350d13788e39eb75873e0         650000              800000\n",
       "cf7f335d2fc52fa5b26259fe0e430b68dec3e8fb         104000              107000\n",
       "058002afb701eee91559b9f90b543403dd2c9a86         175900               60000\n",
       "b8546c0ccc3ab7ace1af97e2f7a42a469d83e890          55000               70000\n",
       "93dc054ec1f10731c67735422d59d5ff0a5edf53         190000               70000\n",
       "e0453e27bdbe38c23c657198c5ca6d2ffdc5c36a          68000               55000\n",
       "ecc8a2c6130331693ca35ccb74981ace12019b80          65000               68000\n",
       "dee414c7198dd58137279f0afc56551481535cdc         500000              169954\n",
       "ef681fb770e65eac5a7ca331bed838130e094c6c          77000               90000"
      ]
     },
     "execution_count": 17,
     "metadata": {},
     "output_type": "execute_result"
    }
   ],
   "source": [
    "submissionDf.head(10)"
   ]
  },
  {
   "cell_type": "code",
   "execution_count": null,
   "metadata": {
    "collapsed": true
   },
   "outputs": [],
   "source": []
  }
 ],
 "metadata": {
  "kernelspec": {
   "display_name": "Python 3",
   "language": "python",
   "name": "python3"
  },
  "language_info": {
   "codemirror_mode": {
    "name": "ipython",
    "version": 3
   },
   "file_extension": ".py",
   "mimetype": "text/x-python",
   "name": "python",
   "nbconvert_exporter": "python",
   "pygments_lexer": "ipython3",
   "version": "3.6.1"
  }
 },
 "nbformat": 4,
 "nbformat_minor": 2
}
