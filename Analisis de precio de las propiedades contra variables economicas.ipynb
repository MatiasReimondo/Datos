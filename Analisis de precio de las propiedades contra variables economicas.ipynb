{
 "cells": [
  {
   "cell_type": "code",
   "execution_count": 376,
   "metadata": {
    "collapsed": true
   },
   "outputs": [],
   "source": [
    "import pandas as pd\n",
    "import numpy as np\n",
    "from datetime import datetime\n",
    "import matplotlib.pyplot as plt\n",
    "from datetime import timedelta, date\n",
    "import matplotlib.dates as mdates\n",
    "import seaborn as sns\n",
    "\n",
    "%matplotlib inline"
   ]
  },
  {
   "cell_type": "markdown",
   "metadata": {},
   "source": [
    "#### Objetivo\n",
    "Analizar la variación de los precios de propiedades en comparación a algunas variables económicas, para desprender conclusiones como:\n",
    "- ¿Podemos asociar el valor del dólar a los precios de las propiedades?\n",
    "- ¿Podemos asociar la inflación del peso a los precios de las propiedades?\n",
    "- ¿Podemos asociar el valor del salario mínimo a los precios de las propiedades?\n",
    "- ¿Qué puede decirse sobre la “accesibilidad” a la compra de propiedades?\n"
   ]
  },
  {
   "cell_type": "code",
   "execution_count": 377,
   "metadata": {},
   "outputs": [],
   "source": [
    "dfAgosto2013 = pd.read_csv('data/props/2013/properati-AR-2013-08-01-properties-sell.csv')\n",
    "dfSept2013 = pd.read_csv('data/props/2013/properati-AR-2013-09-01-properties-sell.csv')\n",
    "dfOct2013 = pd.read_csv('data/props/2013/properati-AR-2013-10-01-properties-sell.csv')\n",
    "dfNov2013 = pd.read_csv('data/props/2013/properati-AR-2013-11-01-properties-sell.csv')\n",
    "dfDic2013 = pd.read_csv('data/props/2013/properati-AR-2013-12-01-properties-sell.csv')\n",
    "\n",
    "dfEnero2014 = pd.read_csv('data/props/2014/properati-AR-2014-01-01-properties-sell.csv')\n",
    "dfFeb2014 = pd.read_csv('data/props/2014/properati-AR-2014-02-01-properties-sell.csv')\n",
    "dfMar2014 = pd.read_csv('data/props/2014/properati-AR-2014-03-01-properties-sell.csv')\n",
    "dfAbril2014 = pd.read_csv('data/props/2014/properati-AR-2014-04-01-properties-sell.csv')\n",
    "dfMayo2014 = pd.read_csv('data/props/2014/properati-AR-2014-05-01-properties-sell.csv')\n",
    "dfJun2014 = pd.read_csv('data/props/2014/properati-AR-2014-06-01-properties-sell.csv')\n",
    "dfJul2014 = pd.read_csv('data/props/2014/properati-AR-2014-07-01-properties-sell.csv')\n",
    "dfAgo2014 = pd.read_csv('data/props/2014/properati-AR-2014-08-01-properties-sell.csv')\n",
    "dfSept2014 = pd.read_csv('data/props/2014/properati-AR-2014-09-01-properties-sell.csv')\n",
    "dfOct2014 = pd.read_csv('data/props/2014/properati-AR-2014-10-01-properties-sell.csv')\n",
    "dfNov2014 = pd.read_csv('data/props/2014/properati-AR-2014-11-01-properties-sell.csv')\n",
    "dfDic2014 = pd.read_csv('data/props/2014/properati-AR-2014-12-01-properties-sell.csv')\n",
    "\n",
    "dfEnero2015 = pd.read_csv('data/props/2015/properati-AR-2015-01-01-properties-sell.csv')\n",
    "dfFeb2015 = pd.read_csv('data/props/2015/properati-AR-2015-02-01-properties-sell.csv')\n",
    "dfMar2015 = pd.read_csv('data/props/2015/properati-AR-2015-03-01-properties-sell.csv')\n",
    "dfAbril2015 = pd.read_csv('data/props/2015/properati-AR-2015-04-01-properties-sell.csv')\n",
    "dfMayo2015 = pd.read_csv('data/props/2015/properati-AR-2015-05-01-properties-sell.csv')\n",
    "dfJul2015 = pd.read_csv('data/props/2015/properati-AR-2015-07-01-properties-sell.csv')\n",
    "dfAgo2015 = pd.read_csv('data/props/2015/properati-AR-2015-08-01-properties-sell.csv')\n",
    "dfSept2015 = pd.read_csv('data/props/2015/properati-AR-2015-09-01-properties-sell.csv')\n",
    "dfOct2015 = pd.read_csv('data/props/2015/properati-AR-2015-10-01-properties-sell.csv')\n",
    "dfNov2015 = pd.read_csv('data/props/2015/properati-AR-2015-11-01-properties-sell.csv')\n",
    "dfDic2015 = pd.read_csv('data/props/2015/properati-AR-2015-12-01-properties-sell.csv')\n",
    "\n",
    "dfEnero2016 = pd.read_csv('data/props/2016/properati-AR-2016-01-01-properties-sell.csv')\n",
    "dfFeb2016 = pd.read_csv('data/props/2016/properati-AR-2016-02-01-properties-sell.csv')\n",
    "dfMar2016 = pd.read_csv('data/props/2016/properati-AR-2016-03-01-properties-sell.csv')\n",
    "dfAbril2016 = pd.read_csv('data/props/2016/properati-AR-2016-04-01-properties-sell.csv')\n",
    "dfMayo2016 = pd.read_csv('data/props/2016/properati-AR-2016-05-01-properties-sell.csv')\n",
    "dfJun2016 = pd.read_csv('data/props/2016/properati-AR-2016-06-01-properties-sell.csv')\n",
    "dfJul2016 = pd.read_csv('data/props/2016/properati-AR-2016-07-01-properties-sell.csv')\n",
    "dfAgo2016 = pd.read_csv('data/props/2016/properati-AR-2016-08-01-properties-sell.csv')\n",
    "dfSept2016 = pd.read_csv('data/props/2016/properati-AR-2016-09-01-properties-sell.csv')\n",
    "dfOct2016 = pd.read_csv('data/props/2016/properati-AR-2016-10-01-properties-sell.csv')\n",
    "dfNov2016 = pd.read_csv('data/props/2016/properati-AR-2016-11-01-properties-sell.csv')\n",
    "dfDic2016 = pd.read_csv('data/props/2016/properati-AR-2016-12-01-properties-sell.csv')\n",
    "\n",
    "dfEnero2017 = pd.read_csv('data/props/2017/properati-AR-2017-01-01-properties-sell.csv')\n",
    "dfAgostoSixMonths2017 = pd.read_csv('data/props/2017/properati-AR-2017-08-01-properties-sell-six_months.csv')"
   ]
  },
  {
   "cell_type": "code",
   "execution_count": 592,
   "metadata": {
    "collapsed": true
   },
   "outputs": [],
   "source": [
    "propertiesOriginal = pd.concat([dfAgosto2013,dfSept2013,dfOct2013,dfNov2013,dfDic2013,dfEnero2014,dfFeb2014,dfMar2014, dfAbril2014,dfMayo2014,dfJun2014,dfJul2014,dfAgo2014,dfSept2014,dfOct2014,dfNov2014,dfDic2014,dfEnero2015, dfFeb2015, dfMar2015, dfAbril2015, dfMayo2015,dfJul2015,dfAgo2015,dfSept2015,dfOct2015, dfNov2015, dfDic2015,dfEnero2016,dfFeb2016,dfMar2016, dfAbril2016,dfMayo2016,dfJun2016,dfJul2016, dfAgo2016, dfSept2016,dfOct2016, dfNov2016, dfDic2016,dfEnero2017,dfAgostoSixMonths2017])"
   ]
  },
  {
   "cell_type": "code",
   "execution_count": 724,
   "metadata": {
    "collapsed": true
   },
   "outputs": [],
   "source": [
    "properties = propertiesOriginal"
   ]
  },
  {
   "cell_type": "code",
   "execution_count": 725,
   "metadata": {},
   "outputs": [],
   "source": [
    "#Elimino duplicados\n",
    "properties.drop_duplicates(subset=['property_type', 'rooms', 'surface_covered_in_m2', 'surface_in_m2', 'price', 'price_aprox_usd', 'price_usd_per_m2', 'geonames_id', 'state_name'], inplace=True)\n",
    "\n",
    "#Elimino propiedades sin precio por metro cuadrado\n",
    "properties.dropna(subset=['price_per_m2', 'price_usd_per_m2'], inplace=True)"
   ]
  },
  {
   "cell_type": "code",
   "execution_count": 726,
   "metadata": {},
   "outputs": [],
   "source": [
    "quantityPeryear = {'2013':len(properties.loc[properties.created_on.str.contains('2013'), :])\\\n",
    "                            ,'2014': len(properties.loc[properties.created_on.str.contains('2014'), :])\\\n",
    "                            ,'2015': len(properties.loc[properties.created_on.str.contains('2015'), :])\\\n",
    "                            ,'2016': len(properties.loc[properties.created_on.str.contains('2016'), :])\\\n",
    "                            ,'2017': len(properties.loc[properties.created_on.str.contains('2017'), :])}"
   ]
  },
  {
   "cell_type": "code",
   "execution_count": 727,
   "metadata": {},
   "outputs": [
    {
     "data": {
      "text/plain": [
       "2013     1401\n",
       "2014     8443\n",
       "2015    52217\n",
       "2016    50138\n",
       "2017    60313\n",
       "dtype: int64"
      ]
     },
     "execution_count": 727,
     "metadata": {},
     "output_type": "execute_result"
    }
   ],
   "source": [
    "pd.Series(quantityPeryear)"
   ]
  },
  {
   "cell_type": "code",
   "execution_count": 728,
   "metadata": {},
   "outputs": [
    {
     "data": {
      "text/html": [
       "<div>\n",
       "<style>\n",
       "    .dataframe thead tr:only-child th {\n",
       "        text-align: right;\n",
       "    }\n",
       "\n",
       "    .dataframe thead th {\n",
       "        text-align: left;\n",
       "    }\n",
       "\n",
       "    .dataframe tbody tr th {\n",
       "        vertical-align: top;\n",
       "    }\n",
       "</style>\n",
       "<table border=\"1\" class=\"dataframe\">\n",
       "  <thead>\n",
       "    <tr style=\"text-align: right;\">\n",
       "      <th></th>\n",
       "      <th>floor</th>\n",
       "      <th>geonames_id</th>\n",
       "      <th>lat</th>\n",
       "      <th>lon</th>\n",
       "      <th>price</th>\n",
       "      <th>price_aprox_local_currency</th>\n",
       "      <th>price_aprox_usd</th>\n",
       "      <th>price_per_m2</th>\n",
       "      <th>price_usd_per_m2</th>\n",
       "      <th>rooms</th>\n",
       "      <th>surface_covered_in_m2</th>\n",
       "      <th>surface_in_m2</th>\n",
       "      <th>surface_total_in_m2</th>\n",
       "    </tr>\n",
       "  </thead>\n",
       "  <tbody>\n",
       "    <tr>\n",
       "      <th>count</th>\n",
       "      <td>18799.000000</td>\n",
       "      <td>1.439130e+05</td>\n",
       "      <td>126658.000000</td>\n",
       "      <td>126658.000000</td>\n",
       "      <td>1.725740e+05</td>\n",
       "      <td>1.725740e+05</td>\n",
       "      <td>1.725740e+05</td>\n",
       "      <td>1.725740e+05</td>\n",
       "      <td>1.725740e+05</td>\n",
       "      <td>87233.000000</td>\n",
       "      <td>172574.000000</td>\n",
       "      <td>0.0</td>\n",
       "      <td>172574.000000</td>\n",
       "    </tr>\n",
       "    <tr>\n",
       "      <th>mean</th>\n",
       "      <td>5.949253</td>\n",
       "      <td>3.520050e+06</td>\n",
       "      <td>-34.750071</td>\n",
       "      <td>-58.741306</td>\n",
       "      <td>4.035569e+05</td>\n",
       "      <td>3.710858e+06</td>\n",
       "      <td>2.534601e+05</td>\n",
       "      <td>4.904162e+03</td>\n",
       "      <td>1.859777e+03</td>\n",
       "      <td>3.064781</td>\n",
       "      <td>137.188678</td>\n",
       "      <td>NaN</td>\n",
       "      <td>282.771964</td>\n",
       "    </tr>\n",
       "    <tr>\n",
       "      <th>std</th>\n",
       "      <td>84.874245</td>\n",
       "      <td>3.852211e+05</td>\n",
       "      <td>2.236515</td>\n",
       "      <td>2.174308</td>\n",
       "      <td>1.458286e+06</td>\n",
       "      <td>5.715825e+06</td>\n",
       "      <td>3.986157e+05</td>\n",
       "      <td>2.532708e+04</td>\n",
       "      <td>4.328117e+03</td>\n",
       "      <td>1.502790</td>\n",
       "      <td>838.396408</td>\n",
       "      <td>NaN</td>\n",
       "      <td>1815.899313</td>\n",
       "    </tr>\n",
       "    <tr>\n",
       "      <th>min</th>\n",
       "      <td>1.000000</td>\n",
       "      <td>3.427208e+06</td>\n",
       "      <td>-54.833014</td>\n",
       "      <td>-122.419415</td>\n",
       "      <td>5.000000e+03</td>\n",
       "      <td>4.843214e+04</td>\n",
       "      <td>3.032980e+03</td>\n",
       "      <td>1.171170e+00</td>\n",
       "      <td>7.772599e-02</td>\n",
       "      <td>1.000000</td>\n",
       "      <td>1.000000</td>\n",
       "      <td>NaN</td>\n",
       "      <td>1.000000</td>\n",
       "    </tr>\n",
       "    <tr>\n",
       "      <th>25%</th>\n",
       "      <td>2.000000</td>\n",
       "      <td>3.429971e+06</td>\n",
       "      <td>-34.651708</td>\n",
       "      <td>-58.583053</td>\n",
       "      <td>1.100000e+05</td>\n",
       "      <td>1.357322e+06</td>\n",
       "      <td>9.500000e+04</td>\n",
       "      <td>1.437500e+03</td>\n",
       "      <td>9.487647e+02</td>\n",
       "      <td>2.000000</td>\n",
       "      <td>48.000000</td>\n",
       "      <td>NaN</td>\n",
       "      <td>55.000000</td>\n",
       "    </tr>\n",
       "    <tr>\n",
       "      <th>50%</th>\n",
       "      <td>3.000000</td>\n",
       "      <td>3.431273e+06</td>\n",
       "      <td>-34.598446</td>\n",
       "      <td>-58.472379</td>\n",
       "      <td>1.850000e+05</td>\n",
       "      <td>2.279664e+06</td>\n",
       "      <td>1.550195e+05</td>\n",
       "      <td>2.025641e+03</td>\n",
       "      <td>1.623377e+03</td>\n",
       "      <td>3.000000</td>\n",
       "      <td>82.000000</td>\n",
       "      <td>NaN</td>\n",
       "      <td>100.000000</td>\n",
       "    </tr>\n",
       "    <tr>\n",
       "      <th>75%</th>\n",
       "      <td>6.000000</td>\n",
       "      <td>3.436048e+06</td>\n",
       "      <td>-34.512637</td>\n",
       "      <td>-58.396247</td>\n",
       "      <td>3.800000e+05</td>\n",
       "      <td>4.171301e+06</td>\n",
       "      <td>2.850000e+05</td>\n",
       "      <td>2.961639e+03</td>\n",
       "      <td>2.285714e+03</td>\n",
       "      <td>4.000000</td>\n",
       "      <td>167.000000</td>\n",
       "      <td>NaN</td>\n",
       "      <td>250.000000</td>\n",
       "    </tr>\n",
       "    <tr>\n",
       "      <th>max</th>\n",
       "      <td>8661.000000</td>\n",
       "      <td>6.948895e+06</td>\n",
       "      <td>52.619706</td>\n",
       "      <td>58.620500</td>\n",
       "      <td>2.418570e+08</td>\n",
       "      <td>7.984250e+08</td>\n",
       "      <td>5.000000e+07</td>\n",
       "      <td>4.243105e+06</td>\n",
       "      <td>1.271027e+06</td>\n",
       "      <td>34.000000</td>\n",
       "      <td>200000.000000</td>\n",
       "      <td>NaN</td>\n",
       "      <td>200000.000000</td>\n",
       "    </tr>\n",
       "  </tbody>\n",
       "</table>\n",
       "</div>"
      ],
      "text/plain": [
       "              floor   geonames_id            lat            lon         price  \\\n",
       "count  18799.000000  1.439130e+05  126658.000000  126658.000000  1.725740e+05   \n",
       "mean       5.949253  3.520050e+06     -34.750071     -58.741306  4.035569e+05   \n",
       "std       84.874245  3.852211e+05       2.236515       2.174308  1.458286e+06   \n",
       "min        1.000000  3.427208e+06     -54.833014    -122.419415  5.000000e+03   \n",
       "25%        2.000000  3.429971e+06     -34.651708     -58.583053  1.100000e+05   \n",
       "50%        3.000000  3.431273e+06     -34.598446     -58.472379  1.850000e+05   \n",
       "75%        6.000000  3.436048e+06     -34.512637     -58.396247  3.800000e+05   \n",
       "max     8661.000000  6.948895e+06      52.619706      58.620500  2.418570e+08   \n",
       "\n",
       "       price_aprox_local_currency  price_aprox_usd  price_per_m2  \\\n",
       "count                1.725740e+05     1.725740e+05  1.725740e+05   \n",
       "mean                 3.710858e+06     2.534601e+05  4.904162e+03   \n",
       "std                  5.715825e+06     3.986157e+05  2.532708e+04   \n",
       "min                  4.843214e+04     3.032980e+03  1.171170e+00   \n",
       "25%                  1.357322e+06     9.500000e+04  1.437500e+03   \n",
       "50%                  2.279664e+06     1.550195e+05  2.025641e+03   \n",
       "75%                  4.171301e+06     2.850000e+05  2.961639e+03   \n",
       "max                  7.984250e+08     5.000000e+07  4.243105e+06   \n",
       "\n",
       "       price_usd_per_m2         rooms  surface_covered_in_m2  surface_in_m2  \\\n",
       "count      1.725740e+05  87233.000000          172574.000000            0.0   \n",
       "mean       1.859777e+03      3.064781             137.188678            NaN   \n",
       "std        4.328117e+03      1.502790             838.396408            NaN   \n",
       "min        7.772599e-02      1.000000               1.000000            NaN   \n",
       "25%        9.487647e+02      2.000000              48.000000            NaN   \n",
       "50%        1.623377e+03      3.000000              82.000000            NaN   \n",
       "75%        2.285714e+03      4.000000             167.000000            NaN   \n",
       "max        1.271027e+06     34.000000          200000.000000            NaN   \n",
       "\n",
       "       surface_total_in_m2  \n",
       "count        172574.000000  \n",
       "mean            282.771964  \n",
       "std            1815.899313  \n",
       "min               1.000000  \n",
       "25%              55.000000  \n",
       "50%             100.000000  \n",
       "75%             250.000000  \n",
       "max          200000.000000  "
      ]
     },
     "execution_count": 728,
     "metadata": {},
     "output_type": "execute_result"
    }
   ],
   "source": [
    "properties.describe()"
   ]
  },
  {
   "cell_type": "code",
   "execution_count": 729,
   "metadata": {},
   "outputs": [],
   "source": [
    "#Me quedo con el percentil 75\n",
    "properties = properties.loc[properties.price_per_m2 < properties.price_per_m2.quantile(0.85), :]\n",
    "#properties = properties.loc[properties.price_usd_per_m2 < properties.price_usd_per_m2.quantile(0.95), :]"
   ]
  },
  {
   "cell_type": "code",
   "execution_count": 730,
   "metadata": {},
   "outputs": [
    {
     "name": "stderr",
     "output_type": "stream",
     "text": [
      "/Users/mreverter/PythonProjects/datos/tp1/env/lib/python2.7/site-packages/ipykernel_launcher.py:1: SettingWithCopyWarning: \n",
      "A value is trying to be set on a copy of a slice from a DataFrame.\n",
      "Try using .loc[row_indexer,col_indexer] = value instead\n",
      "\n",
      "See the caveats in the documentation: http://pandas.pydata.org/pandas-docs/stable/indexing.html#indexing-view-versus-copy\n",
      "  \"\"\"Entry point for launching an IPython kernel.\n",
      "/Users/mreverter/PythonProjects/datos/tp1/env/lib/python2.7/site-packages/ipykernel_launcher.py:2: SettingWithCopyWarning: \n",
      "A value is trying to be set on a copy of a slice from a DataFrame.\n",
      "Try using .loc[row_indexer,col_indexer] = value instead\n",
      "\n",
      "See the caveats in the documentation: http://pandas.pydata.org/pandas-docs/stable/indexing.html#indexing-view-versus-copy\n",
      "  \n",
      "/Users/mreverter/PythonProjects/datos/tp1/env/lib/python2.7/site-packages/ipykernel_launcher.py:3: SettingWithCopyWarning: \n",
      "A value is trying to be set on a copy of a slice from a DataFrame.\n",
      "Try using .loc[row_indexer,col_indexer] = value instead\n",
      "\n",
      "See the caveats in the documentation: http://pandas.pydata.org/pandas-docs/stable/indexing.html#indexing-view-versus-copy\n",
      "  This is separate from the ipykernel package so we can avoid doing imports until\n",
      "/Users/mreverter/PythonProjects/datos/tp1/env/lib/python2.7/site-packages/ipykernel_launcher.py:4: SettingWithCopyWarning: \n",
      "A value is trying to be set on a copy of a slice from a DataFrame.\n",
      "Try using .loc[row_indexer,col_indexer] = value instead\n",
      "\n",
      "See the caveats in the documentation: http://pandas.pydata.org/pandas-docs/stable/indexing.html#indexing-view-versus-copy\n",
      "  after removing the cwd from sys.path.\n"
     ]
    }
   ],
   "source": [
    "properties['created_on'] = pd.to_datetime(properties['created_on'], format = \"%Y-%m-%d\")\n",
    "properties['year_created'] = properties['created_on'].map(lambda x: x.year)\n",
    "properties['month_created'] = properties['created_on'].map(lambda x: x.month)\n",
    "properties['month_year_created'] = properties['created_on'].map(lambda x: str(x.month) + '-' + str(x.year))"
   ]
  },
  {
   "cell_type": "markdown",
   "metadata": {
    "collapsed": true
   },
   "source": [
    "### ¿Podemos asociar el valor del dólar a los precios de las propiedades?\n",
    "\n",
    "Normalizamos los valores del metro cuadrado y del dolar, y comparamos su variación."
   ]
  },
  {
   "cell_type": "code",
   "execution_count": 731,
   "metadata": {
    "collapsed": true
   },
   "outputs": [],
   "source": [
    "dolarEvolution = pd.read_csv('data/economic/dolar-daily.csv')"
   ]
  },
  {
   "cell_type": "code",
   "execution_count": 732,
   "metadata": {
    "collapsed": true
   },
   "outputs": [],
   "source": [
    "dolarEvolution = dolarEvolution.loc[:,['date', 'open']]"
   ]
  },
  {
   "cell_type": "code",
   "execution_count": 733,
   "metadata": {
    "collapsed": true
   },
   "outputs": [],
   "source": [
    "max_value = dolarEvolution['open'].max()\n",
    "min_value = dolarEvolution['open'].min()\n",
    "normalized = (dolarEvolution['open'] - min_value) / (max_value - min_value)"
   ]
  },
  {
   "cell_type": "code",
   "execution_count": 734,
   "metadata": {
    "collapsed": true
   },
   "outputs": [],
   "source": [
    "dolarEvolution['normalized'] = normalized"
   ]
  },
  {
   "cell_type": "code",
   "execution_count": 735,
   "metadata": {
    "collapsed": true
   },
   "outputs": [],
   "source": [
    "propertiesNormDf = properties.loc[:,['created_on', 'year_created', 'month_created', 'month_year_created', 'price_usd_per_m2', 'price_per_m2']]"
   ]
  },
  {
   "cell_type": "code",
   "execution_count": 736,
   "metadata": {},
   "outputs": [],
   "source": [
    "#Obtengo columna de precios en pesos normalizada\n",
    "max_value = propertiesNormDf['price_per_m2'].max()\n",
    "min_value = propertiesNormDf['price_per_m2'].min()\n",
    "propertiesPriceNormalized = (propertiesNormDf['price_per_m2'] - min_value) / (max_value - min_value)\n",
    "propertiesNormDf['price_m2_normalized'] = propertiesPriceNormalized"
   ]
  },
  {
   "cell_type": "code",
   "execution_count": 737,
   "metadata": {},
   "outputs": [],
   "source": [
    "#Obtengo columna de precios en dolares normalizada\n",
    "max_value = propertiesNormDf['price_usd_per_m2'].max()\n",
    "min_value = propertiesNormDf['price_usd_per_m2'].min()\n",
    "propertiesPriceNormalized = (propertiesNormDf['price_usd_per_m2'] - min_value) / (max_value - min_value)\n",
    "propertiesNormDf['price_usd_m2_normalized'] = propertiesPriceNormalized"
   ]
  },
  {
   "cell_type": "code",
   "execution_count": 738,
   "metadata": {
    "collapsed": true
   },
   "outputs": [],
   "source": [
    "dolarEvolution['date'] = pd.to_datetime(dolarEvolution['date'], format = \"%d.%m.%Y\")\n",
    "dolarEvolution['year-month'] = dolarEvolution['date'].map(lambda x: str(x.month) + '-' + str(x.year))\n",
    "dolarEvolution['year'] = dolarEvolution['date'].map(lambda x: x.year)\n",
    "dolarEvolution['month'] = dolarEvolution['date'].map(lambda x: x.month)"
   ]
  },
  {
   "cell_type": "code",
   "execution_count": 739,
   "metadata": {
    "collapsed": true
   },
   "outputs": [],
   "source": [
    "dolarPriceByMonth = (dolarEvolution.groupby('year-month').mean().reset_index()).sort_values(by=['year','month'])\n",
    "dolarPriceByMonth = dolarPriceByMonth.loc[:,['year-month', 'normalized']].rename(columns={'normalized':'value'})\n",
    "dolarPriceByMonth.rename(columns={'year-month':'Mes', 'value':'Evolucion Dolar'}, inplace=True)"
   ]
  },
  {
   "cell_type": "code",
   "execution_count": 740,
   "metadata": {},
   "outputs": [],
   "source": [
    "propertiesPriceGroupedByMonth = (propertiesNormDf.groupby(['month_year_created']).mean().reset_index()).loc[:,['month_created', 'year_created', 'month_year_created', 'price_m2_normalized']].sort_values(by=['year_created', 'month_created'])\n",
    "propertiesPriceGroupedByMonth = propertiesPriceGroupedByMonth.loc[:, ['month_year_created', 'price_m2_normalized']]\n",
    "propertiesPriceGroupedByMonth.rename(columns={'month_year_created':'Mes', 'price_m2_normalized':'Evolucion $/m2'}, inplace=True)"
   ]
  },
  {
   "cell_type": "code",
   "execution_count": 741,
   "metadata": {},
   "outputs": [],
   "source": [
    "propertiesPriceUSDGroupedByMonth = (propertiesNormDf.groupby(['month_year_created']).mean().reset_index()).loc[:,['month_created', 'year_created', 'month_year_created', 'price_usd_m2_normalized']].sort_values(by=['year_created', 'month_created'])\n",
    "propertiesPriceUSDGroupedByMonth = propertiesPriceUSDGroupedByMonth.loc[:, ['month_year_created', 'price_usd_m2_normalized']]\n",
    "propertiesPriceUSDGroupedByMonth.rename(columns={'month_year_created':'Mes', 'price_usd_m2_normalized':'Evolucion USD/m2'}, inplace=True)"
   ]
  },
  {
   "cell_type": "code",
   "execution_count": 742,
   "metadata": {
    "collapsed": true
   },
   "outputs": [],
   "source": [
    "propertiesAndDolar = pd.merge(dolarPriceByMonth, propertiesPriceGroupedByMonth, how='inner', on='Mes')\n",
    "propertiesAndDolar = pd.merge(propertiesAndDolar, propertiesPriceUSDGroupedByMonth, how='inner', on='Mes')"
   ]
  },
  {
   "cell_type": "code",
   "execution_count": 743,
   "metadata": {},
   "outputs": [
    {
     "data": {
      "text/plain": [
       "<matplotlib.text.Text at 0x13884c2d0>"
      ]
     },
     "execution_count": 743,
     "metadata": {},
     "output_type": "execute_result"
    },
    {
     "data": {
      "image/png": "[encoded data removed]",
      "text/plain": [
       "<matplotlib.figure.Figure at 0x1578f8090>"
      ]
     },
     "metadata": {},
     "output_type": "display_data"
    }
   ],
   "source": [
    "propertiesAndDolar.plot(x=\"Mes\", y=[\"Evolucion $/m2\", \"Evolucion Dolar\"])\n",
    "plt.title('Evolucion del precio del metro cuadrado en pesos vs dolar (Valores normalizados)')"
   ]
  },
  {
   "cell_type": "markdown",
   "metadata": {},
   "source": [
    "### ¿Podemos asociar el valor del salario mínimo a los precios de las propiedades?\n",
    "\n",
    "Normalizamos los valores del metro cuadrado y del salario, y comparamos su variación."
   ]
  },
  {
   "cell_type": "code",
   "execution_count": 744,
   "metadata": {
    "collapsed": true
   },
   "outputs": [],
   "source": [
    "salaryEvolution = pd.read_csv('data/economic/salario-minimo.csv')"
   ]
  },
  {
   "cell_type": "code",
   "execution_count": 745,
   "metadata": {},
   "outputs": [],
   "source": [
    "max_value = salaryEvolution['salario_minimo'].max()\n",
    "min_value = salaryEvolution['salario_minimo'].min()\n",
    "normalized = (salaryEvolution['salario_minimo'] - min_value) / (max_value - min_value)"
   ]
  },
  {
   "cell_type": "code",
   "execution_count": 746,
   "metadata": {
    "collapsed": true
   },
   "outputs": [],
   "source": [
    "salaryEvolution['normalized'] = normalized"
   ]
  },
  {
   "cell_type": "code",
   "execution_count": 747,
   "metadata": {},
   "outputs": [],
   "source": [
    "salaryEvolution['mes'] = pd.to_datetime(salaryEvolution['mes'], format = \"%m-%Y\")\n",
    "salaryEvolution['year-month'] = salaryEvolution['mes'].map(lambda x: str(x.month) + '-' + str(x.year))\n",
    "salaryEvolution['year'] = salaryEvolution['mes'].map(lambda x: x.year)\n",
    "salaryEvolution['month'] = salaryEvolution['mes'].map(lambda x: x.month)"
   ]
  },
  {
   "cell_type": "code",
   "execution_count": 748,
   "metadata": {
    "collapsed": true
   },
   "outputs": [],
   "source": [
    "salaryByMonth = (salaryEvolution.groupby('year-month').mean().reset_index()).sort_values(by=['year','month'])\n",
    "salaryByMonth = salaryByMonth.loc[:,['year-month', 'normalized']].rename(columns={'normalized':'value'})\n",
    "salaryByMonth.rename(columns={'year-month':'Mes', 'value':'Evolucion salario minimo'}, inplace=True)"
   ]
  },
  {
   "cell_type": "code",
   "execution_count": 749,
   "metadata": {
    "collapsed": true
   },
   "outputs": [],
   "source": [
    "propertiesAndSalary = pd.merge(salaryByMonth, propertiesPriceGroupedByMonth, how='inner', on='Mes')"
   ]
  },
  {
   "cell_type": "code",
   "execution_count": 750,
   "metadata": {},
   "outputs": [
    {
     "data": {
      "text/plain": [
       "<matplotlib.text.Text at 0x147584150>"
      ]
     },
     "execution_count": 750,
     "metadata": {},
     "output_type": "execute_result"
    },
    {
     "data": {
      "image/png": "[encoded data removed]",
      "text/plain": [
       "<matplotlib.figure.Figure at 0x11f4531d0>"
      ]
     },
     "metadata": {},
     "output_type": "display_data"
    }
   ],
   "source": [
    "propertiesAndSalary.plot(x=\"Mes\", y=[\"Evolucion $/m2\", \"Evolucion salario minimo\"])\n",
    "plt.title('Evolucion del precio del metro cuadrado en pesos vs salario minimo (Valores normalizados)')"
   ]
  },
  {
   "cell_type": "markdown",
   "metadata": {},
   "source": [
    "### ¿Podemos asociar la inflación a los precios de las propiedades?"
   ]
  },
  {
   "cell_type": "code",
   "execution_count": 751,
   "metadata": {
    "collapsed": true
   },
   "outputs": [],
   "source": [
    "inflationEvolution = pd.read_csv('data/economic/inflacion-argentina.csv')"
   ]
  },
  {
   "cell_type": "code",
   "execution_count": 752,
   "metadata": {},
   "outputs": [],
   "source": [
    "inflationEvolution['FECHA'] = pd.to_datetime(inflationEvolution['FECHA'], format = \"%d/%m/%Y\")"
   ]
  },
  {
   "cell_type": "code",
   "execution_count": 753,
   "metadata": {
    "collapsed": true
   },
   "outputs": [],
   "source": [
    "inflationEvolution['year-month'] = inflationEvolution['FECHA'].map(lambda x: str(x.month) + '-' + str(x.year))\n",
    "inflationEvolution['year'] = inflationEvolution['FECHA'].map(lambda x: x.year)\n",
    "inflationEvolution['month'] = inflationEvolution['FECHA'].map(lambda x: x.month)"
   ]
  },
  {
   "cell_type": "code",
   "execution_count": 754,
   "metadata": {},
   "outputs": [],
   "source": [
    "#Calculo variacion mes a mes de los precios del metro cuadrado\n",
    "s = pd.Series([propertiesPriceGroupedByMonth.iloc[0]['Evolucion $/m2']])\n",
    "s = s.append(propertiesPriceGroupedByMonth['Evolucion $/m2'])\n",
    "sdf = s.reset_index()\n",
    "propertiesPriceGroupedByMonth.reset_index(inplace=True)\n",
    "propertiesPriceGroupedByMonth['previous'] = sdf[0]\n",
    "\n",
    "propertiesPriceGroupedByMonth['var'] = propertiesPriceGroupedByMonth.apply(lambda x : (x['Evolucion $/m2']-x['previous'])/x['previous'], axis=1)"
   ]
  },
  {
   "cell_type": "code",
   "execution_count": 755,
   "metadata": {},
   "outputs": [],
   "source": [
    "propertiesAndInflation = pd.merge(propertiesPriceGroupedByMonth, inflationEvolution, how='inner', left_on='Mes', right_on='year-month')"
   ]
  },
  {
   "cell_type": "code",
   "execution_count": 756,
   "metadata": {},
   "outputs": [
    {
     "data": {
      "text/plain": [
       "<matplotlib.text.Text at 0x124a9af90>"
      ]
     },
     "execution_count": 756,
     "metadata": {},
     "output_type": "execute_result"
    },
    {
     "data": {
      "image/png": "[encoded data removed]",
      "text/plain": [
       "<matplotlib.figure.Figure at 0x12a610e50>"
      ]
     },
     "metadata": {},
     "output_type": "display_data"
    }
   ],
   "source": [
    "propertiesAndInflation.rename(columns={'var':'Variacion mensual precio m2', 'IPC-CONGRESO':'Inflacion mensual (IPC-Congreso)'}, inplace=True)\n",
    "propertiesAndInflation.plot(x=\"Mes\", y=[\"Variacion mensual precio m2\", \"Inflacion mensual (IPC-Congreso)\"])\n",
    "plt.title('Variacion mensual del precio por metro cuadrado vs inflacion')"
   ]
  }
 ],
 "metadata": {
  "kernelspec": {
   "display_name": "Python 2",
   "language": "python",
   "name": "python2"
  },
  "language_info": {
   "codemirror_mode": {
    "name": "ipython",
    "version": 2
   },
   "file_extension": ".py",
   "mimetype": "text/x-python",
   "name": "python",
   "nbconvert_exporter": "python",
   "pygments_lexer": "ipython2",
   "version": "2.7.10"
  }
 },
 "nbformat": 4,
 "nbformat_minor": 2
}
