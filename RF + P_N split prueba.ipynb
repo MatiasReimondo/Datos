{
 "cells": [
  {
   "cell_type": "code",
   "execution_count": 1,
   "metadata": {
    "collapsed": true
   },
   "outputs": [],
   "source": [
    "import numpy as np\n",
    "import pandas as pd\n",
    "import matplotlib.pyplot as plt\n",
    "from sklearn.metrics import mean_squared_error\n",
    "\n",
    "from sklearn import preprocessing\n",
    "from sklearn.preprocessing import LabelEncoder \n",
    "from sklearn.metrics import mean_squared_error\n",
    "from sklearn.metrics import median_absolute_error\n",
    "from sklearn.metrics import accuracy_score\n",
    "\n",
    "from sklearn.ensemble import RandomForestRegressor\n",
    "from sklearn.datasets import make_regression\n",
    "from datetime import datetime\n",
    "from datetime import timedelta, date\n",
    "import matplotlib.dates as mdates\n",
    "import math\n",
    "import warnings\n",
    "\n",
    "from sklearn import neighbors\n",
    "from sklearn import datasets, linear_model\n",
    "from sklearn.metrics import mean_squared_error, r2_score\n",
    "\n",
    "warnings.filterwarnings('ignore')\n",
    "\n",
    "#from xgboost import XGBClassifier\n",
    "#from sklearn.metrics import accuracy_score"
   ]
  },
  {
   "cell_type": "code",
   "execution_count": 2,
   "metadata": {
    "collapsed": true
   },
   "outputs": [],
   "source": [
    "properties = pd.read_csv('trainTree.csv')\n",
    "testing = pd.read_csv('testTree.csv')"
   ]
  },
  {
   "cell_type": "code",
   "execution_count": 33,
   "metadata": {
    "collapsed": true
   },
   "outputs": [],
   "source": [
    "#prueba\n",
    "train = properties[10000:]\n",
    "train = train.drop('id', 1)\n",
    "train = train.drop('description', 1)\n",
    "train = train.drop('Unnamed: 0', 1)\n",
    "train = train.drop('created_on', 1)\n",
    "train = train.drop('lat', 1)\n",
    "train = train.drop('lon', 1)"
   ]
  },
  {
   "cell_type": "code",
   "execution_count": 34,
   "metadata": {
    "collapsed": true
   },
   "outputs": [],
   "source": [
    "test = properties[0:10000]\n",
    "t = test.drop('id', 1)\n",
    "t=  t.drop('description', 1)\n",
    "t = t.drop('Unnamed: 0', 1)\n",
    "#cross2= cross2.drop('price_aprox_usd', 1)\n",
    "t= t.drop('created_on', 1)\n",
    "t= t.drop('lat', 1)\n",
    "t= t.drop('lon', 1)\n",
    "crossValidation = pd.DataFrame()\n",
    "#crossValidation['price_aprox_usd'] = tes['price_aprox_usd']\n",
    "#test.info()"
   ]
  },
  {
   "cell_type": "code",
   "execution_count": null,
   "metadata": {
    "collapsed": true
   },
   "outputs": [],
   "source": []
  },
  {
   "cell_type": "code",
   "execution_count": 35,
   "metadata": {
    "collapsed": true
   },
   "outputs": [],
   "source": [
    "#obtengo trainvacios y testvacios con los entries de los respectivos datasets que cumplen:\n",
    "#en el train set, menos de 10 entradas por place_name_encoded\n",
    "#en el test set, no tienen entradas en el train set con el mismo place_name_encoded\n",
    "\n",
    "\n",
    "l = len(properties['place_name_encoded'].value_counts())\n",
    "\n",
    "#CAMBIO: hardcodeo el valor original (place name encoded va hasta 678)\n",
    "\n",
    "\n",
    "#uso este porque sé que es bajo\n",
    "trainvacios = train[train['place_name_encoded']==1]\n",
    "testvacios = t[t['place_name_encoded']==1]\n",
    "\n",
    "for x in range(0,l+2):\n",
    "    if ((len(t[t['place_name_encoded']==x])==0) or (len(train[train['place_name_encoded']==x])<50)) and (x!=1):\n",
    "    #excluyo el hardcodeado\n",
    "    \n",
    "        train0 = train[train['place_name_encoded']==x]\n",
    "        trainvacios = pd.concat([trainvacios, train0])\n",
    "        \n",
    "        test0 = t[t['place_name_encoded']==x]\n",
    "        testvacios = pd.concat([testvacios, test0])"
   ]
  },
  {
   "cell_type": "code",
   "execution_count": 36,
   "metadata": {
    "collapsed": true
   },
   "outputs": [],
   "source": [
    "#los datos restantes tienen más de 10 entradas en train y al menos alguna en test por barrio\n",
    "#los junto en el dataframe 'trainaptos'\n",
    "\n",
    "trainaptos= train[~train['place_name_encoded'].isin(trainvacios['place_name_encoded'])]\n",
    "testaptos= t[~t['place_name_encoded'].isin(testvacios['place_name_encoded'])]\n",
    "#trainaptos.info()"
   ]
  },
  {
   "cell_type": "code",
   "execution_count": 37,
   "metadata": {},
   "outputs": [
    {
     "name": "stdout",
     "output_type": "stream",
     "text": [
      "Train:\n",
      "Registros:       599670  =  599670\n",
      "Aptos + Vacios:  575612 + 24058\n",
      "Place_names:     899  =  899\n",
      "Vacios + Aptos:  604 + 295\n",
      "\n",
      "Test:\n",
      "Registros:       10000  =  10000\n",
      "Aptos + Vacios:  9897 + 103\n",
      "Place_names:     361  =  361\n",
      "Vacios + Aptos:  66 + 295\n"
     ]
    }
   ],
   "source": [
    "#Reviso que quedo bien el split\n",
    "\n",
    "total = pd.concat([trainaptos, trainvacios])\n",
    "print('Train:')\n",
    "print('Registros:      ', len(total), ' = ', len(train))\n",
    "print('Aptos + Vacios: ', len(trainaptos), '+', len(trainvacios))\n",
    "\n",
    "print('Place_names:    ', len(train['place_name_encoded'].value_counts()), ' = ', len(total['place_name_encoded'].value_counts()))\n",
    "print('Vacios + Aptos: ', len(trainvacios['place_name_encoded'].value_counts()), '+', len(trainaptos['place_name_encoded'].value_counts()))\n",
    "print()\n",
    "\n",
    "\n",
    "total = pd.concat([testaptos, testvacios])\n",
    "print('Test:')\n",
    "print('Registros:      ', len(total), ' = ', len(t))\n",
    "print('Aptos + Vacios: ', len(testaptos), '+', len(testvacios))\n",
    "\n",
    "print('Place_names:    ', len(t['place_name_encoded'].value_counts()), ' = ', len(total['place_name_encoded'].value_counts()))\n",
    "print('Vacios + Aptos: ', len(testvacios['place_name_encoded'].value_counts()), '+', len(testaptos['place_name_encoded'].value_counts()))"
   ]
  },
  {
   "cell_type": "code",
   "execution_count": 38,
   "metadata": {},
   "outputs": [
    {
     "data": {
      "text/plain": [
       "615    23873\n",
       "189    22103\n",
       "784    18079\n",
       "598    17908\n",
       "218    14122\n",
       "637    13372\n",
       "675    12822\n",
       "834    12746\n",
       "145    11814\n",
       "606    11422\n",
       "874    11179\n",
       "16     11129\n",
       "484    10878\n",
       "381    10771\n",
       "446     9939\n",
       "735     9386\n",
       "587     8175\n",
       "42      7451\n",
       "658     7278\n",
       "667     7032\n",
       "601     6672\n",
       "671     6663\n",
       "746     6636\n",
       "722     6539\n",
       "241     6310\n",
       "732     6096\n",
       "815     5953\n",
       "37      5481\n",
       "242     5386\n",
       "46      5039\n",
       "       ...  \n",
       "51       101\n",
       "613       99\n",
       "562       99\n",
       "703       93\n",
       "471       93\n",
       "337       93\n",
       "492       91\n",
       "264       89\n",
       "330       83\n",
       "827       79\n",
       "238       76\n",
       "236       73\n",
       "826       69\n",
       "699       69\n",
       "271       68\n",
       "105       66\n",
       "127       65\n",
       "614       65\n",
       "286       63\n",
       "866       62\n",
       "327       61\n",
       "14        60\n",
       "700       60\n",
       "416       60\n",
       "209       59\n",
       "424       59\n",
       "321       57\n",
       "390       52\n",
       "831       51\n",
       "267       50\n",
       "Name: place_name_encoded, Length: 295, dtype: int64"
      ]
     },
     "execution_count": 38,
     "metadata": {},
     "output_type": "execute_result"
    }
   ],
   "source": [
    "trainaptos['place_name_encoded'].value_counts()"
   ]
  },
  {
   "cell_type": "code",
   "execution_count": 42,
   "metadata": {},
   "outputs": [
    {
     "name": "stdout",
     "output_type": "stream",
     "text": [
      "<class 'pandas.core.frame.DataFrame'>\n",
      "RangeIndex: 103 entries, 0 to 102\n",
      "Data columns (total 2 columns):\n",
      "id           103 non-null int32\n",
      "price_usd    103 non-null float64\n",
      "dtypes: float64(1), int32(1)\n",
      "memory usage: 1.3 KB\n"
     ]
    }
   ],
   "source": [
    "#armo una funcion que devuelva un dataframe con las predicciones del test y train dados y su id\n",
    "\n",
    "def RandomForest(test,train):\n",
    "    train = train.drop('place_name_encoded',1)\n",
    "    \n",
    "    trainLX = train.drop('price_aprox_usd', 1)\n",
    "    trainLY = train[['price_aprox_usd']]\n",
    "    \n",
    "    #t = test.drop('id',1)\n",
    "    t = test.drop('price_aprox_usd',1)\n",
    "    t = t.drop('place_name_encoded',1)\n",
    "    \n",
    "    regr = RandomForestRegressor(min_samples_leaf=1, min_samples_split=2,n_estimators=375, n_jobs = -1,max_features='log2')\n",
    "    predictions = regr.fit(trainLX, trainLY).predict(t)\n",
    "    predictions = predictions.flatten()\n",
    "\n",
    "    ids = test.as_matrix()[:,0].flatten()\n",
    "    results = pd.DataFrame()\n",
    "    results['id'] = pd.Series(ids.astype('int32'))\n",
    "    results['price_usd'] = pd.Series(predictions)\n",
    "    \n",
    "    \n",
    "    return results\n",
    "\n",
    "#armo el dataframe resultados. Empieza con los test y train 'vacios'\n",
    "#el resto se hará individualmente por place_name uno por uno posteriormente\n",
    "resultados = RandomForest(testvacios,trainvacios)\n",
    "resultados.info()\n",
    "\n",
    "crossValidation = pd.DataFrame()\n",
    "crossValidation['price_aprox_usd'] = testvacios['price_aprox_usd']"
   ]
  },
  {
   "cell_type": "code",
   "execution_count": 44,
   "metadata": {
    "collapsed": true
   },
   "outputs": [],
   "source": [
    "#ahora saco las predicciones para los test y train aptos uno por uno\n",
    "l = len(properties['place_name_encoded'].value_counts())\n",
    "\n",
    "for x in range(0,l+2):\n",
    "    if len(testaptos[testaptos['place_name_encoded']==x])!=0:\n",
    "        testx = testaptos[testaptos['place_name_encoded']==x]\n",
    "        trainx = trainaptos[trainaptos['place_name_encoded']==x]\n",
    "        resx = RandomForest(testx,trainx)\n",
    "        \n",
    "        crossX = pd.DataFrame()\n",
    "        crossX['price_aprox_usd'] = testx['price_aprox_usd']\n",
    "        crossValidation = pd.concat([crossValidation, crossX])\n",
    "        \n",
    "        resultados = pd.concat([resultados, resx])"
   ]
  },
  {
   "cell_type": "code",
   "execution_count": 45,
   "metadata": {},
   "outputs": [
    {
     "name": "stdout",
     "output_type": "stream",
     "text": [
      "<class 'pandas.core.frame.DataFrame'>\n",
      "Int64Index: 10000 entries, 9892 to 8888\n",
      "Data columns (total 1 columns):\n",
      "price_aprox_usd    10000 non-null float64\n",
      "dtypes: float64(1)\n",
      "memory usage: 156.2 KB\n"
     ]
    }
   ],
   "source": [
    "crossValidation.info()"
   ]
  },
  {
   "cell_type": "code",
   "execution_count": 46,
   "metadata": {},
   "outputs": [
    {
     "name": "stdout",
     "output_type": "stream",
     "text": [
      "<class 'pandas.core.frame.DataFrame'>\n",
      "Int64Index: 10000 entries, 0 to 10\n",
      "Data columns (total 2 columns):\n",
      "id           10000 non-null int32\n",
      "price_usd    10000 non-null float64\n",
      "dtypes: float64(1), int32(1)\n",
      "memory usage: 195.3 KB\n"
     ]
    }
   ],
   "source": [
    "#debe contener la misma cantidad que testing (14166)\n",
    "resultados.info()"
   ]
  },
  {
   "cell_type": "code",
   "execution_count": 48,
   "metadata": {},
   "outputs": [
    {
     "data": {
      "text/plain": [
       "2807173824.6856117"
      ]
     },
     "execution_count": 48,
     "metadata": {},
     "output_type": "execute_result"
    }
   ],
   "source": [
    "score = mean_squared_error(crossValidation['price_aprox_usd'].values, resultados['price_usd'].values)\n",
    "score"
   ]
  },
  {
   "cell_type": "code",
   "execution_count": 13,
   "metadata": {
    "collapsed": true
   },
   "outputs": [],
   "source": [
    "#resultados.set_index(['id'], inplace=True)\n",
    "#resultados.to_csv('predicciones_RF_placename.csv')"
   ]
  },
  {
   "cell_type": "code",
   "execution_count": null,
   "metadata": {
    "collapsed": true
   },
   "outputs": [],
   "source": []
  }
 ],
 "metadata": {
  "kernelspec": {
   "display_name": "Python 3",
   "language": "python",
   "name": "python3"
  },
  "language_info": {
   "codemirror_mode": {
    "name": "ipython",
    "version": 3
   },
   "file_extension": ".py",
   "mimetype": "text/x-python",
   "name": "python",
   "nbconvert_exporter": "python",
   "pygments_lexer": "ipython3",
   "version": "3.6.1"
  }
 },
 "nbformat": 4,
 "nbformat_minor": 2
}
