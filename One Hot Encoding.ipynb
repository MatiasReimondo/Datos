{
 "cells": [
  {
   "cell_type": "code",
   "execution_count": 1,
   "metadata": {},
   "outputs": [],
   "source": [
    "import pandas as pd\n",
    "import numpy as np\n",
    "import matplotlib.pyplot as plt\n",
    "import math\n",
    "import warnings\n",
    "from sklearn import svm\n",
    "from sklearn.model_selection import cross_val_score\n",
    "from sklearn.svm import SVR\n",
    "from sklearn.metrics import median_absolute_error\n",
    "from sklearn.metrics import mean_squared_error\n",
    "from sklearn.ensemble import ExtraTreesRegressor\n",
    "from sklearn.neighbors import KNeighborsRegressor\n",
    "from sklearn.linear_model import LinearRegression\n",
    "from sklearn.linear_model import RidgeCV\n",
    "from sklearn.linear_model import SGDRegressor\n",
    "from sklearn.linear_model import PassiveAggressiveRegressor\n",
    "from sklearn.ensemble import RandomForestRegressor\n",
    "from sklearn.ensemble import AdaBoostRegressor\n",
    "from sklearn.preprocessing import Imputer\n",
    "warnings.filterwarnings('ignore')\n",
    "%matplotlib inline"
   ]
  },
  {
   "cell_type": "markdown",
   "metadata": {},
   "source": [
    "### Análisis de datos de test"
   ]
  },
  {
   "cell_type": "code",
   "execution_count": 2,
   "metadata": {},
   "outputs": [],
   "source": [
    "propertiesTest = pd.read_csv('data/properati_dataset_testing_noprice.csv')"
   ]
  },
  {
   "cell_type": "code",
   "execution_count": 3,
   "metadata": {},
   "outputs": [
    {
     "data": {
      "text/plain": [
       "14166"
      ]
     },
     "execution_count": 3,
     "metadata": {},
     "output_type": "execute_result"
    }
   ],
   "source": [
    "len(propertiesTest.loc[(propertiesTest.created_on.str.contains('2017')),:])"
   ]
  },
  {
   "cell_type": "code",
   "execution_count": 4,
   "metadata": {},
   "outputs": [
    {
     "data": {
      "text/plain": [
       "14166"
      ]
     },
     "execution_count": 4,
     "metadata": {},
     "output_type": "execute_result"
    }
   ],
   "source": [
    "len(propertiesTest)"
   ]
  },
  {
   "cell_type": "code",
   "execution_count": 5,
   "metadata": {},
   "outputs": [
    {
     "name": "stdout",
     "output_type": "stream",
     "text": [
      "14166\n",
      "1161\n",
      "2313\n",
      "0\n",
      "0\n",
      "0\n",
      "6666\n",
      "12798\n",
      "11623\n",
      "3679\n",
      "3679\n"
     ]
    }
   ],
   "source": [
    "print len(propertiesTest)\n",
    "print len(propertiesTest[propertiesTest['surface_covered_in_m2'].isna()])\n",
    "print len(propertiesTest[propertiesTest['surface_total_in_m2'].isna()])\n",
    "print len(propertiesTest[propertiesTest['description'].isna()])\n",
    "print len(propertiesTest[propertiesTest['place_name'].isna()])\n",
    "print len(propertiesTest[propertiesTest['property_type'].isna()])\n",
    "print len(propertiesTest[propertiesTest['rooms'].isna()])\n",
    "print len(propertiesTest[propertiesTest['floor'].isna()])\n",
    "print len(propertiesTest[propertiesTest['expenses'].isna()])\n",
    "print len(propertiesTest[propertiesTest['lat'].isna()])\n",
    "print len(propertiesTest[propertiesTest['lon'].isna()])"
   ]
  },
  {
   "cell_type": "markdown",
   "metadata": {},
   "source": [
    "### Análisis de datos para Train"
   ]
  },
  {
   "cell_type": "code",
   "execution_count": 6,
   "metadata": {},
   "outputs": [],
   "source": [
    "properties = pd.read_csv('data/datos_procesados.csv')"
   ]
  },
  {
   "cell_type": "code",
   "execution_count": 7,
   "metadata": {},
   "outputs": [],
   "source": [
    "properties.drop_duplicates('id', inplace=True)"
   ]
  },
  {
   "cell_type": "code",
   "execution_count": 8,
   "metadata": {},
   "outputs": [],
   "source": [
    "properties = properties.loc[(properties.created_on.str.contains('2016')) | (properties.created_on.str.contains('2017')),:]"
   ]
  },
  {
   "cell_type": "code",
   "execution_count": 9,
   "metadata": {},
   "outputs": [
    {
     "data": {
      "text/plain": [
       "[<matplotlib.lines.Line2D at 0x132c751d0>]"
      ]
     },
     "execution_count": 9,
     "metadata": {},
     "output_type": "execute_result"
    },
    {
     "data": {
      "image/png": "[encoded data removed]",
      "text/plain": [
       "<matplotlib.figure.Figure at 0x1136c0e90>"
      ]
     },
     "metadata": {},
     "output_type": "display_data"
    }
   ],
   "source": [
    "plt.plot(properties['price'])"
   ]
  },
  {
   "cell_type": "code",
   "execution_count": 10,
   "metadata": {},
   "outputs": [],
   "source": [
    "properties = properties.loc[properties.price < properties.price.quantile(0.9), :]"
   ]
  },
  {
   "cell_type": "code",
   "execution_count": 11,
   "metadata": {},
   "outputs": [
    {
     "data": {
      "text/plain": [
       "[<matplotlib.lines.Line2D at 0x132361a50>]"
      ]
     },
     "execution_count": 11,
     "metadata": {},
     "output_type": "execute_result"
    },
    {
     "data": {
      "image/png": "[encoded data removed]",
      "text/plain": [
       "<matplotlib.figure.Figure at 0x13236e950>"
      ]
     },
     "metadata": {},
     "output_type": "display_data"
    }
   ],
   "source": [
    "plt.plot(properties['price'])"
   ]
  },
  {
   "cell_type": "code",
   "execution_count": 12,
   "metadata": {},
   "outputs": [
    {
     "data": {
      "text/plain": [
       "105"
      ]
     },
     "execution_count": 12,
     "metadata": {},
     "output_type": "execute_result"
    }
   ],
   "source": [
    "len(properties.loc[properties.price < properties.price.quantile(0.001), ['price']])"
   ]
  },
  {
   "cell_type": "code",
   "execution_count": 13,
   "metadata": {},
   "outputs": [],
   "source": [
    "properties = properties.loc[properties.price > properties.price.quantile(0.001), :]"
   ]
  },
  {
   "cell_type": "code",
   "execution_count": 14,
   "metadata": {},
   "outputs": [
    {
     "data": {
      "text/plain": [
       "[<matplotlib.lines.Line2D at 0x13234b250>]"
      ]
     },
     "execution_count": 14,
     "metadata": {},
     "output_type": "execute_result"
    },
    {
     "data": {
      "image/png": "[encoded data removed]",
      "text/plain": [
       "<matplotlib.figure.Figure at 0x13236d350>"
      ]
     },
     "metadata": {},
     "output_type": "display_data"
    }
   ],
   "source": [
    "plt.plot(properties['surface_covered_in_m2'])"
   ]
  },
  {
   "cell_type": "code",
   "execution_count": 15,
   "metadata": {},
   "outputs": [],
   "source": [
    "properties = properties.loc[properties.surface_covered_in_m2 < properties.surface_covered_in_m2.quantile(0.9), :]"
   ]
  },
  {
   "cell_type": "code",
   "execution_count": 16,
   "metadata": {},
   "outputs": [
    {
     "data": {
      "text/plain": [
       "[<matplotlib.lines.Line2D at 0x132336a50>]"
      ]
     },
     "execution_count": 16,
     "metadata": {},
     "output_type": "execute_result"
    },
    {
     "data": {
      "image/png": "[encoded data removed]",
      "text/plain": [
       "<matplotlib.figure.Figure at 0x13236e9d0>"
      ]
     },
     "metadata": {},
     "output_type": "display_data"
    }
   ],
   "source": [
    "plt.plot(properties['surface_covered_in_m2'])"
   ]
  },
  {
   "cell_type": "code",
   "execution_count": 17,
   "metadata": {},
   "outputs": [
    {
     "data": {
      "text/html": [
       "<div>\n",
       "<style scoped>\n",
       "    .dataframe tbody tr th:only-of-type {\n",
       "        vertical-align: middle;\n",
       "    }\n",
       "\n",
       "    .dataframe tbody tr th {\n",
       "        vertical-align: top;\n",
       "    }\n",
       "\n",
       "    .dataframe thead th {\n",
       "        text-align: right;\n",
       "    }\n",
       "</style>\n",
       "<table border=\"1\" class=\"dataframe\">\n",
       "  <thead>\n",
       "    <tr style=\"text-align: right;\">\n",
       "      <th></th>\n",
       "      <th>surface_covered_in_m2</th>\n",
       "    </tr>\n",
       "  </thead>\n",
       "  <tbody>\n",
       "    <tr>\n",
       "      <th>365294</th>\n",
       "      <td>0.0</td>\n",
       "    </tr>\n",
       "    <tr>\n",
       "      <th>365324</th>\n",
       "      <td>0.0</td>\n",
       "    </tr>\n",
       "    <tr>\n",
       "      <th>365379</th>\n",
       "      <td>0.0</td>\n",
       "    </tr>\n",
       "    <tr>\n",
       "      <th>365600</th>\n",
       "      <td>0.0</td>\n",
       "    </tr>\n",
       "    <tr>\n",
       "      <th>366056</th>\n",
       "      <td>0.0</td>\n",
       "    </tr>\n",
       "  </tbody>\n",
       "</table>\n",
       "</div>"
      ],
      "text/plain": [
       "        surface_covered_in_m2\n",
       "365294                    0.0\n",
       "365324                    0.0\n",
       "365379                    0.0\n",
       "365600                    0.0\n",
       "366056                    0.0"
      ]
     },
     "execution_count": 17,
     "metadata": {},
     "output_type": "execute_result"
    }
   ],
   "source": [
    "properties.loc[properties.surface_covered_in_m2 < properties.surface_covered_in_m2.quantile(0.01), ['surface_covered_in_m2']].head(5)"
   ]
  },
  {
   "cell_type": "code",
   "execution_count": 18,
   "metadata": {},
   "outputs": [],
   "source": [
    "properties = properties.loc[properties.surface_covered_in_m2 > properties.surface_covered_in_m2.quantile(0.01)]"
   ]
  },
  {
   "cell_type": "code",
   "execution_count": 19,
   "metadata": {},
   "outputs": [
    {
     "name": "stdout",
     "output_type": "stream",
     "text": [
      "<class 'pandas.core.frame.DataFrame'>\n",
      "Int64Index: 88040 entries, 365289 to 493835\n",
      "Data columns (total 30 columns):\n",
      "Unnamed: 0                    88040 non-null int64\n",
      "country_name                  88040 non-null object\n",
      "created_on                    88040 non-null object\n",
      "currency                      88040 non-null object\n",
      "description                   88038 non-null object\n",
      "expenses                      16105 non-null object\n",
      "extra                         0 non-null object\n",
      "floor                         7613 non-null float64\n",
      "geonames_id                   73383 non-null float64\n",
      "id                            88040 non-null object\n",
      "image_thumbnail               87315 non-null object\n",
      "lat                           63607 non-null float64\n",
      "lat-lon                       63607 non-null object\n",
      "lon                           63607 non-null float64\n",
      "operation                     88040 non-null object\n",
      "place_name                    88027 non-null object\n",
      "place_with_parent_names       88040 non-null object\n",
      "price                         88040 non-null float64\n",
      "price_aprox_local_currency    88040 non-null float64\n",
      "price_aprox_usd               88040 non-null float64\n",
      "price_per_m2                  88040 non-null float64\n",
      "price_usd_per_m2              88040 non-null float64\n",
      "properati_url                 88040 non-null object\n",
      "property_type                 88040 non-null object\n",
      "rooms                         46899 non-null float64\n",
      "state_name                    88040 non-null object\n",
      "surface_covered_in_m2         88040 non-null float64\n",
      "surface_in_m2                 0 non-null float64\n",
      "surface_total_in_m2           88040 non-null float64\n",
      "title                         88040 non-null object\n",
      "dtypes: float64(13), int64(1), object(16)\n",
      "memory usage: 20.8+ MB\n"
     ]
    }
   ],
   "source": [
    "properties.info()"
   ]
  },
  {
   "cell_type": "code",
   "execution_count": 20,
   "metadata": {},
   "outputs": [
    {
     "name": "stdout",
     "output_type": "stream",
     "text": [
      "88040\n",
      "0\n",
      "0\n",
      "2\n",
      "13\n",
      "0\n",
      "41141\n",
      "80427\n",
      "71935\n",
      "0\n",
      "24433\n",
      "24433\n"
     ]
    }
   ],
   "source": [
    "print len(properties)\n",
    "print len(properties[properties['surface_covered_in_m2'].isna()])\n",
    "print len(properties[properties['surface_total_in_m2'].isna()])\n",
    "print len(properties[properties['description'].isna()])\n",
    "print len(properties[properties['place_name'].isna()])\n",
    "print len(properties[properties['property_type'].isna()])\n",
    "print len(properties[properties['rooms'].isna()])\n",
    "print len(properties[properties['floor'].isna()])\n",
    "print len(properties[properties['expenses'].isna()])\n",
    "print len(properties[properties['price'].isna()])\n",
    "print len(properties[properties['lat'].isna()])\n",
    "print len(properties[properties['lon'].isna()])"
   ]
  },
  {
   "cell_type": "markdown",
   "metadata": {
    "collapsed": true
   },
   "source": [
    "### Train y Test base"
   ]
  },
  {
   "cell_type": "code",
   "execution_count": 21,
   "metadata": {},
   "outputs": [],
   "source": [
    "places_array = propertiesTest['place_name'].drop_duplicates().values\n",
    "properties = properties[properties['place_name'].isin(places_array)]"
   ]
  },
  {
   "cell_type": "code",
   "execution_count": 22,
   "metadata": {},
   "outputs": [],
   "source": [
    "baseTrain = properties.loc[:, ['surface_covered_in_m2', 'surface_total_in_m2', 'description', 'place_name', 'property_type', 'price']]"
   ]
  },
  {
   "cell_type": "code",
   "execution_count": 23,
   "metadata": {},
   "outputs": [],
   "source": [
    "baseTest = propertiesTest.loc[:, ['id','surface_covered_in_m2', 'surface_total_in_m2', 'description', 'place_name', 'property_type']]"
   ]
  },
  {
   "cell_type": "markdown",
   "metadata": {},
   "source": [
    "### Datos de descripción"
   ]
  },
  {
   "cell_type": "code",
   "execution_count": 24,
   "metadata": {},
   "outputs": [],
   "source": [
    "def tiene_palabra(df,word,word2):\n",
    "    t = df\n",
    "    pool = []\n",
    "    vectorDes = t['description'].values\n",
    "    for description in vectorDes:\n",
    "        description = str(description)\n",
    "        description = description.lower()\n",
    "        if word in description or word2 in description:\n",
    "            pool.append(1)\n",
    "        else:\n",
    "            pool.append(0)\n",
    "    df[str(word)] = pool"
   ]
  },
  {
   "cell_type": "code",
   "execution_count": 25,
   "metadata": {},
   "outputs": [],
   "source": [
    "def cargar_palabras(df):\n",
    "    tiene_palabra(df,'pileta','piscina')\n",
    "    tiene_palabra(df,'garage','cochera')\n",
    "    tiene_palabra(df,'gimnasio','gym')\n",
    "    #tiene_palabra(df,'cancha','cancha')\n",
    "    tiene_palabra(df,'frente',' frente')\n",
    "    tiene_palabra(df,'contrafrente','contrafrente')\n",
    "    #tiene_palabra(df,'lavadero','lava')\n",
    "    tiene_palabra(df,'nuevo','estrenar')\n",
    "    #tiene_palabra(df,'cuadras','cuadra')\n",
    "    #tiene_palabra(df,'playroom','sum')\n",
    "    #tiene_palabra(df,'excelente','hermosa')\n",
    "\n",
    "\n",
    "    tiene_palabra(df,'centro','centrica')\n",
    "    tiene_palabra(df,'patio','quincho')\n",
    "    #tiene_palabra(df,'madero','madero')\n",
    "    #tiene_palabra(df,'luminoso','iluminacion')\n",
    "    #tiene_palabra(df,'grande','espacio')\n",
    "    #tiene_palabra(df,'autopista','autopista')\n",
    "    tiene_palabra(df,'tren','estacion')\n",
    "    #tiene_palabra(df,'cocina','comedor')\n",
    "    #tiene_palabra(df,'seguridad','camaras')\n",
    "    #tiene_palabra(df,'shopping','cine')\n",
    "\n",
    "    #tiene_palabra(df,'limpieza','cubiertos')\n",
    "    tiene_palabra(df,'monoambiente','mono')\n",
    "    #tiene_palabra(df,'baja','primer')\n",
    "    #tiene_palabra(df,'parque','verde')\n",
    "    #tiene_palabra(df,'jardin','jardin')\n",
    "    #tiene_palabra(df,'living','comedor')\n",
    "    #tiene_palabra(df,'terraza','balcon')\n",
    "    tiene_palabra(df,'parrila','parrila')\n",
    "    tiene_palabra(df,'barrio cerrado','country')\n",
    "    tiene_palabra(df,'subte','metro')\n",
    "    tiene_palabra(df,'metrobus','metrobus')\n",
    "    #tiene_palabra(df,'yacuzzi','jacuzzi')\n",
    "    tiene_palabra(df,'primer piso','1er piso')\n",
    "    tiene_palabra(df,'segundo piso','2do piso')\n",
    "    tiene_palabra(df,'semipiso','semipiso')\n",
    "    tiene_palabra(df,'piso completo','piso completo')\n",
    "    tiene_palabra(df,'amueblado','muebles')"
   ]
  },
  {
   "cell_type": "code",
   "execution_count": 26,
   "metadata": {},
   "outputs": [],
   "source": [
    "train_con_palabras = baseTrain.copy(deep=True)\n",
    "cargar_palabras(train_con_palabras)\n",
    "\n",
    "test_con_palabras = baseTest.copy(deep=True)\n",
    "cargar_palabras(test_con_palabras)"
   ]
  },
  {
   "cell_type": "markdown",
   "metadata": {},
   "source": [
    "### One hot encoding "
   ]
  },
  {
   "cell_type": "markdown",
   "metadata": {},
   "source": [
    "Tipo de propiedad"
   ]
  },
  {
   "cell_type": "code",
   "execution_count": 27,
   "metadata": {},
   "outputs": [],
   "source": [
    "def es_de_tipo(df,tipo):\n",
    "    t = df\n",
    "    encode = []\n",
    "    tipo = str(tipo)\n",
    "    tipo = tipo.lower()\n",
    "    types = t['property_type'].values\n",
    "    for currentType in types:\n",
    "        currentType = str(currentType)\n",
    "        currentType = currentType.lower()\n",
    "        if currentType == tipo:\n",
    "            encode.append(1)\n",
    "        else:\n",
    "            encode.append(0)\n",
    "    df[str(tipo)] = encode"
   ]
  },
  {
   "cell_type": "code",
   "execution_count": 28,
   "metadata": {},
   "outputs": [],
   "source": [
    "types_array = train_con_palabras['property_type'].drop_duplicates().values\n",
    "types_array = np.array(types_array, dtype=str)\n",
    "for tipo in types_array:\n",
    "    es_de_tipo(train_con_palabras, tipo)\n",
    "    es_de_tipo(test_con_palabras, tipo)"
   ]
  },
  {
   "cell_type": "markdown",
   "metadata": {},
   "source": [
    "### Encoding de barrios"
   ]
  },
  {
   "cell_type": "code",
   "execution_count": 29,
   "metadata": {},
   "outputs": [],
   "source": [
    "def es_de_barrio(df,placeName):\n",
    "    t = df\n",
    "    pool = []\n",
    "    placeName = str(placeName)\n",
    "    placeName = placeName.lower()\n",
    "    vectorDes = t['place_name'].values\n",
    "    for place in vectorDes:\n",
    "        place = str(place)\n",
    "        place = place.lower()\n",
    "        if placeName == place:\n",
    "            pool.append(1)\n",
    "        else:\n",
    "            pool.append(0)\n",
    "    df[str(placeName)] = pool"
   ]
  },
  {
   "cell_type": "code",
   "execution_count": 30,
   "metadata": {},
   "outputs": [],
   "source": [
    "train_con_barrios = baseTrain\n",
    "places_array = train_con_barrios['place_name'].drop_duplicates().values\n",
    "for place in places_array:\n",
    "    es_de_barrio(train_con_barrios, place)\n",
    "\n",
    "test_con_barrios = baseTest\n",
    "places_array = train_con_barrios['place_name'].drop_duplicates().values\n",
    "for place in places_array:\n",
    "    es_de_barrio(test_con_barrios, place)"
   ]
  },
  {
   "cell_type": "code",
   "execution_count": 31,
   "metadata": {},
   "outputs": [],
   "source": [
    "#train_final = train_con_palabras\n",
    "#test_final = test_con_palabras\n",
    "\n",
    "train_final = train_con_barrios\n",
    "test_final = test_con_barrios\n",
    "\n",
    "for tipo in types_array:\n",
    "    es_de_tipo(train_final, tipo)\n",
    "    es_de_tipo(test_final, tipo)"
   ]
  },
  {
   "cell_type": "markdown",
   "metadata": {},
   "source": [
    "## Cross validation"
   ]
  },
  {
   "cell_type": "code",
   "execution_count": 32,
   "metadata": {},
   "outputs": [],
   "source": [
    "# Fit estimators\n",
    "ESTIMATORS = {\n",
    "    \"Extra trees 10\": ExtraTreesRegressor(n_estimators=10, random_state=0),\n",
    "    #\"Extra trees 20\": ExtraTreesRegressor(n_estimators=20, random_state=0),\n",
    "    #\"Extra trees 30\": ExtraTreesRegressor(n_estimators=30, random_state=0),\n",
    "    #\"Extra trees 31\": ExtraTreesRegressor(n_estimators=31, random_state=0),\n",
    "    #\"Extra trees 32\": ExtraTreesRegressor(n_estimators=32, random_state=0),\n",
    "    #\"Extra trees 33\": ExtraTreesRegressor(n_estimators=33, random_state=0),\n",
    "    #\"Extra trees 34\": ExtraTreesRegressor(n_estimators=34, random_state=0),\n",
    "    #\"Extra trees 35\": ExtraTreesRegressor(n_estimators=35, random_state=0),\n",
    "    #\"Extra trees 36\": ExtraTreesRegressor(n_estimators=36, random_state=0),\n",
    "    #\"Extra trees 37\": ExtraTreesRegressor(n_estimators=37, random_state=0),\n",
    "    #\"Extra trees 38\": ExtraTreesRegressor(n_estimators=38, random_state=0),\n",
    "    #\"Extra trees 39\": ExtraTreesRegressor(n_estimators=39, random_state=0),\n",
    "    #    \"SVM\" : SVR(),\n",
    "    #\"Random forest 2\" : RandomForestRegressor(max_depth=2, random_state=0),\n",
    "    #\"Random forest 5\" : RandomForestRegressor(max_depth=5, random_state=0),\n",
    "    #\"Random forest 10\" : RandomForestRegressor(max_depth=10, random_state=0),\n",
    "    #\"Random forest 15\" : RandomForestRegressor(max_depth=15, random_state=0),\n",
    "    #\"Random forest 30\" : RandomForestRegressor(max_depth=30, random_state=0),\n",
    "    #\"Random forest 31\" : RandomForestRegressor(max_depth=31, random_state=0),\n",
    "    #\"Random forest 32\" : RandomForestRegressor(max_depth=32, random_state=0),\n",
    "    #\"Random forest 33\" : RandomForestRegressor(max_depth=33, random_state=0),\n",
    "    #\"Random forest 34\" : RandomForestRegressor(max_depth=34, random_state=0),\n",
    "    #\"Random forest 35\" : RandomForestRegressor(max_depth=35, random_state=0),\n",
    "    #\"Random forest 36\" : RandomForestRegressor(max_depth=36, random_state=0),\n",
    "    #\"Random forest 37\" : RandomForestRegressor(max_depth=37, random_state=0),\n",
    "    #\"Random forest 38\" : RandomForestRegressor(max_depth=38, random_state=0),\n",
    "    \"Random forest 39\" : RandomForestRegressor(max_depth=39, random_state=0),\n",
    "    #\"Random forest 40\" : RandomForestRegressor(max_depth=40, random_state=0),\n",
    "    #\"Random forest 41\" : RandomForestRegressor(max_depth=41, random_state=0),\n",
    "    #\"Random forest 42\" : RandomForestRegressor(max_depth=42, random_state=0),\n",
    "    #\"Random forest 43\" : RandomForestRegressor(max_depth=43, random_state=0),\n",
    "    #\"Random forest 44\" : RandomForestRegressor(max_depth=44, random_state=0),\n",
    "    #\"Random forest 45\" : RandomForestRegressor(max_depth=45, random_state=0),\n",
    "    #\"Random forest 46\" : RandomForestRegressor(max_depth=46, random_state=0),\n",
    "    #\"Random forest 47\" : RandomForestRegressor(max_depth=47, random_state=0),\n",
    "    #\"Random forest 48\" : RandomForestRegressor(max_depth=48, random_state=0),\n",
    "    #\"Random forest 49\" : RandomForestRegressor(max_depth=49, random_state=0),    \n",
    "    #\"Random forest 50\" : RandomForestRegressor(max_depth=50, random_state=0),    \n",
    "    #\"Random forest 60\" : RandomForestRegressor(max_depth=60, random_state=0),        \n",
    "    #\"Random forest 70\" : RandomForestRegressor(max_depth=70, random_state=0),            \n",
    "    \"Random forest 100\" : RandomForestRegressor(max_depth=100, random_state=0),                \n",
    "    \"Random forest 120\" : RandomForestRegressor(max_depth=120, random_state=0),                \n",
    "    \"Random forest 140\" : RandomForestRegressor(max_depth=140, random_state=0),                \n",
    "    \"Random forest 160\" : RandomForestRegressor(max_depth=160, random_state=0),                \n",
    "    #\"Ada\": AdaBoostRegressor(),\n",
    "    #\"Passive\": PassiveAggressiveRegressor(random_state=0),\n",
    "    #\"Passive 2\": PassiveAggressiveRegressor(random_state=0, C=0.2),\n",
    "    #\"Passive 5\": PassiveAggressiveRegressor(random_state=0, C=0.5),\n",
    "    #\"Passive 10\": PassiveAggressiveRegressor(random_state=0, C=0.8),\n",
    "    #\"Extra trees 30 - Bootstrap\": ExtraTreesRegressor(n_estimators=30, random_state=0, bootstrap=True),    \n",
    "    #\"Extra trees 30 - Bootstrap + OOB\": ExtraTreesRegressor(n_estimators=30, random_state=0, bootstrap=True, oob_score=True),    \n",
    "    #\"Extra trees 40\": ExtraTreesRegressor(n_estimators=40, random_state=0),\n",
    "    #\"Extra trees 50\": ExtraTreesRegressor(n_estimators=50, random_state=0),    \n",
    "    #\"Extra trees 60\": ExtraTreesRegressor(n_estimators=60, random_state=0),    \n",
    "    #\"K-nn 5\": KNeighborsRegressor(n_neighbors=5),\n",
    "    #\"K-nn 15\": KNeighborsRegressor(n_neighbors=15),\n",
    "    #\"K-nn 30\": KNeighborsRegressor(n_neighbors=30),\n",
    "    #\"K-nn 50\": KNeighborsRegressor(n_neighbors=50),\n",
    "    #\"K-nn 5d\": KNeighborsRegressor(n_neighbors=5, weights='distance'),\n",
    "    #\"K-nn 15d\": KNeighborsRegressor(n_neighbors=15, weights='distance'),\n",
    "    #\"K-nn 30d\": KNeighborsRegressor(n_neighbors=30, weights='distance'),\n",
    "    #\"K-nn 50d\": KNeighborsRegressor(n_neighbors=50, weights='distance'),\n",
    "    #\"K-nn 5u\": KNeighborsRegressor(n_neighbors=5, weights='uniform'),\n",
    "    #\"K-nn 15u\": KNeighborsRegressor(n_neighbors=15, weights='uniform'),\n",
    "    #\"K-nn 30u\": KNeighborsRegressor(n_neighbors=30, weights='uniform'),\n",
    "    #\"K-nn 50u\": KNeighborsRegressor(n_neighbors=50, weights='uniform'),  \n",
    "    #\"K-nn 5u BT\": KNeighborsRegressor(n_neighbors=5, weights='uniform', algorithm='ball_tree'), \n",
    "    #\"K-nn 15u BT\": KNeighborsRegressor(n_neighbors=15, weights='uniform', algorithm='ball_tree'), \n",
    "    #\"K-nn 30u BT\": KNeighborsRegressor(n_neighbors=30, weights='uniform', algorithm='ball_tree'),     \n",
    "    #\"K-nn 50u BT\": KNeighborsRegressor(n_neighbors=50, weights='uniform', algorithm='ball_tree'), \n",
    "    #\"Linear regression\": LinearRegression(),\n",
    "    #\"Ridge\": RidgeCV(),\n",
    "}"
   ]
  },
  {
   "cell_type": "code",
   "execution_count": 33,
   "metadata": {},
   "outputs": [],
   "source": [
    "#train_cv = train_con_palabras.drop(columns=['description', 'place_name', 'property_type']).sample(frac=1)\n",
    "#train_cv = train_con_barrios.drop(columns=['description', 'place_name', 'property_type']).sample(frac=1)\n",
    "def cross_validation_samples(samples, n_samples=14166, train_placed='TOP'):\n",
    "    samples = samples.copy(deep=True)\n",
    "    train_cv = samples.drop(columns=['description', 'place_name', 'property_type']).sample(frac=1)\n",
    "    if(train_placed == 'TOP'):\n",
    "        train_y_palabras = train_cv.tail(len(train_cv)-n_samples)['price']\n",
    "        train_x_palabras = train_cv.drop(columns=['price']).tail(len(train_cv)-n_samples)\n",
    "        validation_y_palabras = train_cv.head(n_samples)['price']\n",
    "        validation_x_palabras = train_cv.drop(columns=['price']).head(n_samples)\n",
    "    else:\n",
    "        train_y_palabras = train_cv.head(len(train_cv)-n_samples)['price']\n",
    "        train_x_palabras = train_cv.drop(columns=['price']).head(len(train_cv)-n_samples)\n",
    "        validation_y_palabras = train_cv.tail(n_samples)['price']\n",
    "        validation_x_palabras = train_cv.drop(columns=['price']).tail(n_samples)\n",
    "    \n",
    "    return train_x_palabras, train_y_palabras, validation_x_palabras, validation_y_palabras"
   ]
  },
  {
   "cell_type": "code",
   "execution_count": null,
   "metadata": {},
   "outputs": [
    {
     "name": "stdout",
     "output_type": "stream",
     "text": [
      "---------------------- SAMPLES from TOP:7083------------------------\n",
      "Random forest 39 RMSE: 9757650496.54\n"
     ]
    }
   ],
   "source": [
    "#samples = [14166, 10000, 20000]\n",
    "#samples_placed = [\"TOP\", \"BOTTOM\"]\n",
    "\n",
    "samples = [7083]\n",
    "samples_placed = [\"TOP\"]\n",
    "\n",
    "for placed in samples_placed:\n",
    "    for samples_n in samples:\n",
    "        train_x, train_y, validation_x, validation_y = cross_validation_samples(train_final, n_samples=samples_n, train_placed='TOP')\n",
    "        y_test_predict = dict()\n",
    "        print '---------------------- SAMPLES from ' + placed + ':'+ str(samples_n) + '------------------------'\n",
    "        for name, estimator in ESTIMATORS.items():\n",
    "            estimator.fit(train_x, train_y)\n",
    "            y_test_predict[name] = estimator.predict(validation_x)\n",
    "            print name + ' RMSE: ' + str(mean_squared_error(validation_y, y_test_predict[name]))"
   ]
  },
  {
   "cell_type": "code",
   "execution_count": null,
   "metadata": {},
   "outputs": [],
   "source": [
    "compare = pd.DataFrame()\n",
    "compare['pred'] = y_test_predict[\"Random forest 39\"]\n",
    "compare['real'] = validation_y.values"
   ]
  },
  {
   "cell_type": "code",
   "execution_count": null,
   "metadata": {},
   "outputs": [],
   "source": [
    "compare['diff_abs'] = abs(compare['pred'] - compare['real'])\n",
    "compare['diff'] = compare['pred'] - compare['real']"
   ]
  },
  {
   "cell_type": "code",
   "execution_count": null,
   "metadata": {},
   "outputs": [],
   "source": [
    "x = compare['diff_abs']\n",
    "plt.scatter(x, range(0,7083), c=\"g\", alpha=0.5, marker=r'$\\clubsuit$',\n",
    "            label=\"Luck\")"
   ]
  },
  {
   "cell_type": "code",
   "execution_count": null,
   "metadata": {},
   "outputs": [],
   "source": [
    "compare.sort_values(by='diff_abs', ascending=False).loc[compare.diff_abs < compare.diff_abs.quantile(0.9),:]"
   ]
  },
  {
   "cell_type": "markdown",
   "metadata": {},
   "source": [
    "## Predicción real"
   ]
  },
  {
   "cell_type": "code",
   "execution_count": 235,
   "metadata": {},
   "outputs": [],
   "source": [
    "ESTIMATORS_REAL = {\n",
    "    \"Extra trees 30\": ExtraTreesRegressor(n_estimators=30, random_state=0),\n",
    "    \"Extra trees 31\": ExtraTreesRegressor(n_estimators=31, random_state=0),\n",
    "    \"Extra trees 32\": ExtraTreesRegressor(n_estimators=32, random_state=0),\n",
    "    \"Extra trees 33\": ExtraTreesRegressor(n_estimators=33, random_state=0),\n",
    "    \"Extra trees 34\": ExtraTreesRegressor(n_estimators=34, random_state=0),\n",
    "    \"Extra trees 35\": ExtraTreesRegressor(n_estimators=35, random_state=0),\n",
    "    \"Extra trees 36\": ExtraTreesRegressor(n_estimators=36, random_state=0),\n",
    "    \"Extra trees 37\": ExtraTreesRegressor(n_estimators=37, random_state=0),\n",
    "    \"Extra trees 38\": ExtraTreesRegressor(n_estimators=38, random_state=0),\n",
    "    \"Extra trees 39\": ExtraTreesRegressor(n_estimators=39, random_state=0),\n",
    "    \"Random forest 31\" : RandomForestRegressor(max_depth=31, random_state=0),\n",
    "    \"Random forest 33\" : RandomForestRegressor(max_depth=33, random_state=0),\n",
    "    \"Random forest 35\" : RandomForestRegressor(max_depth=35, random_state=0),\n",
    "    \"Random forest 37\" : RandomForestRegressor(max_depth=37, random_state=0),\n",
    "    \"Random forest 39\" : RandomForestRegressor(max_depth=39, random_state=0),\n",
    "    \"Random forest 41\" : RandomForestRegressor(max_depth=41, random_state=0),\n",
    "    \"Random forest 43\" : RandomForestRegressor(max_depth=43, random_state=0),\n",
    "    \"Random forest 45\" : RandomForestRegressor(max_depth=45, random_state=0),\n",
    "    \"Random forest 47\" : RandomForestRegressor(max_depth=47, random_state=0),\n",
    "    \"Random forest 49\" : RandomForestRegressor(max_depth=49, random_state=0)\n",
    "}"
   ]
  },
  {
   "cell_type": "code",
   "execution_count": 236,
   "metadata": {},
   "outputs": [],
   "source": [
    "#train_x_palabras\n",
    "#train_y_palabras\n",
    "for place in places_array:\n",
    "    es_de_barrio(test_con_palabras, place)\n",
    "    es_de_barrio(train_con_palabras, place)"
   ]
  },
  {
   "cell_type": "code",
   "execution_count": 237,
   "metadata": {},
   "outputs": [],
   "source": [
    "for tipo in types_array:\n",
    "    es_de_tipo(test_con_palabras, tipo)\n",
    "    es_de_tipo(train_con_palabras, tipo)    "
   ]
  },
  {
   "cell_type": "code",
   "execution_count": 238,
   "metadata": {},
   "outputs": [],
   "source": [
    "test_con_palabras.drop(columns=['description', 'place_name', 'property_type'], inplace=True)"
   ]
  },
  {
   "cell_type": "code",
   "execution_count": 239,
   "metadata": {},
   "outputs": [],
   "source": [
    "train_con_palabras.drop(columns=['description', 'place_name', 'property_type'], inplace=True)"
   ]
  },
  {
   "cell_type": "code",
   "execution_count": 240,
   "metadata": {},
   "outputs": [],
   "source": [
    "ids = test_con_palabras['id']\n",
    "test_con_palabras.drop(columns=['id'], inplace=True)"
   ]
  },
  {
   "cell_type": "code",
   "execution_count": 241,
   "metadata": {},
   "outputs": [],
   "source": [
    "train_y = train_con_palabras['price']\n",
    "train_x = train_con_palabras.drop(columns=['price'])\n",
    "\n",
    "test_x = test_con_palabras"
   ]
  },
  {
   "cell_type": "code",
   "execution_count": 242,
   "metadata": {},
   "outputs": [],
   "source": [
    "imp = Imputer(missing_values='NaN', strategy='mean', axis=0)\n",
    "imp.fit(train_x)\n",
    "Imputer(axis=1, copy=True, missing_values='NaN', strategy='median', verbose=0)\n",
    "test_x = imp.transform(test_x)"
   ]
  },
  {
   "cell_type": "code",
   "execution_count": 243,
   "metadata": {},
   "outputs": [],
   "source": [
    "estimator = RandomForestRegressor(max_depth=39, random_state=0)"
   ]
  },
  {
   "cell_type": "code",
   "execution_count": 244,
   "metadata": {},
   "outputs": [],
   "source": [
    "estimator.fit(train_x, train_y)\n",
    "predictions = estimator.predict(test_x)"
   ]
  },
  {
   "cell_type": "code",
   "execution_count": 245,
   "metadata": {},
   "outputs": [],
   "source": [
    "submit = pd.DataFrame()\n",
    "submit['price_usd'] = predictions\n",
    "submit.index = ids"
   ]
  },
  {
   "cell_type": "code",
   "execution_count": 246,
   "metadata": {},
   "outputs": [],
   "source": [
    "benchmark = pd.read_csv('submission-vara.csv')"
   ]
  },
  {
   "cell_type": "code",
   "execution_count": 247,
   "metadata": {},
   "outputs": [
    {
     "data": {
      "text/plain": [
       "45661929755.180527"
      ]
     },
     "execution_count": 247,
     "metadata": {},
     "output_type": "execute_result"
    }
   ],
   "source": [
    "mean_squared_error(benchmark['price_usd'].values, predictions)"
   ]
  },
  {
   "cell_type": "code",
   "execution_count": 248,
   "metadata": {},
   "outputs": [],
   "source": [
    "submit.to_csv('submission.csv')"
   ]
  },
  {
   "cell_type": "code",
   "execution_count": null,
   "metadata": {},
   "outputs": [],
   "source": []
  }
 ],
 "metadata": {
  "kernelspec": {
   "display_name": "Python 2",
   "language": "python",
   "name": "python2"
  },
  "language_info": {
   "codemirror_mode": {
    "name": "ipython",
    "version": 2
   },
   "file_extension": ".py",
   "mimetype": "text/x-python",
   "name": "python",
   "nbconvert_exporter": "python",
   "pygments_lexer": "ipython2",
   "version": "2.7.10"
  }
 },
 "nbformat": 4,
 "nbformat_minor": 2
}
