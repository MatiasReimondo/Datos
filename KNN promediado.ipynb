{
 "cells": [
  {
   "cell_type": "code",
   "execution_count": 1,
   "metadata": {
    "collapsed": true
   },
   "outputs": [],
   "source": [
    "import numpy as np\n",
    "import pandas as pd\n",
    "import matplotlib.pyplot as plt\n",
    "from sklearn.metrics import mean_squared_error\n",
    "from sklearn import neighbors\n",
    "from sklearn import preprocessing\n",
    "from sklearn.preprocessing import LabelEncoder \n",
    "from sklearn.metrics import mean_squared_error\n",
    "from sklearn.metrics import median_absolute_error\n",
    "from sklearn.preprocessing import Imputer"
   ]
  },
  {
   "cell_type": "code",
   "execution_count": 2,
   "metadata": {
    "collapsed": true
   },
   "outputs": [],
   "source": [
    "properties = pd.read_csv('properati-AR-2017-08-01-properties-sell.csv')\n",
    "properties.dropna(subset=['price','property_type', 'state_name', 'place_name'], inplace=True)"
   ]
  },
  {
   "cell_type": "code",
   "execution_count": 3,
   "metadata": {
    "collapsed": true
   },
   "outputs": [],
   "source": [
    "train = properties.loc[:, ['property_type', 'state_name', 'place_name', 'rooms', 'expenses', 'floor', 'price']]"
   ]
  },
  {
   "cell_type": "code",
   "execution_count": 4,
   "metadata": {
    "collapsed": true
   },
   "outputs": [],
   "source": [
    "test = train[478:]\n",
    "train = train[0:478]\n",
    "#test = pd.read_csv('data/test/properati_dataset_testing_noprice.csv')\n",
    "test['expenses'] = test['expenses'].apply(pd.to_numeric, errors='coerce')"
   ]
  },
  {
   "cell_type": "code",
   "execution_count": 5,
   "metadata": {
    "collapsed": true
   },
   "outputs": [],
   "source": [
    "lb_make = LabelEncoder()\n",
    "train['property_type_encoded'] = lb_make.fit_transform(train['property_type'])\n",
    "\n",
    "lb_make = LabelEncoder()\n",
    "train['place_name_encoded'] = lb_make.fit_transform(train['place_name'])\n",
    "\n",
    "lb_make = LabelEncoder()\n",
    "train['state_name_encoded'] = lb_make.fit_transform(train['state_name'])"
   ]
  },
  {
   "cell_type": "code",
   "execution_count": 6,
   "metadata": {
    "collapsed": true
   },
   "outputs": [],
   "source": [
    "lb_make = LabelEncoder()\n",
    "test['property_type_encoded'] = lb_make.fit_transform(test['property_type'])\n",
    "\n",
    "lb_make = LabelEncoder()\n",
    "test['place_name_encoded'] = lb_make.fit_transform(test['place_name'])\n",
    "\n",
    "lb_make = LabelEncoder()\n",
    "test['state_name_encoded'] = lb_make.fit_transform(test['state_name'])"
   ]
  },
  {
   "cell_type": "code",
   "execution_count": 7,
   "metadata": {
    "collapsed": true
   },
   "outputs": [],
   "source": [
    "train_no_prices = train.loc[:, ['property_type_encoded', 'state_name_encoded', 'place_name_encoded', 'rooms', 'expenses', 'floor', 'lat', 'lon']]"
   ]
  },
  {
   "cell_type": "code",
   "execution_count": 8,
   "metadata": {
    "collapsed": true
   },
   "outputs": [],
   "source": [
    "test_to_predict = test.loc[:, ['property_type_encoded', 'state_name_encoded', 'place_name_encoded', 'rooms', 'expenses', 'floor']]"
   ]
  },
  {
   "cell_type": "code",
   "execution_count": 9,
   "metadata": {
    "collapsed": true
   },
   "outputs": [],
   "source": [
    "imp = Imputer(missing_values='NaN', strategy='mean', axis=0)\n",
    "imp.fit(train_no_prices)\n",
    "Imputer(axis=0, copy=True, missing_values='NaN', strategy='mean', verbose=0)\n",
    "\n",
    "train_no_prices = imp.transform(train_no_prices)"
   ]
  },
  {
   "cell_type": "code",
   "execution_count": 10,
   "metadata": {
    "collapsed": true
   },
   "outputs": [],
   "source": [
    "imp = Imputer(missing_values='NaN', strategy='mean', axis=0)\n",
    "imp.fit(test_to_predict)\n",
    "Imputer(axis=0, copy=True, missing_values='NaN', strategy='mean', verbose=0)\n",
    "\n",
    "test_to_predict = imp.transform(test_to_predict)"
   ]
  },
  {
   "cell_type": "code",
   "execution_count": 11,
   "metadata": {
    "collapsed": true
   },
   "outputs": [],
   "source": [
    "knn = neighbors.KNeighborsRegressor(15, weights=\"uniform\", algorithm=\"ball_tree\")"
   ]
  },
  {
   "cell_type": "code",
   "execution_count": 12,
   "metadata": {
    "collapsed": true
   },
   "outputs": [],
   "source": [
    "train_prices = train.loc[:, 'price']"
   ]
  },
  {
   "cell_type": "code",
   "execution_count": 13,
   "metadata": {
    "collapsed": true
   },
   "outputs": [],
   "source": [
    "predictions = knn.fit(train_no_prices, train_prices).predict(test_to_predict)\n",
    "predictions = predictions.flatten()"
   ]
  },
  {
   "cell_type": "code",
   "execution_count": 14,
   "metadata": {},
   "outputs": [
    {
     "data": {
      "text/plain": [
       "3782781522316.917"
      ]
     },
     "execution_count": 14,
     "metadata": {},
     "output_type": "execute_result"
    }
   ],
   "source": [
    "#result = pd.DataFrame()\n",
    "#result['price_usd'] = predictions\n",
    "#result.index = test['id']\n",
    "#result.to_csv('submission.csv')\n",
    "real = properties[478:]\n",
    "score = mean_squared_error(real['price'].values, predictions)\n",
    "score"
   ]
  },
  {
   "cell_type": "code",
   "execution_count": 15,
   "metadata": {},
   "outputs": [
    {
     "data": {
      "text/plain": [
       "72835.0"
      ]
     },
     "execution_count": 15,
     "metadata": {},
     "output_type": "execute_result"
    }
   ],
   "source": [
    "median_absolute_error(real['price'].values, predictions)"
   ]
  },
  {
   "cell_type": "markdown",
   "metadata": {},
   "source": [
    "# separacion\n"
   ]
  },
  {
   "cell_type": "code",
   "execution_count": 16,
   "metadata": {
    "collapsed": true
   },
   "outputs": [],
   "source": [
    "def knnparametro(k,algo):\n",
    "    knn = neighbors.KNeighborsRegressor(k, weights=\"uniform\", algorithm=algo)\n",
    "    train_prices = train.loc[:, 'price']\n",
    "    predictions = knn.fit(train_no_prices, train_prices).predict(test_to_predict)\n",
    "    predictions = predictions.flatten()\n",
    "    return predictions\n",
    "\n",
    "predictions1 = knnparametro(25, \"ball_tree\")\n",
    "predictions2 = knnparametro(15, \"kd_tree\")\n",
    "predictions3 = knnparametro(10, \"ball_tree\")\n",
    "predictions4 = knnparametro(12, \"kd_tree\")\n",
    "predictions5 = knnparametro(20, \"brute\")\n",
    "predictions6 = knnparametro(40, \"ball_tree\")\n",
    "predictions = predictions1 + predictions2 + predictions3 + predictions4 + predictions5 + predictions6\n",
    "predictions = predictions/6"
   ]
  },
  {
   "cell_type": "code",
   "execution_count": 17,
   "metadata": {},
   "outputs": [
    {
     "name": "stdout",
     "output_type": "stream",
     "text": [
      "[ 132963.04861111  132963.04861111  122440.82638889 ...,  122919.71527778\n",
      "  122740.82638889  124526.9375    ]\n"
     ]
    }
   ],
   "source": [
    "print(predictions)"
   ]
  },
  {
   "cell_type": "code",
   "execution_count": 18,
   "metadata": {},
   "outputs": [
    {
     "data": {
      "text/plain": [
       "3779754075356.7461"
      ]
     },
     "execution_count": 18,
     "metadata": {},
     "output_type": "execute_result"
    }
   ],
   "source": [
    "#result = pd.DataFrame()\n",
    "#result['price_usd'] = predictions\n",
    "#result.index = test['id']\n",
    "#result.to_csv('submission.csv')\n",
    "real = properties[478:]\n",
    "score = mean_squared_error(real['price'].values, predictions)\n",
    "score"
   ]
  },
  {
   "cell_type": "code",
   "execution_count": 19,
   "metadata": {},
   "outputs": [
    {
     "data": {
      "text/plain": [
       "71721.381944444453"
      ]
     },
     "execution_count": 19,
     "metadata": {},
     "output_type": "execute_result"
    }
   ],
   "source": [
    "median_absolute_error(real['price'].values, predictions)"
   ]
  },
  {
   "cell_type": "code",
   "execution_count": 20,
   "metadata": {},
   "outputs": [
    {
     "data": {
      "text/plain": [
       "3781783104946.916"
      ]
     },
     "execution_count": 20,
     "metadata": {},
     "output_type": "execute_result"
    }
   ],
   "source": [
    "predictions = predictions1 = knnparametro(20, \"brute\")\n",
    "#result = pd.DataFrame()\n",
    "#result['price_usd'] = predictions\n",
    "#result.index = test['id']\n",
    "#result.to_csv('submission.csv')\n",
    "real = properties[478:]\n",
    "score = mean_squared_error(real['price'].values, predictions)\n",
    "score"
   ]
  },
  {
   "cell_type": "code",
   "execution_count": 21,
   "metadata": {},
   "outputs": [
    {
     "data": {
      "text/plain": [
       "71192.0"
      ]
     },
     "execution_count": 21,
     "metadata": {},
     "output_type": "execute_result"
    }
   ],
   "source": [
    "median_absolute_error(real['price'].values, predictions)"
   ]
  }
 ],
 "metadata": {
  "kernelspec": {
   "display_name": "Python 3",
   "language": "python",
   "name": "python3"
  },
  "language_info": {
   "codemirror_mode": {
    "name": "ipython",
    "version": 3
   },
   "file_extension": ".py",
   "mimetype": "text/x-python",
   "name": "python",
   "nbconvert_exporter": "python",
   "pygments_lexer": "ipython3",
   "version": "3.6.1"
  }
 },
 "nbformat": 4,
 "nbformat_minor": 2
}
