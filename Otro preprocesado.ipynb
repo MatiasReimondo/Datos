{
 "cells": [
  {
   "cell_type": "markdown",
   "metadata": {},
   "source": [
    "# Otro preprocesado"
   ]
  },
  {
   "cell_type": "code",
   "execution_count": 74,
   "metadata": {
    "collapsed": true
   },
   "outputs": [],
   "source": [
    "import pandas as pd\n",
    "import numpy as np\n",
    "from datetime import datetime\n",
    "import matplotlib.pyplot as plt\n",
    "from datetime import timedelta, date\n",
    "import matplotlib.dates as mdates\n",
    "import math\n",
    "import warnings\n",
    "from sklearn.preprocessing import LabelEncoder \n",
    "from sklearn.metrics import mean_squared_error\n",
    "from sklearn.metrics import median_absolute_error\n",
    "from sklearn.metrics import accuracy_score\n",
    "from sklearn import neighbors\n",
    "from sklearn import datasets, linear_model\n",
    "from sklearn.metrics import mean_squared_error, r2_score\n",
    "\n",
    "\n",
    "warnings.filterwarnings('ignore')\n",
    "\n",
    "#Imports necesarios"
   ]
  },
  {
   "cell_type": "code",
   "execution_count": 75,
   "metadata": {
    "scrolled": false
   },
   "outputs": [
    {
     "name": "stdout",
     "output_type": "stream",
     "text": [
      "<class 'pandas.core.frame.DataFrame'>\n",
      "RangeIndex: 196719 entries, 0 to 196718\n",
      "Data columns (total 27 columns):\n",
      "id                            196719 non-null object\n",
      "created_on                    196719 non-null object\n",
      "operation                     196719 non-null object\n",
      "property_type                 196719 non-null object\n",
      "place_name                    196670 non-null object\n",
      "place_with_parent_names       196719 non-null object\n",
      "country_name                  196719 non-null object\n",
      "state_name                    196719 non-null object\n",
      "geonames_id                   164653 non-null float64\n",
      "lat-lon                       130239 non-null object\n",
      "lat                           130239 non-null float64\n",
      "lon                           130239 non-null float64\n",
      "price                         165687 non-null float64\n",
      "currency                      165687 non-null object\n",
      "price_aprox_local_currency    165687 non-null float64\n",
      "price_aprox_usd               165687 non-null float64\n",
      "surface_total_in_m2           146678 non-null float64\n",
      "surface_covered_in_m2         165053 non-null float64\n",
      "price_usd_per_m2              125729 non-null float64\n",
      "price_per_m2                  142858 non-null float64\n",
      "floor                         13290 non-null float64\n",
      "rooms                         128122 non-null float64\n",
      "expenses                      16942 non-null float64\n",
      "properati_url                 196719 non-null object\n",
      "description                   196714 non-null object\n",
      "title                         196719 non-null object\n",
      "image_thumbnail               192706 non-null object\n",
      "dtypes: float64(13), object(14)\n",
      "memory usage: 40.5+ MB\n"
     ]
    }
   ],
   "source": [
    "#Ahora realizamos el mismo tratamiento para el set de properati dle 2017\n",
    "df = pd.read_csv('/home/matias/Escritorio/ML/data.csv')\n",
    "df.info()"
   ]
  },
  {
   "cell_type": "code",
   "execution_count": 76,
   "metadata": {},
   "outputs": [
    {
     "name": "stdout",
     "output_type": "stream",
     "text": [
      "<class 'pandas.core.frame.DataFrame'>\n",
      "Int64Index: 142808 entries, 28 to 196718\n",
      "Data columns (total 27 columns):\n",
      "id                            142808 non-null object\n",
      "created_on                    142808 non-null object\n",
      "operation                     142808 non-null object\n",
      "property_type                 142808 non-null object\n",
      "place_name                    142808 non-null object\n",
      "place_with_parent_names       142808 non-null object\n",
      "country_name                  142808 non-null object\n",
      "state_name                    142808 non-null object\n",
      "geonames_id                   116257 non-null float64\n",
      "lat-lon                       95070 non-null object\n",
      "lat                           95070 non-null float64\n",
      "lon                           95070 non-null float64\n",
      "price                         142808 non-null float64\n",
      "currency                      142808 non-null object\n",
      "price_aprox_local_currency    142808 non-null float64\n",
      "price_aprox_usd               142808 non-null float64\n",
      "surface_total_in_m2           117186 non-null float64\n",
      "surface_covered_in_m2         142808 non-null float64\n",
      "price_usd_per_m2              117186 non-null float64\n",
      "price_per_m2                  142807 non-null float64\n",
      "floor                         10626 non-null float64\n",
      "rooms                         97490 non-null float64\n",
      "expenses                      14212 non-null float64\n",
      "properati_url                 142808 non-null object\n",
      "description                   142808 non-null object\n",
      "title                         142808 non-null object\n",
      "image_thumbnail               140430 non-null object\n",
      "dtypes: float64(13), object(14)\n",
      "memory usage: 30.5+ MB\n"
     ]
    }
   ],
   "source": [
    "df = df.dropna(subset=['place_name'], how='all')\n",
    "df = df.dropna(subset=['price_aprox_usd'], how='all')\n",
    "df = df.dropna(subset=['description'], how='all')\n",
    "df = df.dropna(subset=['surface_covered_in_m2'], how='all')\n",
    "df.info()"
   ]
  },
  {
   "cell_type": "code",
   "execution_count": 77,
   "metadata": {},
   "outputs": [
    {
     "name": "stdout",
     "output_type": "stream",
     "text": [
      "<class 'pandas.core.frame.DataFrame'>\n",
      "Int64Index: 142808 entries, 28 to 196718\n",
      "Data columns (total 5 columns):\n",
      "id                       142808 non-null object\n",
      "surface_covered_in_m2    142808 non-null float64\n",
      "description              142808 non-null object\n",
      "place_name               142808 non-null object\n",
      "price_aprox_usd          142808 non-null float64\n",
      "dtypes: float64(2), object(3)\n",
      "memory usage: 6.5+ MB\n"
     ]
    }
   ],
   "source": [
    "df2 = df[['id','surface_covered_in_m2','description', 'place_name','price_aprox_usd']]\n",
    "df2.info()"
   ]
  },
  {
   "cell_type": "code",
   "execution_count": 78,
   "metadata": {
    "collapsed": true
   },
   "outputs": [],
   "source": [
    "def tiene_palabra(df,word,word2):\n",
    "    t = df\n",
    "    pool = []\n",
    "    vectorDes = t['description'].values\n",
    "    for description in vectorDes:\n",
    "        description = str(description)\n",
    "        description = description.lower()\n",
    "        if word in description or word2 in description:\n",
    "            pool.append(1)\n",
    "        else:\n",
    "            pool.append(0)\n",
    "    df[str(word)] = pool\n",
    "    \n",
    "\n"
   ]
  },
  {
   "cell_type": "code",
   "execution_count": 79,
   "metadata": {
    "collapsed": true
   },
   "outputs": [],
   "source": [
    "t = df2"
   ]
  },
  {
   "cell_type": "code",
   "execution_count": 80,
   "metadata": {
    "collapsed": true
   },
   "outputs": [],
   "source": [
    "tiene_palabra(t,'pileta','piscina')\n",
    "tiene_palabra(t,'garage','cochera')\n",
    "tiene_palabra(t,'gimnasio','gym')\n",
    "tiene_palabra(t,'cancha','cancha')\n",
    "tiene_palabra(t,' frente',' frente')\n",
    "tiene_palabra(t,'contrafrente','contrafrente')\n",
    "tiene_palabra(t,'lavadero','lava')\n",
    "tiene_palabra(t,'nuevo','estrenar')\n",
    "tiene_palabra(t,'cuadras','cuadra')\n",
    "tiene_palabra(t,'playroom','sum')\n",
    "tiene_palabra(t,'excelente','hermosa')\n",
    "\n",
    "\n",
    "tiene_palabra(t,'centro','centrica')\n",
    "tiene_palabra(t,'patio','quincho')\n",
    "tiene_palabra(t,'madero','madero')\n",
    "tiene_palabra(t,'luminoso','iluminacion')\n",
    "tiene_palabra(t,'grande','espacio')\n",
    "tiene_palabra(t,'autopista','autopista')\n",
    "tiene_palabra(t,'tren','estacion')\n",
    "tiene_palabra(t,'cocina','comedor')\n",
    "tiene_palabra(t,'seguridad','camaras')\n",
    "tiene_palabra(t,'shopping','cine')\n",
    "\n",
    "tiene_palabra(t,'limpieza','cubiertos')\n",
    "tiene_palabra(t,'monoambiente','mono')\n",
    "tiene_palabra(t,'baja','primer')\n",
    "tiene_palabra(t,'parque','verde')\n",
    "tiene_palabra(t,'jardin','jardin')\n",
    "tiene_palabra(t,'living','comedor')\n",
    "tiene_palabra(t,'terraza','balcon')\n",
    "tiene_palabra(t,'parrila','parrila')\n",
    "tiene_palabra(t,'barrio cerrado','country')"
   ]
  },
  {
   "cell_type": "code",
   "execution_count": 82,
   "metadata": {},
   "outputs": [
    {
     "data": {
      "text/html": [
       "<div>\n",
       "<style>\n",
       "    .dataframe thead tr:only-child th {\n",
       "        text-align: right;\n",
       "    }\n",
       "\n",
       "    .dataframe thead th {\n",
       "        text-align: left;\n",
       "    }\n",
       "\n",
       "    .dataframe tbody tr th {\n",
       "        vertical-align: top;\n",
       "    }\n",
       "</style>\n",
       "<table border=\"1\" class=\"dataframe\">\n",
       "  <thead>\n",
       "    <tr style=\"text-align: right;\">\n",
       "      <th></th>\n",
       "      <th>id</th>\n",
       "      <th>surface_covered_in_m2</th>\n",
       "      <th>description</th>\n",
       "      <th>place_name</th>\n",
       "      <th>price_aprox_usd</th>\n",
       "      <th>pileta</th>\n",
       "      <th>garage</th>\n",
       "      <th>gimnasio</th>\n",
       "      <th>cancha</th>\n",
       "      <th>frente</th>\n",
       "      <th>...</th>\n",
       "      <th>shopping</th>\n",
       "      <th>limpieza</th>\n",
       "      <th>monoambiente</th>\n",
       "      <th>baja</th>\n",
       "      <th>parque</th>\n",
       "      <th>jardin</th>\n",
       "      <th>living</th>\n",
       "      <th>terraza</th>\n",
       "      <th>parrila</th>\n",
       "      <th>barrio cerrado</th>\n",
       "    </tr>\n",
       "  </thead>\n",
       "  <tbody>\n",
       "    <tr>\n",
       "      <th>28</th>\n",
       "      <td>c8a66ee9e3da083ab66dacd165e8a5cc718b1cf2</td>\n",
       "      <td>93.0</td>\n",
       "      <td>CASA CON LOCAL EN VENTA EN PADUA.2 DORMITORIOS...</td>\n",
       "      <td>San Antonio De Padua</td>\n",
       "      <td>120000.0</td>\n",
       "      <td>0</td>\n",
       "      <td>0</td>\n",
       "      <td>0</td>\n",
       "      <td>0</td>\n",
       "      <td>0</td>\n",
       "      <td>...</td>\n",
       "      <td>0</td>\n",
       "      <td>0</td>\n",
       "      <td>0</td>\n",
       "      <td>0</td>\n",
       "      <td>0</td>\n",
       "      <td>0</td>\n",
       "      <td>1</td>\n",
       "      <td>0</td>\n",
       "      <td>0</td>\n",
       "      <td>0</td>\n",
       "    </tr>\n",
       "    <tr>\n",
       "      <th>30</th>\n",
       "      <td>9446052c949050359fb08b9f1ba83ba2eaa20c99</td>\n",
       "      <td>103.0</td>\n",
       "      <td>Casa Multifamiliar en Mataderos!!! Sobre lote ...</td>\n",
       "      <td>Mataderos</td>\n",
       "      <td>185000.0</td>\n",
       "      <td>0</td>\n",
       "      <td>0</td>\n",
       "      <td>0</td>\n",
       "      <td>0</td>\n",
       "      <td>1</td>\n",
       "      <td>...</td>\n",
       "      <td>0</td>\n",
       "      <td>0</td>\n",
       "      <td>0</td>\n",
       "      <td>1</td>\n",
       "      <td>0</td>\n",
       "      <td>0</td>\n",
       "      <td>1</td>\n",
       "      <td>1</td>\n",
       "      <td>0</td>\n",
       "      <td>0</td>\n",
       "    </tr>\n",
       "    <tr>\n",
       "      <th>31</th>\n",
       "      <td>4d3b492ed5f9c74cdf33b56b98328e5c950e3f9c</td>\n",
       "      <td>54.0</td>\n",
       "      <td>Venta - Departamento - Argentina, Buenos Aires...</td>\n",
       "      <td>Pilar</td>\n",
       "      <td>97000.0</td>\n",
       "      <td>1</td>\n",
       "      <td>1</td>\n",
       "      <td>0</td>\n",
       "      <td>0</td>\n",
       "      <td>0</td>\n",
       "      <td>...</td>\n",
       "      <td>0</td>\n",
       "      <td>0</td>\n",
       "      <td>0</td>\n",
       "      <td>1</td>\n",
       "      <td>1</td>\n",
       "      <td>1</td>\n",
       "      <td>1</td>\n",
       "      <td>1</td>\n",
       "      <td>0</td>\n",
       "      <td>0</td>\n",
       "    </tr>\n",
       "    <tr>\n",
       "      <th>34</th>\n",
       "      <td>27d87ac71e7c00afa9fa7428b943ec263ff68bb4</td>\n",
       "      <td>260.0</td>\n",
       "      <td>Venta - Casa - Argentina, Patagonia, San Marti...</td>\n",
       "      <td>San Martín de los Andes</td>\n",
       "      <td>480000.0</td>\n",
       "      <td>0</td>\n",
       "      <td>1</td>\n",
       "      <td>0</td>\n",
       "      <td>0</td>\n",
       "      <td>0</td>\n",
       "      <td>...</td>\n",
       "      <td>0</td>\n",
       "      <td>1</td>\n",
       "      <td>0</td>\n",
       "      <td>0</td>\n",
       "      <td>0</td>\n",
       "      <td>0</td>\n",
       "      <td>1</td>\n",
       "      <td>0</td>\n",
       "      <td>0</td>\n",
       "      <td>0</td>\n",
       "    </tr>\n",
       "    <tr>\n",
       "      <th>35</th>\n",
       "      <td>df77a06585671e637d2d86f8d22b70d61cfecb18</td>\n",
       "      <td>80.0</td>\n",
       "      <td>Venta - Casa - Argentina, Patagonia, San Marti...</td>\n",
       "      <td>San Martín de los Andes</td>\n",
       "      <td>150000.0</td>\n",
       "      <td>0</td>\n",
       "      <td>0</td>\n",
       "      <td>0</td>\n",
       "      <td>0</td>\n",
       "      <td>0</td>\n",
       "      <td>...</td>\n",
       "      <td>0</td>\n",
       "      <td>0</td>\n",
       "      <td>0</td>\n",
       "      <td>0</td>\n",
       "      <td>0</td>\n",
       "      <td>0</td>\n",
       "      <td>1</td>\n",
       "      <td>0</td>\n",
       "      <td>0</td>\n",
       "      <td>0</td>\n",
       "    </tr>\n",
       "  </tbody>\n",
       "</table>\n",
       "<p>5 rows × 35 columns</p>\n",
       "</div>"
      ],
      "text/plain": [
       "                                          id  surface_covered_in_m2  \\\n",
       "28  c8a66ee9e3da083ab66dacd165e8a5cc718b1cf2                   93.0   \n",
       "30  9446052c949050359fb08b9f1ba83ba2eaa20c99                  103.0   \n",
       "31  4d3b492ed5f9c74cdf33b56b98328e5c950e3f9c                   54.0   \n",
       "34  27d87ac71e7c00afa9fa7428b943ec263ff68bb4                  260.0   \n",
       "35  df77a06585671e637d2d86f8d22b70d61cfecb18                   80.0   \n",
       "\n",
       "                                          description  \\\n",
       "28  CASA CON LOCAL EN VENTA EN PADUA.2 DORMITORIOS...   \n",
       "30  Casa Multifamiliar en Mataderos!!! Sobre lote ...   \n",
       "31  Venta - Departamento - Argentina, Buenos Aires...   \n",
       "34  Venta - Casa - Argentina, Patagonia, San Marti...   \n",
       "35  Venta - Casa - Argentina, Patagonia, San Marti...   \n",
       "\n",
       "                 place_name  price_aprox_usd  pileta  garage  gimnasio  \\\n",
       "28     San Antonio De Padua         120000.0       0       0         0   \n",
       "30                Mataderos         185000.0       0       0         0   \n",
       "31                    Pilar          97000.0       1       1         0   \n",
       "34  San Martín de los Andes         480000.0       0       1         0   \n",
       "35  San Martín de los Andes         150000.0       0       0         0   \n",
       "\n",
       "    cancha   frente       ...        shopping  limpieza  monoambiente  baja  \\\n",
       "28       0        0       ...               0         0             0     0   \n",
       "30       0        1       ...               0         0             0     1   \n",
       "31       0        0       ...               0         0             0     1   \n",
       "34       0        0       ...               0         1             0     0   \n",
       "35       0        0       ...               0         0             0     0   \n",
       "\n",
       "    parque  jardin  living  terraza  parrila  barrio cerrado  \n",
       "28       0       0       1        0        0               0  \n",
       "30       0       0       1        1        0               0  \n",
       "31       1       1       1        1        0               0  \n",
       "34       0       0       1        0        0               0  \n",
       "35       0       0       1        0        0               0  \n",
       "\n",
       "[5 rows x 35 columns]"
      ]
     },
     "execution_count": 82,
     "metadata": {},
     "output_type": "execute_result"
    }
   ],
   "source": [
    "t.head()"
   ]
  },
  {
   "cell_type": "code",
   "execution_count": 83,
   "metadata": {
    "collapsed": true
   },
   "outputs": [],
   "source": [
    "t.to_csv('dataMartin.csv')"
   ]
  },
  {
   "cell_type": "code",
   "execution_count": 40,
   "metadata": {},
   "outputs": [
    {
     "name": "stdout",
     "output_type": "stream",
     "text": [
      "<class 'pandas.core.frame.DataFrame'>\n",
      "Int64Index: 132856 entries, 16570 to 196718\n",
      "Data columns (total 34 columns):\n",
      "id                       132856 non-null object\n",
      "surface_covered_in_m2    132856 non-null float64\n",
      "description              132856 non-null object\n",
      "price_aprox_usd          132856 non-null float64\n",
      "pileta                   132856 non-null int64\n",
      "garage                   132856 non-null int64\n",
      "gimnasio                 132856 non-null int64\n",
      "cancha                   132856 non-null int64\n",
      " frente                  132856 non-null int64\n",
      "contrafrente             132856 non-null int64\n",
      "lavadero                 132856 non-null int64\n",
      "nuevo                    132856 non-null int64\n",
      "cuadras                  132856 non-null int64\n",
      "playroom                 132856 non-null int64\n",
      "excelente                132856 non-null int64\n",
      "centro                   132856 non-null int64\n",
      "patio                    132856 non-null int64\n",
      "madero                   132856 non-null int64\n",
      "luminoso                 132856 non-null int64\n",
      "grande                   132856 non-null int64\n",
      "autopista                132856 non-null int64\n",
      "tren                     132856 non-null int64\n",
      "cocina                   132856 non-null int64\n",
      "seguridad                132856 non-null int64\n",
      "shopping                 132856 non-null int64\n",
      "limpieza                 132856 non-null int64\n",
      "monoambiente             132856 non-null int64\n",
      "baja                     132856 non-null int64\n",
      "parque                   132856 non-null int64\n",
      "jardin                   132856 non-null int64\n",
      "living                   132856 non-null int64\n",
      "terraza                  132856 non-null int64\n",
      "parrila                  132856 non-null int64\n",
      "barrio cerrado           132856 non-null int64\n",
      "dtypes: float64(2), int64(30), object(2)\n",
      "memory usage: 35.5+ MB\n"
     ]
    }
   ],
   "source": [
    "tes = t[0:10000]\n",
    "tra = t[10000:] \n",
    "tra.info()"
   ]
  },
  {
   "cell_type": "code",
   "execution_count": 41,
   "metadata": {},
   "outputs": [
    {
     "name": "stdout",
     "output_type": "stream",
     "text": [
      "<class 'pandas.core.frame.DataFrame'>\n",
      "Int64Index: 132856 entries, 16570 to 196718\n",
      "Data columns (total 31 columns):\n",
      "surface_covered_in_m2    132856 non-null float64\n",
      "pileta                   132856 non-null int64\n",
      "garage                   132856 non-null int64\n",
      "gimnasio                 132856 non-null int64\n",
      "cancha                   132856 non-null int64\n",
      " frente                  132856 non-null int64\n",
      "contrafrente             132856 non-null int64\n",
      "lavadero                 132856 non-null int64\n",
      "nuevo                    132856 non-null int64\n",
      "cuadras                  132856 non-null int64\n",
      "playroom                 132856 non-null int64\n",
      "excelente                132856 non-null int64\n",
      "centro                   132856 non-null int64\n",
      "patio                    132856 non-null int64\n",
      "madero                   132856 non-null int64\n",
      "luminoso                 132856 non-null int64\n",
      "grande                   132856 non-null int64\n",
      "autopista                132856 non-null int64\n",
      "tren                     132856 non-null int64\n",
      "cocina                   132856 non-null int64\n",
      "seguridad                132856 non-null int64\n",
      "shopping                 132856 non-null int64\n",
      "limpieza                 132856 non-null int64\n",
      "monoambiente             132856 non-null int64\n",
      "baja                     132856 non-null int64\n",
      "parque                   132856 non-null int64\n",
      "jardin                   132856 non-null int64\n",
      "living                   132856 non-null int64\n",
      "terraza                  132856 non-null int64\n",
      "parrila                  132856 non-null int64\n",
      "barrio cerrado           132856 non-null int64\n",
      "dtypes: float64(1), int64(30)\n",
      "memory usage: 32.4 MB\n"
     ]
    }
   ],
   "source": [
    "trainLX = tra.drop('id', 1)\n",
    "trainLX = trainLX.drop('description', 1)\n",
    "trainLX = trainLX.drop('price_aprox_usd', 1)\n",
    "trainLY = tra[['price_aprox_usd']]\n",
    "trainLX.info()"
   ]
  },
  {
   "cell_type": "code",
   "execution_count": 42,
   "metadata": {},
   "outputs": [
    {
     "name": "stdout",
     "output_type": "stream",
     "text": [
      "<class 'pandas.core.frame.DataFrame'>\n",
      "Int64Index: 132856 entries, 16570 to 196718\n",
      "Data columns (total 1 columns):\n",
      "price_aprox_usd    132856 non-null float64\n",
      "dtypes: float64(1)\n",
      "memory usage: 2.0 MB\n"
     ]
    }
   ],
   "source": [
    "trainLY.info()"
   ]
  },
  {
   "cell_type": "code",
   "execution_count": 43,
   "metadata": {
    "collapsed": true
   },
   "outputs": [],
   "source": [
    "cross2 = tes.drop('id', 1)\n",
    "cross2=  cross2.drop('description', 1)\n",
    "cross2= cross2.drop('price_aprox_usd', 1)\n",
    "crossValidation = pd.DataFrame()\n",
    "crossValidation['price'] = tes['price_aprox_usd']"
   ]
  },
  {
   "cell_type": "code",
   "execution_count": 44,
   "metadata": {
    "collapsed": true
   },
   "outputs": [],
   "source": [
    "k_trials = [313]\n",
    "            \n",
    "weights = ['distance']\n",
    "\n",
    "algorithms = ['kd_tree']\n",
    "\n",
    "predictionList = []\n",
    "scoreList = []\n",
    "\n",
    "for k in k_trials:\n",
    "    for w in weights:\n",
    "        for a in algorithms:\n",
    "            knn = neighbors.KNeighborsRegressor(k, weights=w, algorithm=a)\n",
    "            predictions = knn.fit(trainLX, trainLY).predict(cross2)\n",
    "            predictions = predictions.flatten()\n",
    "            predictionList.append('KNN-K'+str(k)+'-'+w+'-'+a)\n",
    "            score = mean_squared_error(crossValidation['price'].values, predictions)\n",
    "            scoreList.append(score)"
   ]
  },
  {
   "cell_type": "code",
   "execution_count": 45,
   "metadata": {},
   "outputs": [
    {
     "data": {
      "text/html": [
       "<div>\n",
       "<style>\n",
       "    .dataframe thead tr:only-child th {\n",
       "        text-align: right;\n",
       "    }\n",
       "\n",
       "    .dataframe thead th {\n",
       "        text-align: left;\n",
       "    }\n",
       "\n",
       "    .dataframe tbody tr th {\n",
       "        vertical-align: top;\n",
       "    }\n",
       "</style>\n",
       "<table border=\"1\" class=\"dataframe\">\n",
       "  <thead>\n",
       "    <tr style=\"text-align: right;\">\n",
       "      <th></th>\n",
       "      <th>parametros</th>\n",
       "      <th>score</th>\n",
       "    </tr>\n",
       "  </thead>\n",
       "  <tbody>\n",
       "    <tr>\n",
       "      <th>0</th>\n",
       "      <td>KNN-K313-distance-kd_tree</td>\n",
       "      <td>8.093340e+10</td>\n",
       "    </tr>\n",
       "  </tbody>\n",
       "</table>\n",
       "</div>"
      ],
      "text/plain": [
       "                  parametros         score\n",
       "0  KNN-K313-distance-kd_tree  8.093340e+10"
      ]
     },
     "execution_count": 45,
     "metadata": {},
     "output_type": "execute_result"
    }
   ],
   "source": [
    "resultados = pd.DataFrame()\n",
    "resultados['parametros'] = predictionList\n",
    "resultados['score'] = scoreList\n",
    "rOrder = resultados.sort_values('score',ascending= True)\n",
    "rOrder.head(20)"
   ]
  },
  {
   "cell_type": "code",
   "execution_count": null,
   "metadata": {
    "collapsed": true
   },
   "outputs": [],
   "source": []
  },
  {
   "cell_type": "code",
   "execution_count": null,
   "metadata": {
    "collapsed": true
   },
   "outputs": [],
   "source": []
  },
  {
   "cell_type": "code",
   "execution_count": 67,
   "metadata": {},
   "outputs": [
    {
     "name": "stdout",
     "output_type": "stream",
     "text": [
      "<class 'pandas.core.frame.DataFrame'>\n",
      "RangeIndex: 14166 entries, 0 to 14165\n",
      "Data columns (total 4 columns):\n",
      "id                       14166 non-null int64\n",
      "surface_covered_in_m2    13005 non-null float64\n",
      "place_name               14166 non-null object\n",
      "description              14166 non-null object\n",
      "dtypes: float64(1), int64(1), object(2)\n",
      "memory usage: 442.8+ KB\n"
     ]
    }
   ],
   "source": [
    "test= pd.read_csv('test.csv')\n",
    "testSubir = test[['id','surface_covered_in_m2','place_name','description']]\n",
    "testSubir.info()"
   ]
  },
  {
   "cell_type": "code",
   "execution_count": 68,
   "metadata": {},
   "outputs": [
    {
     "name": "stdout",
     "output_type": "stream",
     "text": [
      "<class 'pandas.core.frame.DataFrame'>\n",
      "RangeIndex: 14166 entries, 0 to 14165\n",
      "Data columns (total 17 columns):\n",
      "id                         14166 non-null int64\n",
      "created_on                 14166 non-null object\n",
      "property_type              14166 non-null object\n",
      "operation                  14166 non-null object\n",
      "place_name                 14166 non-null object\n",
      "place_with_parent_names    14166 non-null object\n",
      "country_name               14166 non-null object\n",
      "state_name                 14166 non-null object\n",
      "lat-lon                    10487 non-null object\n",
      "lat                        10487 non-null float64\n",
      "lon                        10487 non-null float64\n",
      "surface_total_in_m2        11853 non-null float64\n",
      "surface_covered_in_m2      14166 non-null float64\n",
      "floor                      1368 non-null float64\n",
      "rooms                      7500 non-null float64\n",
      "expenses                   2543 non-null object\n",
      "description                14166 non-null object\n",
      "dtypes: float64(6), int64(1), object(10)\n",
      "memory usage: 1.8+ MB\n"
     ]
    }
   ],
   "source": [
    "test['surface_covered_in_m2'] = test.groupby('place_name')['surface_covered_in_m2'].transform(lambda x: x.fillna(x.median()))\n",
    "test['surface_covered_in_m2'] = test['surface_covered_in_m2'].transform(lambda x: x.fillna(50))\n",
    "test.info()"
   ]
  },
  {
   "cell_type": "code",
   "execution_count": 69,
   "metadata": {},
   "outputs": [
    {
     "name": "stdout",
     "output_type": "stream",
     "text": [
      "<class 'pandas.core.frame.DataFrame'>\n",
      "RangeIndex: 14166 entries, 0 to 14165\n",
      "Data columns (total 4 columns):\n",
      "id                       14166 non-null int64\n",
      "surface_covered_in_m2    14166 non-null float64\n",
      "place_name               14166 non-null object\n",
      "description              14166 non-null object\n",
      "dtypes: float64(1), int64(1), object(2)\n",
      "memory usage: 442.8+ KB\n"
     ]
    }
   ],
   "source": [
    "testSubir = test[['id','surface_covered_in_m2','place_name','description']]\n",
    "testSubir.info()\n",
    "t = testSubir"
   ]
  },
  {
   "cell_type": "code",
   "execution_count": 70,
   "metadata": {
    "collapsed": true
   },
   "outputs": [],
   "source": [
    "t = testSubir"
   ]
  },
  {
   "cell_type": "code",
   "execution_count": 71,
   "metadata": {
    "collapsed": true
   },
   "outputs": [],
   "source": [
    "tiene_palabra(t,'pileta','piscina')\n",
    "tiene_palabra(t,'garage','cochera')\n",
    "tiene_palabra(t,'gimnasio','gym')\n",
    "tiene_palabra(t,'cancha','cancha')\n",
    "tiene_palabra(t,' frente',' frente')\n",
    "tiene_palabra(t,'contrafrente','contrafrente')\n",
    "tiene_palabra(t,'lavadero','lava')\n",
    "tiene_palabra(t,'nuevo','estrenar')\n",
    "tiene_palabra(t,'cuadras','cuadra')\n",
    "tiene_palabra(t,'playroom','sum')\n",
    "tiene_palabra(t,'excelente','hermosa')\n",
    "\n",
    "\n",
    "tiene_palabra(t,'centro','centrica')\n",
    "tiene_palabra(t,'patio','quincho')\n",
    "tiene_palabra(t,'madero','madero')\n",
    "tiene_palabra(t,'luminoso','iluminacion')\n",
    "tiene_palabra(t,'grande','espacio')\n",
    "tiene_palabra(t,'autopista','autopista')\n",
    "tiene_palabra(t,'tren','estacion')\n",
    "tiene_palabra(t,'cocina','comedor')\n",
    "tiene_palabra(t,'seguridad','camaras')\n",
    "tiene_palabra(t,'shopping','cine')\n",
    "\n",
    "tiene_palabra(t,'limpieza','cubiertos')\n",
    "tiene_palabra(t,'monoambiente','mono')\n",
    "tiene_palabra(t,'baja','primer')\n",
    "tiene_palabra(t,'parque','verde')\n",
    "tiene_palabra(t,'jardin','jardin')\n",
    "tiene_palabra(t,'living','comedor')\n",
    "tiene_palabra(t,'terraza','balcon')\n",
    "tiene_palabra(t,'parrila','parrila')\n",
    "tiene_palabra(t,'barrio cerrado','country')"
   ]
  },
  {
   "cell_type": "code",
   "execution_count": 72,
   "metadata": {},
   "outputs": [
    {
     "name": "stdout",
     "output_type": "stream",
     "text": [
      "<class 'pandas.core.frame.DataFrame'>\n",
      "RangeIndex: 14166 entries, 0 to 14165\n",
      "Data columns (total 34 columns):\n",
      "id                       14166 non-null int64\n",
      "surface_covered_in_m2    14166 non-null float64\n",
      "place_name               14166 non-null object\n",
      "description              14166 non-null object\n",
      "pileta                   14166 non-null int64\n",
      "garage                   14166 non-null int64\n",
      "gimnasio                 14166 non-null int64\n",
      "cancha                   14166 non-null int64\n",
      " frente                  14166 non-null int64\n",
      "contrafrente             14166 non-null int64\n",
      "lavadero                 14166 non-null int64\n",
      "nuevo                    14166 non-null int64\n",
      "cuadras                  14166 non-null int64\n",
      "playroom                 14166 non-null int64\n",
      "excelente                14166 non-null int64\n",
      "centro                   14166 non-null int64\n",
      "patio                    14166 non-null int64\n",
      "madero                   14166 non-null int64\n",
      "luminoso                 14166 non-null int64\n",
      "grande                   14166 non-null int64\n",
      "autopista                14166 non-null int64\n",
      "tren                     14166 non-null int64\n",
      "cocina                   14166 non-null int64\n",
      "seguridad                14166 non-null int64\n",
      "shopping                 14166 non-null int64\n",
      "limpieza                 14166 non-null int64\n",
      "monoambiente             14166 non-null int64\n",
      "baja                     14166 non-null int64\n",
      "parque                   14166 non-null int64\n",
      "jardin                   14166 non-null int64\n",
      "living                   14166 non-null int64\n",
      "terraza                  14166 non-null int64\n",
      "parrila                  14166 non-null int64\n",
      "barrio cerrado           14166 non-null int64\n",
      "dtypes: float64(1), int64(31), object(2)\n",
      "memory usage: 3.7+ MB\n"
     ]
    }
   ],
   "source": [
    "t.info()"
   ]
  },
  {
   "cell_type": "code",
   "execution_count": 73,
   "metadata": {
    "collapsed": true
   },
   "outputs": [],
   "source": [
    "t.to_csv('testMartin.csv')"
   ]
  },
  {
   "cell_type": "code",
   "execution_count": 58,
   "metadata": {},
   "outputs": [
    {
     "name": "stdout",
     "output_type": "stream",
     "text": [
      "<class 'pandas.core.frame.DataFrame'>\n",
      "RangeIndex: 14166 entries, 0 to 14165\n",
      "Data columns (total 32 columns):\n",
      "surface_covered_in_m2    14166 non-null float64\n",
      "description              14166 non-null object\n",
      "pileta                   14166 non-null int64\n",
      "garage                   14166 non-null int64\n",
      "gimnasio                 14166 non-null int64\n",
      "cancha                   14166 non-null int64\n",
      " frente                  14166 non-null int64\n",
      "contrafrente             14166 non-null int64\n",
      "lavadero                 14166 non-null int64\n",
      "nuevo                    14166 non-null int64\n",
      "cuadras                  14166 non-null int64\n",
      "playroom                 14166 non-null int64\n",
      "excelente                14166 non-null int64\n",
      "centro                   14166 non-null int64\n",
      "patio                    14166 non-null int64\n",
      "madero                   14166 non-null int64\n",
      "luminoso                 14166 non-null int64\n",
      "grande                   14166 non-null int64\n",
      "autopista                14166 non-null int64\n",
      "tren                     14166 non-null int64\n",
      "cocina                   14166 non-null int64\n",
      "seguridad                14166 non-null int64\n",
      "shopping                 14166 non-null int64\n",
      "limpieza                 14166 non-null int64\n",
      "monoambiente             14166 non-null int64\n",
      "baja                     14166 non-null int64\n",
      "parque                   14166 non-null int64\n",
      "jardin                   14166 non-null int64\n",
      "living                   14166 non-null int64\n",
      "terraza                  14166 non-null int64\n",
      "parrila                  14166 non-null int64\n",
      "barrio cerrado           14166 non-null int64\n",
      "dtypes: float64(1), int64(30), object(1)\n",
      "memory usage: 3.5+ MB\n"
     ]
    }
   ],
   "source": [
    "\n",
    "t = t.drop('description',1)\n",
    "\n"
   ]
  },
  {
   "cell_type": "code",
   "execution_count": 59,
   "metadata": {},
   "outputs": [
    {
     "data": {
      "text/plain": [
       "array([ 246082.44261107,  146333.16473423,  206200.        , ...,\n",
       "        210000.        ,  113383.13539066,  182834.35586082])"
      ]
     },
     "execution_count": 59,
     "metadata": {},
     "output_type": "execute_result"
    }
   ],
   "source": [
    "knn = neighbors.KNeighborsRegressor(321, weights='distance', algorithm='kd_tree')\n",
    "predictions = knn.fit(trainLX, trainLY).predict(t)\n",
    "predictions = predictions.flatten()\n",
    "predictions"
   ]
  },
  {
   "cell_type": "code",
   "execution_count": 61,
   "metadata": {
    "collapsed": true
   },
   "outputs": [],
   "source": [
    "predictions_df = pd.DataFrame()\n",
    "\n",
    "predictions_df['id'] = test['id']\n",
    "predictions_df['price_usd'] = predictions\n",
    "predictions_df = predictions_df[['id','price_usd']]\n",
    "predictions_df.to_csv('KNNdes.csv',index=False)\n"
   ]
  },
  {
   "cell_type": "code",
   "execution_count": null,
   "metadata": {
    "collapsed": true
   },
   "outputs": [],
   "source": []
  }
 ],
 "metadata": {
  "kernelspec": {
   "display_name": "Python 2",
   "language": "python",
   "name": "python2"
  }
 },
 "nbformat": 4,
 "nbformat_minor": 2
}
