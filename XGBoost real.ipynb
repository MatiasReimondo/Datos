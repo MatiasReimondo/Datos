{
 "cells": [
  {
   "cell_type": "code",
   "execution_count": 1,
   "metadata": {
    "collapsed": true
   },
   "outputs": [],
   "source": [
    "import numpy as np\n",
    "import pandas as pd\n",
    "\n",
    "from xgboost import XGBClassifier\n",
    "from sklearn.model_selection import train_test_split\n",
    "from sklearn.metrics import accuracy_score\n",
    "from sklearn.metrics import mean_squared_error\n",
    "from sklearn.metrics import median_absolute_error"
   ]
  },
  {
   "cell_type": "code",
   "execution_count": 2,
   "metadata": {
    "collapsed": true
   },
   "outputs": [],
   "source": [
    "#properties = pd.read_csv('trainPreProcess.csv')\n",
    "#testing = pd.read_csv('testPreProcess.csv')\n",
    "properties = pd.read_csv('martinTrain.csv')\n",
    "testing = pd.read_csv('martinTest.csv')"
   ]
  },
  {
   "cell_type": "code",
   "execution_count": 3,
   "metadata": {},
   "outputs": [
    {
     "name": "stdout",
     "output_type": "stream",
     "text": [
      "price_aprox_usd          1.000000\n",
      "pileta                   0.204898\n",
      "playroom                 0.116692\n",
      "lavadero                 0.113153\n",
      "cancha                   0.093863\n",
      "gimnasio                 0.091884\n",
      "jardin                   0.084994\n",
      "madero                   0.073849\n",
      "seguridad                0.066096\n",
      "garage                   0.063638\n",
      "excelente                0.062979\n",
      "grande                   0.062464\n",
      "shopping                 0.058566\n",
      "living                   0.056066\n",
      "limpieza                 0.044945\n",
      "baja                     0.041951\n",
      "barrio cerrado           0.037987\n",
      "parque                   0.034563\n",
      "terraza                  0.028343\n",
      "surface_covered_in_m2    0.013598\n",
      "patio                    0.009020\n",
      "parrila                  0.004129\n",
      "cocina                  -0.002722\n",
      "autopista               -0.008687\n",
      "place_name_encoded      -0.015104\n",
      "Unnamed: 0.1            -0.018176\n",
      "Unnamed: 0              -0.018758\n",
      " frente                 -0.026820\n",
      "tren                    -0.031106\n",
      "luminoso                -0.034589\n",
      "centro                  -0.035019\n",
      "nuevo                   -0.038678\n",
      "contrafrente            -0.042680\n",
      "cuadras                 -0.073901\n",
      "monoambiente            -0.102418\n",
      "Name: price_aprox_usd, dtype: float64\n"
     ]
    }
   ],
   "source": [
    "corr = properties.corr()\n",
    "corr.sort_values([\"price_aprox_usd\"], ascending = False, inplace = True)\n",
    "print(corr.price_aprox_usd)"
   ]
  },
  {
   "cell_type": "code",
   "execution_count": 4,
   "metadata": {
    "collapsed": true
   },
   "outputs": [],
   "source": [
    "#tomo pocos datos porque se hace muy lento el algoritmo si no (por ahora)\n",
    "train = properties.sample(2000)\n",
    "test = testing"
   ]
  },
  {
   "cell_type": "code",
   "execution_count": 5,
   "metadata": {},
   "outputs": [
    {
     "name": "stdout",
     "output_type": "stream",
     "text": [
      "32\n"
     ]
    }
   ],
   "source": [
    "#quito unnamed:0 y created_on, y dejo price al final, id al principio\n",
    "#train = train.loc[:, ['id', 'property_type_encoded', 'place_name_encoded', 'state_name_encoded', 'lat', 'lon', 'surface_covered_in_m2', 'surface_total_in_m2', 'floor', 'rooms', 'distancia_obelisco', 'distancia_minima_subte', 'distancia_minima_privado', 'distancia_minima_publico', 'price']]\n",
    "\n",
    "#OPTIMIZACION: quito distancias, lon, state_name_encoded y property_type_encoded\n",
    "train = train.loc[:, ['id', 'pileta', 'playroom', 'lavadero', 'cancha', 'gimnasio', 'jardin', 'madero', 'seguridad', 'garage', 'excelente', 'grande', 'shopping', 'living', 'limpieza', 'baja', 'barrio cerrado', 'parque', 'terraza', 'surface_covered_in_m2', 'patio', 'parrila', 'cocina', 'autopista', 'place_name_encoded', 'tren', 'luminoso', 'centro', 'nuevo', 'contrafrente', 'cuadras', 'monoambiente', 'price_aprox_usd']]\n",
    "test = test.loc[:, ['id', 'pileta', 'playroom', 'lavadero', 'cancha', 'gimnasio', 'jardin', 'madero', 'seguridad', 'garage', 'excelente', 'grande', 'shopping', 'living', 'limpieza', 'baja', 'barrio cerrado', 'parque', 'terraza', 'surface_covered_in_m2', 'patio', 'parrila', 'cocina', 'autopista', 'place_name_encoded', 'tren', 'luminoso', 'centro', 'nuevo', 'contrafrente', 'cuadras', 'monoambiente']]\n",
    "longitud = len(test.columns)\n",
    "print(longitud)"
   ]
  },
  {
   "cell_type": "code",
   "execution_count": 6,
   "metadata": {
    "collapsed": true
   },
   "outputs": [],
   "source": [
    "#XGBoost funciona con matrices, no con Df\n",
    "train = train.as_matrix()\n",
    "test = test.as_matrix()"
   ]
  },
  {
   "cell_type": "code",
   "execution_count": 7,
   "metadata": {
    "collapsed": true
   },
   "outputs": [],
   "source": [
    "#separo price\n",
    "X_train = train[:,0:longitud]\n",
    "Y_train = train[:,longitud]\n",
    "X_test = test[:,0:longitud]\n",
    "#Y_test = test[:,longitud]"
   ]
  },
  {
   "cell_type": "code",
   "execution_count": 8,
   "metadata": {
    "collapsed": true
   },
   "outputs": [],
   "source": [
    "#tomo los ids del test aparte para despues\n",
    "test_ids = X_test[:,0]"
   ]
  },
  {
   "cell_type": "code",
   "execution_count": 9,
   "metadata": {
    "collapsed": true
   },
   "outputs": [],
   "source": [
    "#quito los ids de los sets, XGBoost solo trabaja con floats e ints\n",
    "X_test = X_test[:,1:longitud]\n",
    "X_train = X_train[:,1:longitud]"
   ]
  },
  {
   "cell_type": "code",
   "execution_count": 10,
   "metadata": {},
   "outputs": [
    {
     "data": {
      "text/plain": [
       "XGBClassifier(base_score=0.5, booster='gbtree', colsample_bylevel=1,\n",
       "       colsample_bytree=1, gamma=0, learning_rate=0.1, max_delta_step=0,\n",
       "       max_depth=3, min_child_weight=1, missing=None, n_estimators=100,\n",
       "       n_jobs=1, nthread=None, objective='multi:softprob', random_state=0,\n",
       "       reg_alpha=0, reg_lambda=1, scale_pos_weight=1, seed=None,\n",
       "       silent=True, subsample=1)"
      ]
     },
     "execution_count": 10,
     "metadata": {},
     "output_type": "execute_result"
    }
   ],
   "source": [
    "#armo el modelo (va a tomarse su tiempo con mas de 1000)\n",
    "model = XGBClassifier(n_estimators=150, max_depth=4)\n",
    "model.fit(X_train, Y_train)"
   ]
  },
  {
   "cell_type": "code",
   "execution_count": 11,
   "metadata": {
    "collapsed": true
   },
   "outputs": [],
   "source": [
    "predictions = model.predict(X_test)"
   ]
  },
  {
   "cell_type": "code",
   "execution_count": 12,
   "metadata": {
    "collapsed": true
   },
   "outputs": [],
   "source": [
    "#score = mean_squared_error(Y_test, predictions)\n",
    "#score"
   ]
  },
  {
   "cell_type": "code",
   "execution_count": 13,
   "metadata": {
    "collapsed": true
   },
   "outputs": [],
   "source": [
    "#median_absolute_error(Y_test, predictions)"
   ]
  },
  {
   "cell_type": "code",
   "execution_count": 14,
   "metadata": {
    "collapsed": true
   },
   "outputs": [],
   "source": [
    "#armo un csv con id, precio real, y precio predicho por XGBoost\n",
    "predictionsflat = predictions.flatten()\n",
    "idsflat = test_ids.flatten()\n",
    "submissionDf = pd.DataFrame()\n",
    "#submissionDf['id'] = pd.Series(test_ids)\n",
    "submissionDf['id'] = pd.Series(test_ids.astype('int32'))\n",
    "submissionDf['price_usd'] = pd.Series(predictionsflat)\n",
    "#submissionDf['precio_xgb'] = pd.Series(predictionsflat)\n",
    "submissionDf.set_index(['id'], inplace=True)\n",
    "submissionDf.to_csv('predicciones_XGB.csv')"
   ]
  },
  {
   "cell_type": "code",
   "execution_count": 15,
   "metadata": {},
   "outputs": [
    {
     "data": {
      "text/html": [
       "<div>\n",
       "<style>\n",
       "    .dataframe thead tr:only-child th {\n",
       "        text-align: right;\n",
       "    }\n",
       "\n",
       "    .dataframe thead th {\n",
       "        text-align: left;\n",
       "    }\n",
       "\n",
       "    .dataframe tbody tr th {\n",
       "        vertical-align: top;\n",
       "    }\n",
       "</style>\n",
       "<table border=\"1\" class=\"dataframe\">\n",
       "  <thead>\n",
       "    <tr style=\"text-align: right;\">\n",
       "      <th></th>\n",
       "      <th>price_usd</th>\n",
       "    </tr>\n",
       "    <tr>\n",
       "      <th>id</th>\n",
       "      <th></th>\n",
       "    </tr>\n",
       "  </thead>\n",
       "  <tbody>\n",
       "    <tr>\n",
       "      <th>3632</th>\n",
       "      <td>170000</td>\n",
       "    </tr>\n",
       "    <tr>\n",
       "      <th>3633</th>\n",
       "      <td>116000</td>\n",
       "    </tr>\n",
       "    <tr>\n",
       "      <th>2263404</th>\n",
       "      <td>140000</td>\n",
       "    </tr>\n",
       "    <tr>\n",
       "      <th>2263405</th>\n",
       "      <td>80000</td>\n",
       "    </tr>\n",
       "    <tr>\n",
       "      <th>2263406</th>\n",
       "      <td>80000</td>\n",
       "    </tr>\n",
       "    <tr>\n",
       "      <th>2263407</th>\n",
       "      <td>80000</td>\n",
       "    </tr>\n",
       "    <tr>\n",
       "      <th>2263408</th>\n",
       "      <td>80000</td>\n",
       "    </tr>\n",
       "    <tr>\n",
       "      <th>2263409</th>\n",
       "      <td>80000</td>\n",
       "    </tr>\n",
       "    <tr>\n",
       "      <th>2263410</th>\n",
       "      <td>125000</td>\n",
       "    </tr>\n",
       "    <tr>\n",
       "      <th>2263411</th>\n",
       "      <td>85000</td>\n",
       "    </tr>\n",
       "  </tbody>\n",
       "</table>\n",
       "</div>"
      ],
      "text/plain": [
       "        price_usd\n",
       "id               \n",
       "3632       170000\n",
       "3633       116000\n",
       "2263404    140000\n",
       "2263405     80000\n",
       "2263406     80000\n",
       "2263407     80000\n",
       "2263408     80000\n",
       "2263409     80000\n",
       "2263410    125000\n",
       "2263411     85000"
      ]
     },
     "execution_count": 15,
     "metadata": {},
     "output_type": "execute_result"
    }
   ],
   "source": [
    "submissionDf.head(10)"
   ]
  },
  {
   "cell_type": "code",
   "execution_count": 16,
   "metadata": {
    "collapsed": true
   },
   "outputs": [],
   "source": [
    "#testnuevo= pd.merge(testing, submissionDf, on='id', how='outer')\n",
    "#testnuevo.to_csv('lexicoXGB.csv')"
   ]
  },
  {
   "cell_type": "code",
   "execution_count": null,
   "metadata": {
    "collapsed": true
   },
   "outputs": [],
   "source": []
  }
 ],
 "metadata": {
  "kernelspec": {
   "display_name": "Python 3",
   "language": "python",
   "name": "python3"
  },
  "language_info": {
   "codemirror_mode": {
    "name": "ipython",
    "version": 3
   },
   "file_extension": ".py",
   "mimetype": "text/x-python",
   "name": "python",
   "nbconvert_exporter": "python",
   "pygments_lexer": "ipython3",
   "version": "3.6.1"
  }
 },
 "nbformat": 4,
 "nbformat_minor": 2
}
